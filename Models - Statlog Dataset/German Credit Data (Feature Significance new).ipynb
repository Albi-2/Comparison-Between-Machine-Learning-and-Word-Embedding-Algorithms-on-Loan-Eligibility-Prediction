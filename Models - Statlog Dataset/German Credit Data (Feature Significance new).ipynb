{
 "cells": [
  {
   "cell_type": "markdown",
   "id": "1c853f78",
   "metadata": {},
   "source": [
    "# Feature significance of the various models on Statlog (German Credit Dataset)"
   ]
  },
  {
   "cell_type": "code",
   "execution_count": 155,
   "id": "2d2c91a5",
   "metadata": {},
   "outputs": [],
   "source": [
    "import warnings\n",
    "warnings.filterwarnings('ignore')\n",
    "warnings.simplefilter('ignore')"
   ]
  },
  {
   "cell_type": "code",
   "execution_count": 156,
   "id": "f460afa7",
   "metadata": {},
   "outputs": [],
   "source": [
    "import pandas as pd\n",
    "import matplotlib.pyplot as plt\n",
    "from matplotlib.patches import Rectangle\n",
    "import numpy as np\n",
    "from pprint import pprint as pp\n",
    "import csv\n",
    "from pathlib import Path\n",
    "import seaborn as sns\n",
    "from itertools import product\n",
    "import string\n",
    "\n",
    "import nltk\n",
    "from nltk.corpus import stopwords\n",
    "from nltk.stem.wordnet import WordNetLemmatizer\n",
    "\n",
    "from imblearn.over_sampling import SMOTE\n",
    "from imblearn.over_sampling import BorderlineSMOTE\n",
    "from imblearn.pipeline import Pipeline \n",
    "\n",
    "from sklearn.linear_model import LinearRegression, LogisticRegression\n",
    "from sklearn.model_selection import train_test_split, GridSearchCV\n",
    "from sklearn.tree import DecisionTreeClassifier\n",
    "from sklearn.metrics import r2_score, classification_report, confusion_matrix, accuracy_score, roc_auc_score, roc_curve, precision_recall_curve, average_precision_score\n",
    "from sklearn.metrics import homogeneity_score, silhouette_score\n",
    "from sklearn.ensemble import RandomForestClassifier, VotingClassifier\n",
    "from sklearn.preprocessing import MinMaxScaler\n",
    "from sklearn.cluster import MiniBatchKMeans, DBSCAN\n",
    "from sklearn.svm import SVC\n",
    "import lightgbm as lgb\n",
    "from xgboost import XGBClassifier\n",
    "\n",
    "import gensim\n",
    "from gensim import corpora"
   ]
  },
  {
   "cell_type": "code",
   "execution_count": 157,
   "id": "17e9cee7",
   "metadata": {},
   "outputs": [],
   "source": [
    "import pandas as pd\n",
    "from sklearn.model_selection import train_test_split\n",
    "from sklearn.metrics import classification_report, confusion_matrix\n",
    "from sklearn.linear_model import LinearRegression\n",
    "from sklearn.metrics import mean_squared_error, r2_score, precision_score, recall_score, f1_score, accuracy_score, confusion_matrix"
   ]
  },
  {
   "cell_type": "code",
   "execution_count": 158,
   "id": "e6238cb0",
   "metadata": {},
   "outputs": [],
   "source": [
    "from sklearn.model_selection import KFold\n",
    "from sklearn.linear_model import LinearRegression\n",
    "from sklearn.metrics import mean_squared_error, r2_score, precision_score, recall_score, f1_score, accuracy_score, confusion_matrix\n",
    "from sklearn.model_selection import cross_val_predict"
   ]
  },
  {
   "cell_type": "code",
   "execution_count": 159,
   "id": "75e8fc37",
   "metadata": {},
   "outputs": [],
   "source": [
    "from imblearn.under_sampling import RandomUnderSampler\n",
    "from imblearn.over_sampling import RandomOverSampler\n",
    "from imblearn.over_sampling import SMOTE\n",
    "from imblearn.combine import SMOTEENN\n",
    "from imblearn.combine import SMOTETomek"
   ]
  },
  {
   "cell_type": "code",
   "execution_count": 160,
   "id": "c5eb141e",
   "metadata": {},
   "outputs": [],
   "source": [
    "from sklearn.ensemble import BaggingClassifier\n",
    "from sklearn.tree import DecisionTreeClassifier"
   ]
  },
  {
   "cell_type": "code",
   "execution_count": 161,
   "id": "3a2f6ec4",
   "metadata": {},
   "outputs": [],
   "source": [
    "import pandas as pd\n",
    "import numpy as np\n",
    "from sklearn.model_selection import train_test_split\n",
    "from sklearn.ensemble import RandomForestClassifier\n",
    "from sklearn.metrics import accuracy_score\n",
    "from scipy.stats import ttest_ind\n",
    "from math import sqrt\n",
    "from scipy.stats import mannwhitneyu"
   ]
  },
  {
   "cell_type": "code",
   "execution_count": 162,
   "id": "02998fc1",
   "metadata": {},
   "outputs": [],
   "source": [
    "import nltk\n",
    "#nltk.download('stopwords')\n",
    "from nltk.corpus import stopwords\n",
    "from nltk.tokenize import word_tokenize\n",
    "import string\n",
    "from gensim.models import Word2Vec\n",
    "from gensim.models import FastText\n",
    "import numpy as np\n",
    "np.random.seed(42)"
   ]
  },
  {
   "cell_type": "code",
   "execution_count": 163,
   "id": "378df2f2",
   "metadata": {},
   "outputs": [],
   "source": [
    "pd.set_option('display.max_columns', None)"
   ]
  },
  {
   "cell_type": "markdown",
   "id": "a0db62d0",
   "metadata": {},
   "source": [
    "### Retrieving the data"
   ]
  },
  {
   "cell_type": "markdown",
   "id": "10513ea6",
   "metadata": {},
   "source": [
    "#### DF 5"
   ]
  },
  {
   "cell_type": "code",
   "execution_count": 164,
   "id": "dc3d2069",
   "metadata": {},
   "outputs": [],
   "source": [
    "df5 = pd.read_csv('df5.csv')"
   ]
  },
  {
   "cell_type": "code",
   "execution_count": 165,
   "id": "82ed7cb1",
   "metadata": {},
   "outputs": [
    {
     "data": {
      "text/html": [
       "<div>\n",
       "<style scoped>\n",
       "    .dataframe tbody tr th:only-of-type {\n",
       "        vertical-align: middle;\n",
       "    }\n",
       "\n",
       "    .dataframe tbody tr th {\n",
       "        vertical-align: top;\n",
       "    }\n",
       "\n",
       "    .dataframe thead th {\n",
       "        text-align: right;\n",
       "    }\n",
       "</style>\n",
       "<table border=\"1\" class=\"dataframe\">\n",
       "  <thead>\n",
       "    <tr style=\"text-align: right;\">\n",
       "      <th></th>\n",
       "      <th>Unnamed: 0</th>\n",
       "      <th>account_balance</th>\n",
       "      <th>duration</th>\n",
       "      <th>credit_history</th>\n",
       "      <th>purpose</th>\n",
       "      <th>credit_amount</th>\n",
       "      <th>savings_bond_value</th>\n",
       "      <th>employed_since</th>\n",
       "      <th>intallment_rate</th>\n",
       "      <th>sex_marital</th>\n",
       "      <th>guarantor</th>\n",
       "      <th>residence_since</th>\n",
       "      <th>property</th>\n",
       "      <th>age</th>\n",
       "      <th>other_installment_plans</th>\n",
       "      <th>type_of_housing</th>\n",
       "      <th>nr_of_existing_credits</th>\n",
       "      <th>job</th>\n",
       "      <th>number_of_dependents</th>\n",
       "      <th>telephone</th>\n",
       "      <th>foreign</th>\n",
       "      <th>target</th>\n",
       "    </tr>\n",
       "  </thead>\n",
       "  <tbody>\n",
       "    <tr>\n",
       "      <th>0</th>\n",
       "      <td>0</td>\n",
       "      <td>0</td>\n",
       "      <td>0</td>\n",
       "      <td>4</td>\n",
       "      <td>4</td>\n",
       "      <td>1</td>\n",
       "      <td>4</td>\n",
       "      <td>4</td>\n",
       "      <td>3</td>\n",
       "      <td>2</td>\n",
       "      <td>0</td>\n",
       "      <td>3</td>\n",
       "      <td>0</td>\n",
       "      <td>9</td>\n",
       "      <td>2</td>\n",
       "      <td>1</td>\n",
       "      <td>1</td>\n",
       "      <td>2</td>\n",
       "      <td>0</td>\n",
       "      <td>1</td>\n",
       "      <td>0</td>\n",
       "      <td>1</td>\n",
       "    </tr>\n",
       "    <tr>\n",
       "      <th>1</th>\n",
       "      <td>1</td>\n",
       "      <td>1</td>\n",
       "      <td>7</td>\n",
       "      <td>2</td>\n",
       "      <td>4</td>\n",
       "      <td>8</td>\n",
       "      <td>0</td>\n",
       "      <td>2</td>\n",
       "      <td>1</td>\n",
       "      <td>1</td>\n",
       "      <td>0</td>\n",
       "      <td>1</td>\n",
       "      <td>0</td>\n",
       "      <td>0</td>\n",
       "      <td>2</td>\n",
       "      <td>1</td>\n",
       "      <td>0</td>\n",
       "      <td>2</td>\n",
       "      <td>0</td>\n",
       "      <td>0</td>\n",
       "      <td>0</td>\n",
       "      <td>2</td>\n",
       "    </tr>\n",
       "  </tbody>\n",
       "</table>\n",
       "</div>"
      ],
      "text/plain": [
       "   Unnamed: 0  account_balance  duration  credit_history  purpose  \\\n",
       "0           0                0         0               4        4   \n",
       "1           1                1         7               2        4   \n",
       "\n",
       "   credit_amount  savings_bond_value  employed_since  intallment_rate  \\\n",
       "0              1                   4               4                3   \n",
       "1              8                   0               2                1   \n",
       "\n",
       "   sex_marital  guarantor  residence_since  property  age  \\\n",
       "0            2          0                3         0    9   \n",
       "1            1          0                1         0    0   \n",
       "\n",
       "   other_installment_plans  type_of_housing  nr_of_existing_credits  job  \\\n",
       "0                        2                1                       1    2   \n",
       "1                        2                1                       0    2   \n",
       "\n",
       "   number_of_dependents  telephone  foreign  target  \n",
       "0                     0          1        0       1  \n",
       "1                     0          0        0       2  "
      ]
     },
     "execution_count": 165,
     "metadata": {},
     "output_type": "execute_result"
    }
   ],
   "source": [
    "df5.head(2)"
   ]
  },
  {
   "cell_type": "markdown",
   "id": "fed385af",
   "metadata": {},
   "source": [
    "#### DF 5c"
   ]
  },
  {
   "cell_type": "code",
   "execution_count": 166,
   "id": "4218b67b",
   "metadata": {},
   "outputs": [],
   "source": [
    "df5c = pd.read_csv('df5c.csv')"
   ]
  },
  {
   "cell_type": "code",
   "execution_count": 167,
   "id": "026f4728",
   "metadata": {
    "scrolled": true
   },
   "outputs": [
    {
     "data": {
      "text/html": [
       "<div>\n",
       "<style scoped>\n",
       "    .dataframe tbody tr th:only-of-type {\n",
       "        vertical-align: middle;\n",
       "    }\n",
       "\n",
       "    .dataframe tbody tr th {\n",
       "        vertical-align: top;\n",
       "    }\n",
       "\n",
       "    .dataframe thead th {\n",
       "        text-align: right;\n",
       "    }\n",
       "</style>\n",
       "<table border=\"1\" class=\"dataframe\">\n",
       "  <thead>\n",
       "    <tr style=\"text-align: right;\">\n",
       "      <th></th>\n",
       "      <th>Unnamed: 0</th>\n",
       "      <th>account_balance</th>\n",
       "      <th>duration</th>\n",
       "      <th>credit_history</th>\n",
       "      <th>purpose</th>\n",
       "      <th>credit_amount</th>\n",
       "      <th>savings_bond_value</th>\n",
       "      <th>employed_since</th>\n",
       "      <th>intallment_rate</th>\n",
       "      <th>sex_marital</th>\n",
       "      <th>guarantor</th>\n",
       "      <th>residence_since</th>\n",
       "      <th>property</th>\n",
       "      <th>age</th>\n",
       "      <th>other_installment_plans</th>\n",
       "      <th>type_of_housing</th>\n",
       "      <th>nr_of_existing_credits</th>\n",
       "      <th>job</th>\n",
       "      <th>number_of_dependents</th>\n",
       "      <th>telephone</th>\n",
       "      <th>foreign</th>\n",
       "      <th>target</th>\n",
       "    </tr>\n",
       "  </thead>\n",
       "  <tbody>\n",
       "    <tr>\n",
       "      <th>0</th>\n",
       "      <td>0</td>\n",
       "      <td>0</td>\n",
       "      <td>6</td>\n",
       "      <td>4</td>\n",
       "      <td>4</td>\n",
       "      <td>1169</td>\n",
       "      <td>4</td>\n",
       "      <td>4</td>\n",
       "      <td>4</td>\n",
       "      <td>2</td>\n",
       "      <td>0</td>\n",
       "      <td>4</td>\n",
       "      <td>0</td>\n",
       "      <td>67</td>\n",
       "      <td>2</td>\n",
       "      <td>1</td>\n",
       "      <td>2</td>\n",
       "      <td>2</td>\n",
       "      <td>1</td>\n",
       "      <td>1</td>\n",
       "      <td>0</td>\n",
       "      <td>1</td>\n",
       "    </tr>\n",
       "    <tr>\n",
       "      <th>1</th>\n",
       "      <td>1</td>\n",
       "      <td>1</td>\n",
       "      <td>48</td>\n",
       "      <td>2</td>\n",
       "      <td>4</td>\n",
       "      <td>5951</td>\n",
       "      <td>0</td>\n",
       "      <td>2</td>\n",
       "      <td>2</td>\n",
       "      <td>1</td>\n",
       "      <td>0</td>\n",
       "      <td>2</td>\n",
       "      <td>0</td>\n",
       "      <td>22</td>\n",
       "      <td>2</td>\n",
       "      <td>1</td>\n",
       "      <td>1</td>\n",
       "      <td>2</td>\n",
       "      <td>1</td>\n",
       "      <td>0</td>\n",
       "      <td>0</td>\n",
       "      <td>2</td>\n",
       "    </tr>\n",
       "  </tbody>\n",
       "</table>\n",
       "</div>"
      ],
      "text/plain": [
       "   Unnamed: 0  account_balance  duration  credit_history  purpose  \\\n",
       "0           0                0         6               4        4   \n",
       "1           1                1        48               2        4   \n",
       "\n",
       "   credit_amount  savings_bond_value  employed_since  intallment_rate  \\\n",
       "0           1169                   4               4                4   \n",
       "1           5951                   0               2                2   \n",
       "\n",
       "   sex_marital  guarantor  residence_since  property  age  \\\n",
       "0            2          0                4         0   67   \n",
       "1            1          0                2         0   22   \n",
       "\n",
       "   other_installment_plans  type_of_housing  nr_of_existing_credits  job  \\\n",
       "0                        2                1                       2    2   \n",
       "1                        2                1                       1    2   \n",
       "\n",
       "   number_of_dependents  telephone  foreign  target  \n",
       "0                     1          1        0       1  \n",
       "1                     1          0        0       2  "
      ]
     },
     "execution_count": 167,
     "metadata": {},
     "output_type": "execute_result"
    }
   ],
   "source": [
    "df5c.head(2)"
   ]
  },
  {
   "cell_type": "markdown",
   "id": "f7670e67",
   "metadata": {},
   "source": [
    "#### DF7"
   ]
  },
  {
   "cell_type": "code",
   "execution_count": 168,
   "id": "e35c8014",
   "metadata": {},
   "outputs": [],
   "source": [
    "#df7 = pd.read_csv('df7.csv')\n",
    "df7 = pd.read_csv('df7.csv', index_col=0)"
   ]
  },
  {
   "cell_type": "code",
   "execution_count": 169,
   "id": "09a1e108",
   "metadata": {},
   "outputs": [
    {
     "data": {
      "text/html": [
       "<div>\n",
       "<style scoped>\n",
       "    .dataframe tbody tr th:only-of-type {\n",
       "        vertical-align: middle;\n",
       "    }\n",
       "\n",
       "    .dataframe tbody tr th {\n",
       "        vertical-align: top;\n",
       "    }\n",
       "\n",
       "    .dataframe thead th {\n",
       "        text-align: right;\n",
       "    }\n",
       "</style>\n",
       "<table border=\"1\" class=\"dataframe\">\n",
       "  <thead>\n",
       "    <tr style=\"text-align: right;\">\n",
       "      <th></th>\n",
       "      <th>account_balance</th>\n",
       "      <th>duration</th>\n",
       "      <th>credit_history</th>\n",
       "      <th>purpose</th>\n",
       "      <th>credit_amount</th>\n",
       "      <th>savings_bond_value</th>\n",
       "      <th>employed_since</th>\n",
       "      <th>intallment_rate</th>\n",
       "      <th>sex_marital</th>\n",
       "      <th>guarantor</th>\n",
       "      <th>residence_since</th>\n",
       "      <th>property</th>\n",
       "      <th>age</th>\n",
       "      <th>other_installment_plans</th>\n",
       "      <th>type_of_housing</th>\n",
       "      <th>nr_of_existing_credits</th>\n",
       "      <th>job</th>\n",
       "      <th>number_of_dependents</th>\n",
       "      <th>telephone</th>\n",
       "      <th>foreign</th>\n",
       "      <th>target</th>\n",
       "      <th>content</th>\n",
       "    </tr>\n",
       "  </thead>\n",
       "  <tbody>\n",
       "    <tr>\n",
       "      <th>0</th>\n",
       "      <td>A11</td>\n",
       "      <td>A20</td>\n",
       "      <td>A34</td>\n",
       "      <td>A43</td>\n",
       "      <td>A51</td>\n",
       "      <td>A65</td>\n",
       "      <td>A75</td>\n",
       "      <td>A84</td>\n",
       "      <td>A93</td>\n",
       "      <td>A101</td>\n",
       "      <td>A114</td>\n",
       "      <td>A121</td>\n",
       "      <td>A139</td>\n",
       "      <td>A143</td>\n",
       "      <td>A152</td>\n",
       "      <td>A162</td>\n",
       "      <td>A173</td>\n",
       "      <td>A181</td>\n",
       "      <td>A192</td>\n",
       "      <td>A201</td>\n",
       "      <td>__label__1</td>\n",
       "      <td>__label__1 A11 A20 A34 A43 A51 A65 A75 A84 A93...</td>\n",
       "    </tr>\n",
       "    <tr>\n",
       "      <th>1</th>\n",
       "      <td>A12</td>\n",
       "      <td>A27</td>\n",
       "      <td>A32</td>\n",
       "      <td>A43</td>\n",
       "      <td>A58</td>\n",
       "      <td>A61</td>\n",
       "      <td>A73</td>\n",
       "      <td>A82</td>\n",
       "      <td>A92</td>\n",
       "      <td>A101</td>\n",
       "      <td>A112</td>\n",
       "      <td>A121</td>\n",
       "      <td>A130</td>\n",
       "      <td>A143</td>\n",
       "      <td>A152</td>\n",
       "      <td>A161</td>\n",
       "      <td>A173</td>\n",
       "      <td>A181</td>\n",
       "      <td>A191</td>\n",
       "      <td>A201</td>\n",
       "      <td>__label__2</td>\n",
       "      <td>__label__2 A12 A27 A32 A43 A58 A61 A73 A82 A92...</td>\n",
       "    </tr>\n",
       "  </tbody>\n",
       "</table>\n",
       "</div>"
      ],
      "text/plain": [
       "  account_balance duration credit_history purpose credit_amount  \\\n",
       "0             A11      A20            A34     A43           A51   \n",
       "1             A12      A27            A32     A43           A58   \n",
       "\n",
       "  savings_bond_value employed_since intallment_rate sex_marital guarantor  \\\n",
       "0                A65            A75             A84         A93      A101   \n",
       "1                A61            A73             A82         A92      A101   \n",
       "\n",
       "  residence_since property   age other_installment_plans type_of_housing  \\\n",
       "0            A114     A121  A139                    A143            A152   \n",
       "1            A112     A121  A130                    A143            A152   \n",
       "\n",
       "  nr_of_existing_credits   job number_of_dependents telephone foreign  \\\n",
       "0                   A162  A173                 A181      A192    A201   \n",
       "1                   A161  A173                 A181      A191    A201   \n",
       "\n",
       "       target                                            content  \n",
       "0  __label__1  __label__1 A11 A20 A34 A43 A51 A65 A75 A84 A93...  \n",
       "1  __label__2  __label__2 A12 A27 A32 A43 A58 A61 A73 A82 A92...  "
      ]
     },
     "execution_count": 169,
     "metadata": {},
     "output_type": "execute_result"
    }
   ],
   "source": [
    "df7.head(2)"
   ]
  },
  {
   "cell_type": "code",
   "execution_count": null,
   "id": "7b3d6ea0",
   "metadata": {},
   "outputs": [],
   "source": []
  },
  {
   "cell_type": "markdown",
   "id": "a7f9963f",
   "metadata": {},
   "source": [
    "# Models"
   ]
  },
  {
   "cell_type": "code",
   "execution_count": 170,
   "id": "2b0bea07",
   "metadata": {},
   "outputs": [],
   "source": [
    "# Initialize lists to store evaluation metrics for each fold\n",
    "dataset_used = []\n",
    "model_used = []\n",
    "data_balancing_technique = []\n",
    "accuracy_scores = []\n",
    "precision_scores = []\n",
    "recall_scores = []\n",
    "f1_scores = []\n",
    "conf_matrices = []"
   ]
  },
  {
   "cell_type": "code",
   "execution_count": 171,
   "id": "4e6d6d07",
   "metadata": {},
   "outputs": [],
   "source": [
    "#combined_metrics = pd.DataFrame()\n",
    "\n",
    "combined_metrics = pd.DataFrame(columns=['dataset', 'model', 'data balancing technique', 'fold', 'precision_1','precision_2','recall_1','recall_2','f1-score_1','f1-score_2','support_1','support_2','TP','FP','TN','FN'])"
   ]
  },
  {
   "cell_type": "code",
   "execution_count": null,
   "id": "aed81618",
   "metadata": {},
   "outputs": [],
   "source": []
  },
  {
   "cell_type": "markdown",
   "id": "942b67d7",
   "metadata": {},
   "source": [
    "# Linear Regression"
   ]
  },
  {
   "cell_type": "code",
   "execution_count": 172,
   "id": "ec148597",
   "metadata": {},
   "outputs": [],
   "source": [
    "# Assuming df5c is your DataFrame\n",
    "# Drop the target column and the first column (assuming it's the index or another non-feature column)\n",
    "X = df5c.drop(columns=['target']).iloc[:, 1:]\n",
    "y = df5c['target']"
   ]
  },
  {
   "cell_type": "code",
   "execution_count": 173,
   "id": "8a700f82",
   "metadata": {},
   "outputs": [],
   "source": [
    "# Split the data into training and testing sets\n",
    "X_train, X_test, y_train, y_test = train_test_split(X, y, test_size=0.2, random_state=42)"
   ]
  },
  {
   "cell_type": "code",
   "execution_count": 174,
   "id": "27d9e927",
   "metadata": {},
   "outputs": [
    {
     "data": {
      "text/html": [
       "<style>#sk-container-id-9 {color: black;background-color: white;}#sk-container-id-9 pre{padding: 0;}#sk-container-id-9 div.sk-toggleable {background-color: white;}#sk-container-id-9 label.sk-toggleable__label {cursor: pointer;display: block;width: 100%;margin-bottom: 0;padding: 0.3em;box-sizing: border-box;text-align: center;}#sk-container-id-9 label.sk-toggleable__label-arrow:before {content: \"▸\";float: left;margin-right: 0.25em;color: #696969;}#sk-container-id-9 label.sk-toggleable__label-arrow:hover:before {color: black;}#sk-container-id-9 div.sk-estimator:hover label.sk-toggleable__label-arrow:before {color: black;}#sk-container-id-9 div.sk-toggleable__content {max-height: 0;max-width: 0;overflow: hidden;text-align: left;background-color: #f0f8ff;}#sk-container-id-9 div.sk-toggleable__content pre {margin: 0.2em;color: black;border-radius: 0.25em;background-color: #f0f8ff;}#sk-container-id-9 input.sk-toggleable__control:checked~div.sk-toggleable__content {max-height: 200px;max-width: 100%;overflow: auto;}#sk-container-id-9 input.sk-toggleable__control:checked~label.sk-toggleable__label-arrow:before {content: \"▾\";}#sk-container-id-9 div.sk-estimator input.sk-toggleable__control:checked~label.sk-toggleable__label {background-color: #d4ebff;}#sk-container-id-9 div.sk-label input.sk-toggleable__control:checked~label.sk-toggleable__label {background-color: #d4ebff;}#sk-container-id-9 input.sk-hidden--visually {border: 0;clip: rect(1px 1px 1px 1px);clip: rect(1px, 1px, 1px, 1px);height: 1px;margin: -1px;overflow: hidden;padding: 0;position: absolute;width: 1px;}#sk-container-id-9 div.sk-estimator {font-family: monospace;background-color: #f0f8ff;border: 1px dotted black;border-radius: 0.25em;box-sizing: border-box;margin-bottom: 0.5em;}#sk-container-id-9 div.sk-estimator:hover {background-color: #d4ebff;}#sk-container-id-9 div.sk-parallel-item::after {content: \"\";width: 100%;border-bottom: 1px solid gray;flex-grow: 1;}#sk-container-id-9 div.sk-label:hover label.sk-toggleable__label {background-color: #d4ebff;}#sk-container-id-9 div.sk-serial::before {content: \"\";position: absolute;border-left: 1px solid gray;box-sizing: border-box;top: 0;bottom: 0;left: 50%;z-index: 0;}#sk-container-id-9 div.sk-serial {display: flex;flex-direction: column;align-items: center;background-color: white;padding-right: 0.2em;padding-left: 0.2em;position: relative;}#sk-container-id-9 div.sk-item {position: relative;z-index: 1;}#sk-container-id-9 div.sk-parallel {display: flex;align-items: stretch;justify-content: center;background-color: white;position: relative;}#sk-container-id-9 div.sk-item::before, #sk-container-id-9 div.sk-parallel-item::before {content: \"\";position: absolute;border-left: 1px solid gray;box-sizing: border-box;top: 0;bottom: 0;left: 50%;z-index: -1;}#sk-container-id-9 div.sk-parallel-item {display: flex;flex-direction: column;z-index: 1;position: relative;background-color: white;}#sk-container-id-9 div.sk-parallel-item:first-child::after {align-self: flex-end;width: 50%;}#sk-container-id-9 div.sk-parallel-item:last-child::after {align-self: flex-start;width: 50%;}#sk-container-id-9 div.sk-parallel-item:only-child::after {width: 0;}#sk-container-id-9 div.sk-dashed-wrapped {border: 1px dashed gray;margin: 0 0.4em 0.5em 0.4em;box-sizing: border-box;padding-bottom: 0.4em;background-color: white;}#sk-container-id-9 div.sk-label label {font-family: monospace;font-weight: bold;display: inline-block;line-height: 1.2em;}#sk-container-id-9 div.sk-label-container {text-align: center;}#sk-container-id-9 div.sk-container {/* jupyter's `normalize.less` sets `[hidden] { display: none; }` but bootstrap.min.css set `[hidden] { display: none !important; }` so we also need the `!important` here to be able to override the default hidden behavior on the sphinx rendered scikit-learn.org. See: https://github.com/scikit-learn/scikit-learn/issues/21755 */display: inline-block !important;position: relative;}#sk-container-id-9 div.sk-text-repr-fallback {display: none;}</style><div id=\"sk-container-id-9\" class=\"sk-top-container\"><div class=\"sk-text-repr-fallback\"><pre>LinearRegression()</pre><b>In a Jupyter environment, please rerun this cell to show the HTML representation or trust the notebook. <br />On GitHub, the HTML representation is unable to render, please try loading this page with nbviewer.org.</b></div><div class=\"sk-container\" hidden><div class=\"sk-item\"><div class=\"sk-estimator sk-toggleable\"><input class=\"sk-toggleable__control sk-hidden--visually\" id=\"sk-estimator-id-11\" type=\"checkbox\" checked><label for=\"sk-estimator-id-11\" class=\"sk-toggleable__label sk-toggleable__label-arrow\">LinearRegression</label><div class=\"sk-toggleable__content\"><pre>LinearRegression()</pre></div></div></div></div></div>"
      ],
      "text/plain": [
       "LinearRegression()"
      ]
     },
     "execution_count": 174,
     "metadata": {},
     "output_type": "execute_result"
    }
   ],
   "source": [
    "# Initialize Linear Regression model\n",
    "linr = LinearRegression()\n",
    "# Train the model\n",
    "linr.fit(X_train, y_train)"
   ]
  },
  {
   "cell_type": "code",
   "execution_count": 175,
   "id": "592397b2",
   "metadata": {},
   "outputs": [
    {
     "name": "stdout",
     "output_type": "stream",
     "text": [
      "Accuracy: 0.78\n"
     ]
    }
   ],
   "source": [
    "# Predict and evaluate the model\n",
    "y_pred = linr.predict(X_test)\n",
    "\n",
    "y_pred = np.round(y_pred)\n",
    "    \n",
    "y_pred[y_pred <= 0] = 1\n",
    "y_pred[y_pred >= 2] = 2\n",
    "\n",
    "accuracy = accuracy_score(y_test, y_pred.round())\n",
    "print(f'Accuracy: {accuracy:.2f}')"
   ]
  },
  {
   "cell_type": "code",
   "execution_count": 176,
   "id": "07d2b45d",
   "metadata": {},
   "outputs": [],
   "source": [
    "# Step 2: Split the Dataset Based on Prediction Accuracy\n",
    "correct_indices = np.where(y_test == y_pred)[0]\n",
    "incorrect_indices = np.where(y_test != y_pred)[0]\n",
    "\n",
    "X_correct = X_test.iloc[correct_indices]\n",
    "X_incorrect = X_test.iloc[incorrect_indices]"
   ]
  },
  {
   "cell_type": "code",
   "execution_count": 177,
   "id": "2b9e3e5e",
   "metadata": {},
   "outputs": [],
   "source": [
    "results = {}\n",
    "for feature in X.columns:\n",
    "    correct_values = X_correct[feature]\n",
    "    incorrect_values = X_incorrect[feature]\n",
    "    \n",
    "    # Perform Mann-Whitney U test\n",
    "    u_stat, p_value = mannwhitneyu(correct_values, incorrect_values, alternative='two-sided')\n",
    "    \n",
    "    # Calculate Rank-Biserial Correlation (effect size)\n",
    "    n1 = len(correct_values)\n",
    "    n2 = len(incorrect_values)\n",
    "    rank_biserial = (2 * u_stat / (n1 * n2)) - 1\n",
    "    \n",
    "    results[feature] = (u_stat, p_value, rank_biserial)"
   ]
  },
  {
   "cell_type": "code",
   "execution_count": 178,
   "id": "17ff6024",
   "metadata": {},
   "outputs": [],
   "source": [
    "# Convert results to a DataFrame for easier interpretation\n",
    "results_df = pd.DataFrame(results, index=['u_stat', 'p_value', 'effect_size']).T\n",
    "\n",
    "# Calculate the proportion of each attribute's contribution\n",
    "# Convert absolute rank-biserial values to importance scores\n",
    "#results_df['importance'] = results_df['effect_size'].abs()\n",
    "results_df['proportion'] = results_df['effect_size'].abs() / results_df['effect_size'].abs().sum()\n",
    "\n",
    "# Normalize the importance scores to get proportions\n",
    "#results_df['proportion'] = results_df['importance'].abs() / results_df['importance'].abs().sum()\n",
    "\n",
    "# Sort by proportion\n",
    "results_df = results_df.sort_values(by='proportion', ascending=False)"
   ]
  },
  {
   "cell_type": "code",
   "execution_count": 179,
   "id": "bcdd7d80",
   "metadata": {
    "scrolled": false
   },
   "outputs": [
    {
     "name": "stdout",
     "output_type": "stream",
     "text": [
      "\n",
      "Feature Importance (sorted by proportion):\n",
      "                         u_stat   p_value  effect_size  proportion\n",
      "account_balance          4786.0  0.000028     0.394522    0.204594\n",
      "savings_bond_value       4249.5  0.004671     0.238199    0.123527\n",
      "other_installment_plans  3972.0  0.024924     0.157343    0.081596\n",
      "job                      3854.5  0.147751     0.123106    0.063841\n",
      "credit_history           3847.5  0.173159     0.121066    0.062783\n",
      "nr_of_existing_credits   3841.5  0.147669     0.119318    0.061877\n",
      "duration                 3039.0  0.242971    -0.114510    0.059383\n",
      "residence_since          3814.5  0.234738     0.111451    0.057797\n",
      "credit_amount            3728.5  0.382683     0.086393    0.044802\n",
      "telephone                3728.0  0.288170     0.086247    0.044727\n",
      "purpose                  3710.5  0.402022     0.081148    0.042082\n",
      "intallment_rate          3203.5  0.471459    -0.066579    0.034527\n",
      "guarantor                3226.5  0.157041    -0.059878    0.031052\n",
      "age                      3236.5  0.564935    -0.056964    0.029541\n",
      "sex_marital              3570.0  0.654107     0.040210    0.020852\n",
      "employed_since           3552.0  0.714853     0.034965    0.018132\n",
      "number_of_dependents     3512.0  0.735053     0.023310    0.012088\n",
      "property                 3473.0  0.901143     0.011946    0.006195\n",
      "type_of_housing          3430.0  0.995617    -0.000583    0.000302\n",
      "foreign                  3430.0  0.990170    -0.000583    0.000302\n"
     ]
    }
   ],
   "source": [
    "print(\"\\nFeature Importance (sorted by proportion):\")\n",
    "print(results_df)"
   ]
  },
  {
   "cell_type": "code",
   "execution_count": 180,
   "id": "e09fe774",
   "metadata": {
    "scrolled": false
   },
   "outputs": [
    {
     "data": {
      "image/png": "[encoded data removed]",
      "text/plain": [
       "<Figure size 1000x600 with 1 Axes>"
      ]
     },
     "metadata": {},
     "output_type": "display_data"
    }
   ],
   "source": [
    "# Plot Feature Importance\n",
    "plt.figure(figsize=(10, 6))\n",
    "plt.barh(results_df.index, results_df['proportion'])\n",
    "plt.xlabel('Importance')\n",
    "plt.ylabel('Feature')\n",
    "plt.title('Feature Importance from Linear Regression')\n",
    "plt.gca().invert_yaxis()\n",
    "plt.show()"
   ]
  },
  {
   "cell_type": "code",
   "execution_count": 181,
   "id": "c426befa",
   "metadata": {},
   "outputs": [],
   "source": [
    "# Add Rank column\n",
    "results_df['rank'] = range(1, len(results_df) + 1)\n",
    "\n",
    "# Add Model column with fixed value 'x'\n",
    "results_df['model'] = 'Linear Regression'\n",
    "\n",
    "# First, reset the index to move the current index into a column named 'feature'\n",
    "results_df = results_df.reset_index().rename(columns={'index': 'feature'})"
   ]
  },
  {
   "cell_type": "code",
   "execution_count": 182,
   "id": "fc316b4b",
   "metadata": {},
   "outputs": [
    {
     "data": {
      "text/html": [
       "<div>\n",
       "<style scoped>\n",
       "    .dataframe tbody tr th:only-of-type {\n",
       "        vertical-align: middle;\n",
       "    }\n",
       "\n",
       "    .dataframe tbody tr th {\n",
       "        vertical-align: top;\n",
       "    }\n",
       "\n",
       "    .dataframe thead th {\n",
       "        text-align: right;\n",
       "    }\n",
       "</style>\n",
       "<table border=\"1\" class=\"dataframe\">\n",
       "  <thead>\n",
       "    <tr style=\"text-align: right;\">\n",
       "      <th></th>\n",
       "      <th>feature</th>\n",
       "      <th>u_stat</th>\n",
       "      <th>p_value</th>\n",
       "      <th>effect_size</th>\n",
       "      <th>proportion</th>\n",
       "      <th>rank</th>\n",
       "      <th>model</th>\n",
       "    </tr>\n",
       "  </thead>\n",
       "  <tbody>\n",
       "    <tr>\n",
       "      <th>0</th>\n",
       "      <td>account_balance</td>\n",
       "      <td>4786.0</td>\n",
       "      <td>0.000028</td>\n",
       "      <td>0.394522</td>\n",
       "      <td>0.204594</td>\n",
       "      <td>1</td>\n",
       "      <td>Linear Regression</td>\n",
       "    </tr>\n",
       "    <tr>\n",
       "      <th>1</th>\n",
       "      <td>savings_bond_value</td>\n",
       "      <td>4249.5</td>\n",
       "      <td>0.004671</td>\n",
       "      <td>0.238199</td>\n",
       "      <td>0.123527</td>\n",
       "      <td>2</td>\n",
       "      <td>Linear Regression</td>\n",
       "    </tr>\n",
       "    <tr>\n",
       "      <th>2</th>\n",
       "      <td>other_installment_plans</td>\n",
       "      <td>3972.0</td>\n",
       "      <td>0.024924</td>\n",
       "      <td>0.157343</td>\n",
       "      <td>0.081596</td>\n",
       "      <td>3</td>\n",
       "      <td>Linear Regression</td>\n",
       "    </tr>\n",
       "    <tr>\n",
       "      <th>3</th>\n",
       "      <td>job</td>\n",
       "      <td>3854.5</td>\n",
       "      <td>0.147751</td>\n",
       "      <td>0.123106</td>\n",
       "      <td>0.063841</td>\n",
       "      <td>4</td>\n",
       "      <td>Linear Regression</td>\n",
       "    </tr>\n",
       "    <tr>\n",
       "      <th>4</th>\n",
       "      <td>credit_history</td>\n",
       "      <td>3847.5</td>\n",
       "      <td>0.173159</td>\n",
       "      <td>0.121066</td>\n",
       "      <td>0.062783</td>\n",
       "      <td>5</td>\n",
       "      <td>Linear Regression</td>\n",
       "    </tr>\n",
       "    <tr>\n",
       "      <th>5</th>\n",
       "      <td>nr_of_existing_credits</td>\n",
       "      <td>3841.5</td>\n",
       "      <td>0.147669</td>\n",
       "      <td>0.119318</td>\n",
       "      <td>0.061877</td>\n",
       "      <td>6</td>\n",
       "      <td>Linear Regression</td>\n",
       "    </tr>\n",
       "    <tr>\n",
       "      <th>6</th>\n",
       "      <td>duration</td>\n",
       "      <td>3039.0</td>\n",
       "      <td>0.242971</td>\n",
       "      <td>-0.114510</td>\n",
       "      <td>0.059383</td>\n",
       "      <td>7</td>\n",
       "      <td>Linear Regression</td>\n",
       "    </tr>\n",
       "    <tr>\n",
       "      <th>7</th>\n",
       "      <td>residence_since</td>\n",
       "      <td>3814.5</td>\n",
       "      <td>0.234738</td>\n",
       "      <td>0.111451</td>\n",
       "      <td>0.057797</td>\n",
       "      <td>8</td>\n",
       "      <td>Linear Regression</td>\n",
       "    </tr>\n",
       "    <tr>\n",
       "      <th>8</th>\n",
       "      <td>credit_amount</td>\n",
       "      <td>3728.5</td>\n",
       "      <td>0.382683</td>\n",
       "      <td>0.086393</td>\n",
       "      <td>0.044802</td>\n",
       "      <td>9</td>\n",
       "      <td>Linear Regression</td>\n",
       "    </tr>\n",
       "    <tr>\n",
       "      <th>9</th>\n",
       "      <td>telephone</td>\n",
       "      <td>3728.0</td>\n",
       "      <td>0.288170</td>\n",
       "      <td>0.086247</td>\n",
       "      <td>0.044727</td>\n",
       "      <td>10</td>\n",
       "      <td>Linear Regression</td>\n",
       "    </tr>\n",
       "    <tr>\n",
       "      <th>10</th>\n",
       "      <td>purpose</td>\n",
       "      <td>3710.5</td>\n",
       "      <td>0.402022</td>\n",
       "      <td>0.081148</td>\n",
       "      <td>0.042082</td>\n",
       "      <td>11</td>\n",
       "      <td>Linear Regression</td>\n",
       "    </tr>\n",
       "    <tr>\n",
       "      <th>11</th>\n",
       "      <td>intallment_rate</td>\n",
       "      <td>3203.5</td>\n",
       "      <td>0.471459</td>\n",
       "      <td>-0.066579</td>\n",
       "      <td>0.034527</td>\n",
       "      <td>12</td>\n",
       "      <td>Linear Regression</td>\n",
       "    </tr>\n",
       "    <tr>\n",
       "      <th>12</th>\n",
       "      <td>guarantor</td>\n",
       "      <td>3226.5</td>\n",
       "      <td>0.157041</td>\n",
       "      <td>-0.059878</td>\n",
       "      <td>0.031052</td>\n",
       "      <td>13</td>\n",
       "      <td>Linear Regression</td>\n",
       "    </tr>\n",
       "    <tr>\n",
       "      <th>13</th>\n",
       "      <td>age</td>\n",
       "      <td>3236.5</td>\n",
       "      <td>0.564935</td>\n",
       "      <td>-0.056964</td>\n",
       "      <td>0.029541</td>\n",
       "      <td>14</td>\n",
       "      <td>Linear Regression</td>\n",
       "    </tr>\n",
       "    <tr>\n",
       "      <th>14</th>\n",
       "      <td>sex_marital</td>\n",
       "      <td>3570.0</td>\n",
       "      <td>0.654107</td>\n",
       "      <td>0.040210</td>\n",
       "      <td>0.020852</td>\n",
       "      <td>15</td>\n",
       "      <td>Linear Regression</td>\n",
       "    </tr>\n",
       "    <tr>\n",
       "      <th>15</th>\n",
       "      <td>employed_since</td>\n",
       "      <td>3552.0</td>\n",
       "      <td>0.714853</td>\n",
       "      <td>0.034965</td>\n",
       "      <td>0.018132</td>\n",
       "      <td>16</td>\n",
       "      <td>Linear Regression</td>\n",
       "    </tr>\n",
       "    <tr>\n",
       "      <th>16</th>\n",
       "      <td>number_of_dependents</td>\n",
       "      <td>3512.0</td>\n",
       "      <td>0.735053</td>\n",
       "      <td>0.023310</td>\n",
       "      <td>0.012088</td>\n",
       "      <td>17</td>\n",
       "      <td>Linear Regression</td>\n",
       "    </tr>\n",
       "    <tr>\n",
       "      <th>17</th>\n",
       "      <td>property</td>\n",
       "      <td>3473.0</td>\n",
       "      <td>0.901143</td>\n",
       "      <td>0.011946</td>\n",
       "      <td>0.006195</td>\n",
       "      <td>18</td>\n",
       "      <td>Linear Regression</td>\n",
       "    </tr>\n",
       "    <tr>\n",
       "      <th>18</th>\n",
       "      <td>type_of_housing</td>\n",
       "      <td>3430.0</td>\n",
       "      <td>0.995617</td>\n",
       "      <td>-0.000583</td>\n",
       "      <td>0.000302</td>\n",
       "      <td>19</td>\n",
       "      <td>Linear Regression</td>\n",
       "    </tr>\n",
       "    <tr>\n",
       "      <th>19</th>\n",
       "      <td>foreign</td>\n",
       "      <td>3430.0</td>\n",
       "      <td>0.990170</td>\n",
       "      <td>-0.000583</td>\n",
       "      <td>0.000302</td>\n",
       "      <td>20</td>\n",
       "      <td>Linear Regression</td>\n",
       "    </tr>\n",
       "  </tbody>\n",
       "</table>\n",
       "</div>"
      ],
      "text/plain": [
       "                    feature  u_stat   p_value  effect_size  proportion  rank  \\\n",
       "0           account_balance  4786.0  0.000028     0.394522    0.204594     1   \n",
       "1        savings_bond_value  4249.5  0.004671     0.238199    0.123527     2   \n",
       "2   other_installment_plans  3972.0  0.024924     0.157343    0.081596     3   \n",
       "3                       job  3854.5  0.147751     0.123106    0.063841     4   \n",
       "4            credit_history  3847.5  0.173159     0.121066    0.062783     5   \n",
       "5    nr_of_existing_credits  3841.5  0.147669     0.119318    0.061877     6   \n",
       "6                  duration  3039.0  0.242971    -0.114510    0.059383     7   \n",
       "7           residence_since  3814.5  0.234738     0.111451    0.057797     8   \n",
       "8             credit_amount  3728.5  0.382683     0.086393    0.044802     9   \n",
       "9                 telephone  3728.0  0.288170     0.086247    0.044727    10   \n",
       "10                  purpose  3710.5  0.402022     0.081148    0.042082    11   \n",
       "11          intallment_rate  3203.5  0.471459    -0.066579    0.034527    12   \n",
       "12                guarantor  3226.5  0.157041    -0.059878    0.031052    13   \n",
       "13                      age  3236.5  0.564935    -0.056964    0.029541    14   \n",
       "14              sex_marital  3570.0  0.654107     0.040210    0.020852    15   \n",
       "15           employed_since  3552.0  0.714853     0.034965    0.018132    16   \n",
       "16     number_of_dependents  3512.0  0.735053     0.023310    0.012088    17   \n",
       "17                 property  3473.0  0.901143     0.011946    0.006195    18   \n",
       "18          type_of_housing  3430.0  0.995617    -0.000583    0.000302    19   \n",
       "19                  foreign  3430.0  0.990170    -0.000583    0.000302    20   \n",
       "\n",
       "                model  \n",
       "0   Linear Regression  \n",
       "1   Linear Regression  \n",
       "2   Linear Regression  \n",
       "3   Linear Regression  \n",
       "4   Linear Regression  \n",
       "5   Linear Regression  \n",
       "6   Linear Regression  \n",
       "7   Linear Regression  \n",
       "8   Linear Regression  \n",
       "9   Linear Regression  \n",
       "10  Linear Regression  \n",
       "11  Linear Regression  \n",
       "12  Linear Regression  \n",
       "13  Linear Regression  \n",
       "14  Linear Regression  \n",
       "15  Linear Regression  \n",
       "16  Linear Regression  \n",
       "17  Linear Regression  \n",
       "18  Linear Regression  \n",
       "19  Linear Regression  "
      ]
     },
     "execution_count": 182,
     "metadata": {},
     "output_type": "execute_result"
    }
   ],
   "source": [
    "results_df.head(20)"
   ]
  },
  {
   "cell_type": "code",
   "execution_count": 183,
   "id": "5511f5bb",
   "metadata": {},
   "outputs": [],
   "source": [
    "all_results_df = results_df.copy()"
   ]
  },
  {
   "cell_type": "code",
   "execution_count": 184,
   "id": "e49b8c48",
   "metadata": {},
   "outputs": [
    {
     "data": {
      "text/html": [
       "<div>\n",
       "<style scoped>\n",
       "    .dataframe tbody tr th:only-of-type {\n",
       "        vertical-align: middle;\n",
       "    }\n",
       "\n",
       "    .dataframe tbody tr th {\n",
       "        vertical-align: top;\n",
       "    }\n",
       "\n",
       "    .dataframe thead th {\n",
       "        text-align: right;\n",
       "    }\n",
       "</style>\n",
       "<table border=\"1\" class=\"dataframe\">\n",
       "  <thead>\n",
       "    <tr style=\"text-align: right;\">\n",
       "      <th></th>\n",
       "      <th>feature</th>\n",
       "      <th>u_stat</th>\n",
       "      <th>p_value</th>\n",
       "      <th>effect_size</th>\n",
       "      <th>proportion</th>\n",
       "      <th>rank</th>\n",
       "      <th>model</th>\n",
       "    </tr>\n",
       "  </thead>\n",
       "  <tbody>\n",
       "    <tr>\n",
       "      <th>0</th>\n",
       "      <td>account_balance</td>\n",
       "      <td>4786.0</td>\n",
       "      <td>0.000028</td>\n",
       "      <td>0.394522</td>\n",
       "      <td>0.204594</td>\n",
       "      <td>1</td>\n",
       "      <td>Linear Regression</td>\n",
       "    </tr>\n",
       "    <tr>\n",
       "      <th>1</th>\n",
       "      <td>savings_bond_value</td>\n",
       "      <td>4249.5</td>\n",
       "      <td>0.004671</td>\n",
       "      <td>0.238199</td>\n",
       "      <td>0.123527</td>\n",
       "      <td>2</td>\n",
       "      <td>Linear Regression</td>\n",
       "    </tr>\n",
       "  </tbody>\n",
       "</table>\n",
       "</div>"
      ],
      "text/plain": [
       "              feature  u_stat   p_value  effect_size  proportion  rank  \\\n",
       "0     account_balance  4786.0  0.000028     0.394522    0.204594     1   \n",
       "1  savings_bond_value  4249.5  0.004671     0.238199    0.123527     2   \n",
       "\n",
       "               model  \n",
       "0  Linear Regression  \n",
       "1  Linear Regression  "
      ]
     },
     "execution_count": 184,
     "metadata": {},
     "output_type": "execute_result"
    }
   ],
   "source": [
    "all_results_df.head(2)"
   ]
  },
  {
   "cell_type": "code",
   "execution_count": 185,
   "id": "304713fd",
   "metadata": {},
   "outputs": [
    {
     "data": {
      "text/plain": [
       "\"\\n# Pivot the DataFrame so that 'model' values become columns and the 'feature' values are listed under each column\\ntransformed_df = results_df.pivot(columns='model', values='feature')\\n\\n# Reset the index to have a simple enumeration and bring 'Rank' as a column\\ntransformed_df = transformed_df.reset_index()\\n\\n# Display the transformed DataFrame\\nprint(transformed_df.head(2))\\n\\n\""
      ]
     },
     "execution_count": 185,
     "metadata": {},
     "output_type": "execute_result"
    }
   ],
   "source": [
    "'''\n",
    "# Pivot the DataFrame so that 'model' values become columns and the 'feature' values are listed under each column\n",
    "transformed_df = results_df.pivot(columns='model', values='feature')\n",
    "\n",
    "# Reset the index to have a simple enumeration and bring 'Rank' as a column\n",
    "transformed_df = transformed_df.reset_index()\n",
    "\n",
    "# Display the transformed DataFrame\n",
    "print(transformed_df.head(2))\n",
    "\n",
    "'''"
   ]
  },
  {
   "cell_type": "code",
   "execution_count": 186,
   "id": "522b0220",
   "metadata": {},
   "outputs": [],
   "source": [
    "#top_features_df = transformed_df.copy()"
   ]
  },
  {
   "cell_type": "code",
   "execution_count": null,
   "id": "cd3e2339",
   "metadata": {},
   "outputs": [],
   "source": []
  },
  {
   "cell_type": "markdown",
   "id": "d6a6a469",
   "metadata": {},
   "source": [
    "# Logistic Regression"
   ]
  },
  {
   "cell_type": "code",
   "execution_count": 187,
   "id": "cf13ce67",
   "metadata": {},
   "outputs": [],
   "source": [
    "# Assuming df5c is your DataFrame\n",
    "# Drop the target column and the first column (assuming it's the index or another non-feature column)\n",
    "X = df5c.drop(columns=['target']).iloc[:, 1:]\n",
    "y = df5c['target']"
   ]
  },
  {
   "cell_type": "code",
   "execution_count": 188,
   "id": "be715ded",
   "metadata": {},
   "outputs": [],
   "source": [
    "# Split the data into training and testing sets\n",
    "X_train, X_test, y_train, y_test = train_test_split(X, y, test_size=0.2, random_state=42)"
   ]
  },
  {
   "cell_type": "code",
   "execution_count": 189,
   "id": "075065ac",
   "metadata": {},
   "outputs": [
    {
     "data": {
      "text/html": [
       "<style>#sk-container-id-10 {color: black;background-color: white;}#sk-container-id-10 pre{padding: 0;}#sk-container-id-10 div.sk-toggleable {background-color: white;}#sk-container-id-10 label.sk-toggleable__label {cursor: pointer;display: block;width: 100%;margin-bottom: 0;padding: 0.3em;box-sizing: border-box;text-align: center;}#sk-container-id-10 label.sk-toggleable__label-arrow:before {content: \"▸\";float: left;margin-right: 0.25em;color: #696969;}#sk-container-id-10 label.sk-toggleable__label-arrow:hover:before {color: black;}#sk-container-id-10 div.sk-estimator:hover label.sk-toggleable__label-arrow:before {color: black;}#sk-container-id-10 div.sk-toggleable__content {max-height: 0;max-width: 0;overflow: hidden;text-align: left;background-color: #f0f8ff;}#sk-container-id-10 div.sk-toggleable__content pre {margin: 0.2em;color: black;border-radius: 0.25em;background-color: #f0f8ff;}#sk-container-id-10 input.sk-toggleable__control:checked~div.sk-toggleable__content {max-height: 200px;max-width: 100%;overflow: auto;}#sk-container-id-10 input.sk-toggleable__control:checked~label.sk-toggleable__label-arrow:before {content: \"▾\";}#sk-container-id-10 div.sk-estimator input.sk-toggleable__control:checked~label.sk-toggleable__label {background-color: #d4ebff;}#sk-container-id-10 div.sk-label input.sk-toggleable__control:checked~label.sk-toggleable__label {background-color: #d4ebff;}#sk-container-id-10 input.sk-hidden--visually {border: 0;clip: rect(1px 1px 1px 1px);clip: rect(1px, 1px, 1px, 1px);height: 1px;margin: -1px;overflow: hidden;padding: 0;position: absolute;width: 1px;}#sk-container-id-10 div.sk-estimator {font-family: monospace;background-color: #f0f8ff;border: 1px dotted black;border-radius: 0.25em;box-sizing: border-box;margin-bottom: 0.5em;}#sk-container-id-10 div.sk-estimator:hover {background-color: #d4ebff;}#sk-container-id-10 div.sk-parallel-item::after {content: \"\";width: 100%;border-bottom: 1px solid gray;flex-grow: 1;}#sk-container-id-10 div.sk-label:hover label.sk-toggleable__label {background-color: #d4ebff;}#sk-container-id-10 div.sk-serial::before {content: \"\";position: absolute;border-left: 1px solid gray;box-sizing: border-box;top: 0;bottom: 0;left: 50%;z-index: 0;}#sk-container-id-10 div.sk-serial {display: flex;flex-direction: column;align-items: center;background-color: white;padding-right: 0.2em;padding-left: 0.2em;position: relative;}#sk-container-id-10 div.sk-item {position: relative;z-index: 1;}#sk-container-id-10 div.sk-parallel {display: flex;align-items: stretch;justify-content: center;background-color: white;position: relative;}#sk-container-id-10 div.sk-item::before, #sk-container-id-10 div.sk-parallel-item::before {content: \"\";position: absolute;border-left: 1px solid gray;box-sizing: border-box;top: 0;bottom: 0;left: 50%;z-index: -1;}#sk-container-id-10 div.sk-parallel-item {display: flex;flex-direction: column;z-index: 1;position: relative;background-color: white;}#sk-container-id-10 div.sk-parallel-item:first-child::after {align-self: flex-end;width: 50%;}#sk-container-id-10 div.sk-parallel-item:last-child::after {align-self: flex-start;width: 50%;}#sk-container-id-10 div.sk-parallel-item:only-child::after {width: 0;}#sk-container-id-10 div.sk-dashed-wrapped {border: 1px dashed gray;margin: 0 0.4em 0.5em 0.4em;box-sizing: border-box;padding-bottom: 0.4em;background-color: white;}#sk-container-id-10 div.sk-label label {font-family: monospace;font-weight: bold;display: inline-block;line-height: 1.2em;}#sk-container-id-10 div.sk-label-container {text-align: center;}#sk-container-id-10 div.sk-container {/* jupyter's `normalize.less` sets `[hidden] { display: none; }` but bootstrap.min.css set `[hidden] { display: none !important; }` so we also need the `!important` here to be able to override the default hidden behavior on the sphinx rendered scikit-learn.org. See: https://github.com/scikit-learn/scikit-learn/issues/21755 */display: inline-block !important;position: relative;}#sk-container-id-10 div.sk-text-repr-fallback {display: none;}</style><div id=\"sk-container-id-10\" class=\"sk-top-container\"><div class=\"sk-text-repr-fallback\"><pre>LogisticRegression()</pre><b>In a Jupyter environment, please rerun this cell to show the HTML representation or trust the notebook. <br />On GitHub, the HTML representation is unable to render, please try loading this page with nbviewer.org.</b></div><div class=\"sk-container\" hidden><div class=\"sk-item\"><div class=\"sk-estimator sk-toggleable\"><input class=\"sk-toggleable__control sk-hidden--visually\" id=\"sk-estimator-id-12\" type=\"checkbox\" checked><label for=\"sk-estimator-id-12\" class=\"sk-toggleable__label sk-toggleable__label-arrow\">LogisticRegression</label><div class=\"sk-toggleable__content\"><pre>LogisticRegression()</pre></div></div></div></div></div>"
      ],
      "text/plain": [
       "LogisticRegression()"
      ]
     },
     "execution_count": 189,
     "metadata": {},
     "output_type": "execute_result"
    }
   ],
   "source": [
    "# Initialize Linear Regression model\n",
    "logr = LogisticRegression()\n",
    "# Train the model\n",
    "logr.fit(X_train, y_train)"
   ]
  },
  {
   "cell_type": "code",
   "execution_count": 190,
   "id": "ebfbc743",
   "metadata": {},
   "outputs": [
    {
     "name": "stdout",
     "output_type": "stream",
     "text": [
      "Accuracy: 0.76\n"
     ]
    }
   ],
   "source": [
    "# Predict and evaluate the model\n",
    "y_pred = logr.predict(X_test)\n",
    "accuracy = accuracy_score(y_test, y_pred)\n",
    "print(f'Accuracy: {accuracy:.2f}')"
   ]
  },
  {
   "cell_type": "code",
   "execution_count": 191,
   "id": "6ef08fef",
   "metadata": {},
   "outputs": [],
   "source": [
    "# Step 2: Split the Dataset Based on Prediction Accuracy\n",
    "correct_indices = np.where(y_test == y_pred)[0]\n",
    "incorrect_indices = np.where(y_test != y_pred)[0]\n",
    "\n",
    "X_correct = X_test.iloc[correct_indices]\n",
    "X_incorrect = X_test.iloc[incorrect_indices]"
   ]
  },
  {
   "cell_type": "code",
   "execution_count": 192,
   "id": "99363757",
   "metadata": {},
   "outputs": [],
   "source": [
    "results = {}\n",
    "for feature in X.columns:\n",
    "    correct_values = X_correct[feature]\n",
    "    incorrect_values = X_incorrect[feature]\n",
    "    \n",
    "    # Perform Mann-Whitney U test\n",
    "    u_stat, p_value = mannwhitneyu(correct_values, incorrect_values, alternative='two-sided')\n",
    "    \n",
    "    # Calculate Rank-Biserial Correlation (effect size)\n",
    "    n1 = len(correct_values)\n",
    "    n2 = len(incorrect_values)\n",
    "    rank_biserial = (2 * u_stat / (n1 * n2)) - 1\n",
    "    \n",
    "    results[feature] = (u_stat, p_value, rank_biserial)"
   ]
  },
  {
   "cell_type": "code",
   "execution_count": 193,
   "id": "e1368929",
   "metadata": {},
   "outputs": [],
   "source": [
    "# Convert results to a DataFrame for easier interpretation\n",
    "results_df = pd.DataFrame(results, index=['u_stat', 'p_value', 'effect_size']).T\n",
    "\n",
    "# Calculate the proportion of each attribute's contribution\n",
    "# Convert absolute rank-biserial values to importance scores\n",
    "#results_df['importance'] = results_df['effect_size'].abs()\n",
    "results_df['proportion'] = results_df['effect_size'].abs() / results_df['effect_size'].abs().sum()\n",
    "\n",
    "# Normalize the importance scores to get proportions\n",
    "#results_df['proportion'] = results_df['importance'].abs() / results_df['importance'].abs().sum()\n",
    "\n",
    "# Sort by proportion\n",
    "results_df = results_df.sort_values(by='proportion', ascending=False)"
   ]
  },
  {
   "cell_type": "code",
   "execution_count": 194,
   "id": "bcf0854e",
   "metadata": {
    "scrolled": true
   },
   "outputs": [
    {
     "name": "stdout",
     "output_type": "stream",
     "text": [
      "\n",
      "Feature Importance (sorted by proportion):\n",
      "                         u_stat   p_value  effect_size  proportion\n",
      "account_balance          5173.5  0.000011     0.398432    0.212010\n",
      "savings_bond_value       4566.0  0.003876     0.234221    0.124631\n",
      "other_installment_plans  4452.5  0.002589     0.203541    0.108306\n",
      "age                      3192.0  0.149513    -0.137181    0.072995\n",
      "credit_history           4158.5  0.147206     0.124071    0.066019\n",
      "duration                 3333.0  0.294334    -0.099067    0.052715\n",
      "type_of_housing          3411.0  0.309664    -0.077984    0.041496\n",
      "residence_since          3980.5  0.400694     0.075956    0.040417\n",
      "purpose                  3965.0  0.441652     0.071766    0.038188\n",
      "nr_of_existing_credits   3960.0  0.375363     0.070415    0.037469\n",
      "property                 3465.0  0.489400    -0.063387    0.033729\n",
      "number_of_dependents     3479.5  0.368151    -0.059467    0.031643\n",
      "intallment_rate          3481.0  0.507226    -0.059062    0.031428\n",
      "job                      3889.5  0.531269     0.051358    0.027328\n",
      "guarantor                3526.5  0.251426    -0.046763    0.024883\n",
      "telephone                3865.5  0.566670     0.044871    0.023876\n",
      "sex_marital              3853.5  0.629963     0.041627    0.022150\n",
      "credit_amount            3741.5  0.906160     0.011353    0.006041\n",
      "foreign                  3720.0  0.874283     0.005541    0.002949\n",
      "employed_since           3711.5  0.972986     0.003244    0.001726\n"
     ]
    }
   ],
   "source": [
    "print(\"\\nFeature Importance (sorted by proportion):\")\n",
    "print(results_df)"
   ]
  },
  {
   "cell_type": "code",
   "execution_count": 195,
   "id": "500d9833",
   "metadata": {},
   "outputs": [
    {
     "data": {
      "image/png": "[encoded data removed]",
      "text/plain": [
       "<Figure size 1000x600 with 1 Axes>"
      ]
     },
     "metadata": {},
     "output_type": "display_data"
    }
   ],
   "source": [
    "# Plot Feature Importance\n",
    "plt.figure(figsize=(10, 6))\n",
    "plt.barh(results_df.index, results_df['proportion'])\n",
    "plt.xlabel('Importance')\n",
    "plt.ylabel('Feature')\n",
    "plt.title('Feature Importance from Logistic Regression')\n",
    "plt.gca().invert_yaxis()\n",
    "plt.show()"
   ]
  },
  {
   "cell_type": "code",
   "execution_count": 196,
   "id": "edaad5ed",
   "metadata": {},
   "outputs": [],
   "source": [
    "# Add Rank column\n",
    "results_df['rank'] = range(1, len(results_df) + 1)\n",
    "\n",
    "# Add Model column with fixed value 'x'\n",
    "results_df['model'] = 'Logistic Regression'\n",
    "\n",
    "# First, reset the index to move the current index into a column named 'feature'\n",
    "results_df = results_df.reset_index().rename(columns={'index': 'feature'})"
   ]
  },
  {
   "cell_type": "code",
   "execution_count": 197,
   "id": "0070c29d",
   "metadata": {
    "scrolled": true
   },
   "outputs": [],
   "source": [
    "# Concatenate the dataframes\n",
    "all_results_df = pd.concat([all_results_df, results_df], ignore_index=True) #"
   ]
  },
  {
   "cell_type": "code",
   "execution_count": 198,
   "id": "04719460",
   "metadata": {},
   "outputs": [
    {
     "name": "stdout",
     "output_type": "stream",
     "text": [
      "              feature  u_stat   p_value  effect_size  proportion  rank  \\\n",
      "0     account_balance  4786.0  0.000028     0.394522    0.204594     1   \n",
      "1  savings_bond_value  4249.5  0.004671     0.238199    0.123527     2   \n",
      "\n",
      "               model  \n",
      "0  Linear Regression  \n",
      "1  Linear Regression  \n"
     ]
    }
   ],
   "source": [
    "# Display the concatenated DataFrame\n",
    "print(all_results_df.head(2))"
   ]
  },
  {
   "cell_type": "markdown",
   "id": "052cda7c",
   "metadata": {},
   "source": [
    "# Decision Tree Classifier"
   ]
  },
  {
   "cell_type": "code",
   "execution_count": 199,
   "id": "5235ee04",
   "metadata": {},
   "outputs": [],
   "source": [
    "# Assuming df5c is your DataFrame\n",
    "# Drop the target column and the first column (assuming it's the index or another non-feature column)\n",
    "X = df5c.drop(columns=['target']).iloc[:, 1:]\n",
    "y = df5c['target']"
   ]
  },
  {
   "cell_type": "code",
   "execution_count": 200,
   "id": "62ec7d94",
   "metadata": {},
   "outputs": [],
   "source": [
    "# Split the data into training and testing sets\n",
    "X_train, X_test, y_train, y_test = train_test_split(X, y, test_size=0.2, random_state=42)"
   ]
  },
  {
   "cell_type": "code",
   "execution_count": 201,
   "id": "439c67f1",
   "metadata": {},
   "outputs": [
    {
     "data": {
      "text/html": [
       "<style>#sk-container-id-11 {color: black;background-color: white;}#sk-container-id-11 pre{padding: 0;}#sk-container-id-11 div.sk-toggleable {background-color: white;}#sk-container-id-11 label.sk-toggleable__label {cursor: pointer;display: block;width: 100%;margin-bottom: 0;padding: 0.3em;box-sizing: border-box;text-align: center;}#sk-container-id-11 label.sk-toggleable__label-arrow:before {content: \"▸\";float: left;margin-right: 0.25em;color: #696969;}#sk-container-id-11 label.sk-toggleable__label-arrow:hover:before {color: black;}#sk-container-id-11 div.sk-estimator:hover label.sk-toggleable__label-arrow:before {color: black;}#sk-container-id-11 div.sk-toggleable__content {max-height: 0;max-width: 0;overflow: hidden;text-align: left;background-color: #f0f8ff;}#sk-container-id-11 div.sk-toggleable__content pre {margin: 0.2em;color: black;border-radius: 0.25em;background-color: #f0f8ff;}#sk-container-id-11 input.sk-toggleable__control:checked~div.sk-toggleable__content {max-height: 200px;max-width: 100%;overflow: auto;}#sk-container-id-11 input.sk-toggleable__control:checked~label.sk-toggleable__label-arrow:before {content: \"▾\";}#sk-container-id-11 div.sk-estimator input.sk-toggleable__control:checked~label.sk-toggleable__label {background-color: #d4ebff;}#sk-container-id-11 div.sk-label input.sk-toggleable__control:checked~label.sk-toggleable__label {background-color: #d4ebff;}#sk-container-id-11 input.sk-hidden--visually {border: 0;clip: rect(1px 1px 1px 1px);clip: rect(1px, 1px, 1px, 1px);height: 1px;margin: -1px;overflow: hidden;padding: 0;position: absolute;width: 1px;}#sk-container-id-11 div.sk-estimator {font-family: monospace;background-color: #f0f8ff;border: 1px dotted black;border-radius: 0.25em;box-sizing: border-box;margin-bottom: 0.5em;}#sk-container-id-11 div.sk-estimator:hover {background-color: #d4ebff;}#sk-container-id-11 div.sk-parallel-item::after {content: \"\";width: 100%;border-bottom: 1px solid gray;flex-grow: 1;}#sk-container-id-11 div.sk-label:hover label.sk-toggleable__label {background-color: #d4ebff;}#sk-container-id-11 div.sk-serial::before {content: \"\";position: absolute;border-left: 1px solid gray;box-sizing: border-box;top: 0;bottom: 0;left: 50%;z-index: 0;}#sk-container-id-11 div.sk-serial {display: flex;flex-direction: column;align-items: center;background-color: white;padding-right: 0.2em;padding-left: 0.2em;position: relative;}#sk-container-id-11 div.sk-item {position: relative;z-index: 1;}#sk-container-id-11 div.sk-parallel {display: flex;align-items: stretch;justify-content: center;background-color: white;position: relative;}#sk-container-id-11 div.sk-item::before, #sk-container-id-11 div.sk-parallel-item::before {content: \"\";position: absolute;border-left: 1px solid gray;box-sizing: border-box;top: 0;bottom: 0;left: 50%;z-index: -1;}#sk-container-id-11 div.sk-parallel-item {display: flex;flex-direction: column;z-index: 1;position: relative;background-color: white;}#sk-container-id-11 div.sk-parallel-item:first-child::after {align-self: flex-end;width: 50%;}#sk-container-id-11 div.sk-parallel-item:last-child::after {align-self: flex-start;width: 50%;}#sk-container-id-11 div.sk-parallel-item:only-child::after {width: 0;}#sk-container-id-11 div.sk-dashed-wrapped {border: 1px dashed gray;margin: 0 0.4em 0.5em 0.4em;box-sizing: border-box;padding-bottom: 0.4em;background-color: white;}#sk-container-id-11 div.sk-label label {font-family: monospace;font-weight: bold;display: inline-block;line-height: 1.2em;}#sk-container-id-11 div.sk-label-container {text-align: center;}#sk-container-id-11 div.sk-container {/* jupyter's `normalize.less` sets `[hidden] { display: none; }` but bootstrap.min.css set `[hidden] { display: none !important; }` so we also need the `!important` here to be able to override the default hidden behavior on the sphinx rendered scikit-learn.org. See: https://github.com/scikit-learn/scikit-learn/issues/21755 */display: inline-block !important;position: relative;}#sk-container-id-11 div.sk-text-repr-fallback {display: none;}</style><div id=\"sk-container-id-11\" class=\"sk-top-container\"><div class=\"sk-text-repr-fallback\"><pre>DecisionTreeClassifier()</pre><b>In a Jupyter environment, please rerun this cell to show the HTML representation or trust the notebook. <br />On GitHub, the HTML representation is unable to render, please try loading this page with nbviewer.org.</b></div><div class=\"sk-container\" hidden><div class=\"sk-item\"><div class=\"sk-estimator sk-toggleable\"><input class=\"sk-toggleable__control sk-hidden--visually\" id=\"sk-estimator-id-13\" type=\"checkbox\" checked><label for=\"sk-estimator-id-13\" class=\"sk-toggleable__label sk-toggleable__label-arrow\">DecisionTreeClassifier</label><div class=\"sk-toggleable__content\"><pre>DecisionTreeClassifier()</pre></div></div></div></div></div>"
      ],
      "text/plain": [
       "DecisionTreeClassifier()"
      ]
     },
     "execution_count": 201,
     "metadata": {},
     "output_type": "execute_result"
    }
   ],
   "source": [
    "# Initialize Linear Regression model\n",
    "dtc = DecisionTreeClassifier()\n",
    "# Train the model\n",
    "dtc.fit(X_train, y_train)"
   ]
  },
  {
   "cell_type": "code",
   "execution_count": 202,
   "id": "6688e89b",
   "metadata": {},
   "outputs": [
    {
     "name": "stdout",
     "output_type": "stream",
     "text": [
      "Accuracy: 0.73\n"
     ]
    }
   ],
   "source": [
    "# Predict and evaluate the model\n",
    "y_pred = dtc.predict(X_test)\n",
    "accuracy = accuracy_score(y_test, y_pred)\n",
    "print(f'Accuracy: {accuracy:.2f}')"
   ]
  },
  {
   "cell_type": "code",
   "execution_count": 203,
   "id": "3a6b752d",
   "metadata": {},
   "outputs": [],
   "source": [
    "# Step 2: Split the Dataset Based on Prediction Accuracy\n",
    "correct_indices = np.where(y_test == y_pred)[0]\n",
    "incorrect_indices = np.where(y_test != y_pred)[0]\n",
    "\n",
    "X_correct = X_test.iloc[correct_indices]\n",
    "X_incorrect = X_test.iloc[incorrect_indices]"
   ]
  },
  {
   "cell_type": "code",
   "execution_count": 204,
   "id": "caf0910d",
   "metadata": {},
   "outputs": [],
   "source": [
    "results = {}\n",
    "for feature in X.columns:\n",
    "    correct_values = X_correct[feature]\n",
    "    incorrect_values = X_incorrect[feature]\n",
    "    \n",
    "    # Perform Mann-Whitney U test\n",
    "    u_stat, p_value = mannwhitneyu(correct_values, incorrect_values, alternative='two-sided')\n",
    "    \n",
    "    # Calculate Rank-Biserial Correlation (effect size)\n",
    "    n1 = len(correct_values)\n",
    "    n2 = len(incorrect_values)\n",
    "    rank_biserial = (2 * u_stat / (n1 * n2)) - 1\n",
    "    \n",
    "    results[feature] = (u_stat, p_value, rank_biserial)"
   ]
  },
  {
   "cell_type": "code",
   "execution_count": 205,
   "id": "0cdc064b",
   "metadata": {},
   "outputs": [],
   "source": [
    "# Convert results to a DataFrame for easier interpretation\n",
    "results_df = pd.DataFrame(results, index=['u_stat', 'p_value', 'effect_size']).T\n",
    "\n",
    "# Calculate the proportion of each attribute's contribution\n",
    "# Convert absolute rank-biserial values to importance scores\n",
    "#results_df['importance'] = results_df['effect_size'].abs()\n",
    "results_df['proportion'] = results_df['effect_size'].abs() / results_df['effect_size'].abs().sum()\n",
    "\n",
    "# Normalize the importance scores to get proportions\n",
    "#results_df['proportion'] = results_df['importance'].abs() / results_df['importance'].abs().sum()\n",
    "\n",
    "# Sort by proportion\n",
    "results_df = results_df.sort_values(by='proportion', ascending=False)"
   ]
  },
  {
   "cell_type": "code",
   "execution_count": 206,
   "id": "19f3f53f",
   "metadata": {
    "scrolled": true
   },
   "outputs": [
    {
     "name": "stdout",
     "output_type": "stream",
     "text": [
      "\n",
      "Feature Importance (sorted by proportion):\n",
      "                         u_stat   p_value  effect_size  proportion\n",
      "account_balance          5040.5  0.001512     0.278666    0.143379\n",
      "credit_history           4706.0  0.019374     0.193810    0.099719\n",
      "savings_bond_value       4681.5  0.016961     0.187595    0.096522\n",
      "nr_of_existing_credits   4543.0  0.047319     0.152461    0.078444\n",
      "credit_amount            4479.0  0.139850     0.136225    0.070091\n",
      "intallment_rate          3406.0  0.114541    -0.135972    0.069960\n",
      "job                      4439.5  0.111681     0.126205    0.064935\n",
      "age                      3518.0  0.243505    -0.107560    0.055342\n",
      "other_installment_plans  4335.0  0.127925     0.099696    0.051295\n",
      "type_of_housing          4306.5  0.213537     0.092466    0.047576\n",
      "duration                 3671.5  0.453598    -0.068620    0.035306\n",
      "guarantor                3704.5  0.126887    -0.060249    0.030999\n",
      "telephone                4178.0  0.429628     0.059868    0.030803\n",
      "sex_marital              3708.0  0.477723    -0.059361    0.030542\n",
      "purpose                  3712.5  0.519506    -0.058219    0.029955\n",
      "number_of_dependents     3722.0  0.383306    -0.055809    0.028715\n",
      "property                 4100.5  0.651149     0.040208    0.020688\n",
      "employed_since           3871.0  0.840610    -0.018011    0.009267\n",
      "foreign                  3985.0  0.744642     0.010908    0.005612\n",
      "residence_since          3935.5  0.986106    -0.001649    0.000848\n"
     ]
    }
   ],
   "source": [
    "print(\"\\nFeature Importance (sorted by proportion):\")\n",
    "print(results_df)"
   ]
  },
  {
   "cell_type": "code",
   "execution_count": 207,
   "id": "f3d2d6fc",
   "metadata": {},
   "outputs": [
    {
     "data": {
      "image/png": "[encoded data removed]",
      "text/plain": [
       "<Figure size 1000x600 with 1 Axes>"
      ]
     },
     "metadata": {},
     "output_type": "display_data"
    }
   ],
   "source": [
    "# Plot Feature Importance\n",
    "plt.figure(figsize=(10, 6))\n",
    "plt.barh(results_df.index, results_df['proportion'])\n",
    "plt.xlabel('Importance')\n",
    "plt.ylabel('Feature')\n",
    "plt.title('Feature Importance from Decision Tree')\n",
    "plt.gca().invert_yaxis()\n",
    "plt.show()"
   ]
  },
  {
   "cell_type": "code",
   "execution_count": 208,
   "id": "f0e38ba5",
   "metadata": {},
   "outputs": [],
   "source": [
    "# Add Rank column\n",
    "results_df['rank'] = range(1, len(results_df) + 1)\n",
    "\n",
    "# Add Model column with fixed value 'x'\n",
    "results_df['model'] = 'Decision Tree Classifier'\n",
    "\n",
    "# First, reset the index to move the current index into a column named 'feature'\n",
    "results_df = results_df.reset_index().rename(columns={'index': 'feature'})"
   ]
  },
  {
   "cell_type": "code",
   "execution_count": 209,
   "id": "66c597ab",
   "metadata": {},
   "outputs": [],
   "source": [
    "# Concatenate the dataframes\n",
    "all_results_df = pd.concat([all_results_df, results_df], ignore_index=True) "
   ]
  },
  {
   "cell_type": "markdown",
   "id": "820776ab",
   "metadata": {},
   "source": [
    "# Random Forest"
   ]
  },
  {
   "cell_type": "code",
   "execution_count": 210,
   "id": "f6f45590",
   "metadata": {},
   "outputs": [],
   "source": [
    "# Assuming df5c is your DataFrame\n",
    "# Drop the target column and the first column (assuming it's the index or another non-feature column)\n",
    "X = df5c.drop(columns=['target']).iloc[:, 1:]\n",
    "y = df5c['target']"
   ]
  },
  {
   "cell_type": "code",
   "execution_count": 211,
   "id": "1c21d251",
   "metadata": {},
   "outputs": [],
   "source": [
    "# Split the data into training and testing sets\n",
    "X_train, X_test, y_train, y_test = train_test_split(X, y, test_size=0.2, random_state=42)"
   ]
  },
  {
   "cell_type": "code",
   "execution_count": 212,
   "id": "6c7c9514",
   "metadata": {},
   "outputs": [
    {
     "data": {
      "text/html": [
       "<style>#sk-container-id-12 {color: black;background-color: white;}#sk-container-id-12 pre{padding: 0;}#sk-container-id-12 div.sk-toggleable {background-color: white;}#sk-container-id-12 label.sk-toggleable__label {cursor: pointer;display: block;width: 100%;margin-bottom: 0;padding: 0.3em;box-sizing: border-box;text-align: center;}#sk-container-id-12 label.sk-toggleable__label-arrow:before {content: \"▸\";float: left;margin-right: 0.25em;color: #696969;}#sk-container-id-12 label.sk-toggleable__label-arrow:hover:before {color: black;}#sk-container-id-12 div.sk-estimator:hover label.sk-toggleable__label-arrow:before {color: black;}#sk-container-id-12 div.sk-toggleable__content {max-height: 0;max-width: 0;overflow: hidden;text-align: left;background-color: #f0f8ff;}#sk-container-id-12 div.sk-toggleable__content pre {margin: 0.2em;color: black;border-radius: 0.25em;background-color: #f0f8ff;}#sk-container-id-12 input.sk-toggleable__control:checked~div.sk-toggleable__content {max-height: 200px;max-width: 100%;overflow: auto;}#sk-container-id-12 input.sk-toggleable__control:checked~label.sk-toggleable__label-arrow:before {content: \"▾\";}#sk-container-id-12 div.sk-estimator input.sk-toggleable__control:checked~label.sk-toggleable__label {background-color: #d4ebff;}#sk-container-id-12 div.sk-label input.sk-toggleable__control:checked~label.sk-toggleable__label {background-color: #d4ebff;}#sk-container-id-12 input.sk-hidden--visually {border: 0;clip: rect(1px 1px 1px 1px);clip: rect(1px, 1px, 1px, 1px);height: 1px;margin: -1px;overflow: hidden;padding: 0;position: absolute;width: 1px;}#sk-container-id-12 div.sk-estimator {font-family: monospace;background-color: #f0f8ff;border: 1px dotted black;border-radius: 0.25em;box-sizing: border-box;margin-bottom: 0.5em;}#sk-container-id-12 div.sk-estimator:hover {background-color: #d4ebff;}#sk-container-id-12 div.sk-parallel-item::after {content: \"\";width: 100%;border-bottom: 1px solid gray;flex-grow: 1;}#sk-container-id-12 div.sk-label:hover label.sk-toggleable__label {background-color: #d4ebff;}#sk-container-id-12 div.sk-serial::before {content: \"\";position: absolute;border-left: 1px solid gray;box-sizing: border-box;top: 0;bottom: 0;left: 50%;z-index: 0;}#sk-container-id-12 div.sk-serial {display: flex;flex-direction: column;align-items: center;background-color: white;padding-right: 0.2em;padding-left: 0.2em;position: relative;}#sk-container-id-12 div.sk-item {position: relative;z-index: 1;}#sk-container-id-12 div.sk-parallel {display: flex;align-items: stretch;justify-content: center;background-color: white;position: relative;}#sk-container-id-12 div.sk-item::before, #sk-container-id-12 div.sk-parallel-item::before {content: \"\";position: absolute;border-left: 1px solid gray;box-sizing: border-box;top: 0;bottom: 0;left: 50%;z-index: -1;}#sk-container-id-12 div.sk-parallel-item {display: flex;flex-direction: column;z-index: 1;position: relative;background-color: white;}#sk-container-id-12 div.sk-parallel-item:first-child::after {align-self: flex-end;width: 50%;}#sk-container-id-12 div.sk-parallel-item:last-child::after {align-self: flex-start;width: 50%;}#sk-container-id-12 div.sk-parallel-item:only-child::after {width: 0;}#sk-container-id-12 div.sk-dashed-wrapped {border: 1px dashed gray;margin: 0 0.4em 0.5em 0.4em;box-sizing: border-box;padding-bottom: 0.4em;background-color: white;}#sk-container-id-12 div.sk-label label {font-family: monospace;font-weight: bold;display: inline-block;line-height: 1.2em;}#sk-container-id-12 div.sk-label-container {text-align: center;}#sk-container-id-12 div.sk-container {/* jupyter's `normalize.less` sets `[hidden] { display: none; }` but bootstrap.min.css set `[hidden] { display: none !important; }` so we also need the `!important` here to be able to override the default hidden behavior on the sphinx rendered scikit-learn.org. See: https://github.com/scikit-learn/scikit-learn/issues/21755 */display: inline-block !important;position: relative;}#sk-container-id-12 div.sk-text-repr-fallback {display: none;}</style><div id=\"sk-container-id-12\" class=\"sk-top-container\"><div class=\"sk-text-repr-fallback\"><pre>RandomForestClassifier(random_state=42)</pre><b>In a Jupyter environment, please rerun this cell to show the HTML representation or trust the notebook. <br />On GitHub, the HTML representation is unable to render, please try loading this page with nbviewer.org.</b></div><div class=\"sk-container\" hidden><div class=\"sk-item\"><div class=\"sk-estimator sk-toggleable\"><input class=\"sk-toggleable__control sk-hidden--visually\" id=\"sk-estimator-id-14\" type=\"checkbox\" checked><label for=\"sk-estimator-id-14\" class=\"sk-toggleable__label sk-toggleable__label-arrow\">RandomForestClassifier</label><div class=\"sk-toggleable__content\"><pre>RandomForestClassifier(random_state=42)</pre></div></div></div></div></div>"
      ],
      "text/plain": [
       "RandomForestClassifier(random_state=42)"
      ]
     },
     "execution_count": 212,
     "metadata": {},
     "output_type": "execute_result"
    }
   ],
   "source": [
    "# Train a Model\n",
    "rf = RandomForestClassifier(n_estimators=100, random_state=42)\n",
    "rf.fit(X_train, y_train)"
   ]
  },
  {
   "cell_type": "code",
   "execution_count": 213,
   "id": "dd63f08e",
   "metadata": {},
   "outputs": [
    {
     "name": "stdout",
     "output_type": "stream",
     "text": [
      "Accuracy: 0.81\n"
     ]
    }
   ],
   "source": [
    "# Predict and evaluate the model\n",
    "y_pred = rf.predict(X_test)\n",
    "accuracy = accuracy_score(y_test, y_pred)\n",
    "print(f'Accuracy: {accuracy:.2f}')"
   ]
  },
  {
   "cell_type": "code",
   "execution_count": 214,
   "id": "38218716",
   "metadata": {},
   "outputs": [],
   "source": [
    "# Step 2: Split the Dataset Based on Prediction Accuracy\n",
    "correct_indices = np.where(y_test == y_pred)[0]\n",
    "incorrect_indices = np.where(y_test != y_pred)[0]\n",
    "\n",
    "X_correct = X_test.iloc[correct_indices]\n",
    "X_incorrect = X_test.iloc[incorrect_indices]"
   ]
  },
  {
   "cell_type": "code",
   "execution_count": 215,
   "id": "2e13e923",
   "metadata": {},
   "outputs": [],
   "source": [
    "results = {}\n",
    "for feature in X.columns:\n",
    "    correct_values = X_correct[feature]\n",
    "    incorrect_values = X_incorrect[feature]\n",
    "    \n",
    "    # Perform Mann-Whitney U test\n",
    "    u_stat, p_value = mannwhitneyu(correct_values, incorrect_values, alternative='two-sided')\n",
    "    \n",
    "    # Calculate Rank-Biserial Correlation (effect size)\n",
    "    n1 = len(correct_values)\n",
    "    n2 = len(incorrect_values)\n",
    "    rank_biserial = (2 * u_stat / (n1 * n2)) - 1\n",
    "    \n",
    "    results[feature] = (u_stat, p_value, rank_biserial)"
   ]
  },
  {
   "cell_type": "code",
   "execution_count": 216,
   "id": "69d0639b",
   "metadata": {},
   "outputs": [],
   "source": [
    "# Convert results to a DataFrame for easier interpretation\n",
    "results_df = pd.DataFrame(results, index=['u_stat', 'p_value', 'effect_size']).T\n",
    "\n",
    "# Calculate the proportion of each attribute's contribution\n",
    "# Convert absolute rank-biserial values to importance scores\n",
    "#results_df['importance'] = results_df['effect_size'].abs()\n",
    "results_df['proportion'] = results_df['effect_size'].abs() / results_df['effect_size'].abs().sum()\n",
    "\n",
    "# Normalize the importance scores to get proportions\n",
    "#results_df['proportion'] = results_df['importance'].abs() / results_df['importance'].abs().sum()\n",
    "\n",
    "# Sort by proportion\n",
    "results_df = results_df.sort_values(by='proportion', ascending=False)"
   ]
  },
  {
   "cell_type": "code",
   "execution_count": 217,
   "id": "c01a6e9e",
   "metadata": {
    "scrolled": true
   },
   "outputs": [
    {
     "name": "stdout",
     "output_type": "stream",
     "text": [
      "\n",
      "Feature Importance (sorted by proportion):\n",
      "                         u_stat   p_value  effect_size  proportion\n",
      "account_balance          4293.0  0.000189     0.367415    0.198520\n",
      "savings_bond_value       3801.0  0.016713     0.210702    0.113846\n",
      "telephone                3565.5  0.109803     0.135690    0.073316\n",
      "credit_history           3564.0  0.145656     0.135213    0.073057\n",
      "type_of_housing          3540.5  0.125127     0.127727    0.069013\n",
      "nr_of_existing_credits   3470.5  0.221246     0.105431    0.056966\n",
      "job                      3432.0  0.294998     0.093168    0.050340\n",
      "sex_marital              3425.5  0.330693     0.091097    0.049221\n",
      "employed_since           2869.5  0.388982    -0.086001    0.046468\n",
      "guarantor                2901.5  0.086509    -0.075808    0.040960\n",
      "property                 3361.5  0.477517     0.070712    0.038207\n",
      "duration                 2932.5  0.520700    -0.065934    0.035625\n",
      "intallment_rate          2935.5  0.501583    -0.064978    0.035109\n",
      "residence_since          3323.5  0.550648     0.058608    0.031667\n",
      "age                      3002.0  0.672470    -0.043797    0.023664\n",
      "credit_amount            3270.0  0.688524     0.041567    0.022459\n",
      "other_installment_plans  3253.5  0.621814     0.036312    0.019620\n",
      "number_of_dependents     3219.5  0.723470     0.025482    0.013768\n",
      "foreign                  3115.0  0.836710    -0.007804    0.004217\n",
      "purpose                  3116.5  0.943466    -0.007326    0.003958\n"
     ]
    }
   ],
   "source": [
    "print(\"\\nFeature Importance (sorted by proportion):\")\n",
    "print(results_df)"
   ]
  },
  {
   "cell_type": "code",
   "execution_count": 218,
   "id": "37d645dd",
   "metadata": {
    "scrolled": true
   },
   "outputs": [
    {
     "data": {
      "image/png": "[encoded data removed]",
      "text/plain": [
       "<Figure size 1000x600 with 1 Axes>"
      ]
     },
     "metadata": {},
     "output_type": "display_data"
    }
   ],
   "source": [
    "# Plot Feature Importance\n",
    "plt.figure(figsize=(10, 6))\n",
    "plt.barh(results_df.index, results_df['proportion'])\n",
    "plt.xlabel('Importance')\n",
    "plt.ylabel('Feature')\n",
    "plt.title('Feature Importance from Random Forest')\n",
    "plt.gca().invert_yaxis()\n",
    "plt.show()"
   ]
  },
  {
   "cell_type": "code",
   "execution_count": 219,
   "id": "b50e47e7",
   "metadata": {},
   "outputs": [],
   "source": [
    "# Add Rank column\n",
    "results_df['rank'] = range(1, len(results_df) + 1)\n",
    "\n",
    "# Add Model column with fixed value 'x'\n",
    "results_df['model'] = 'Random Forest Classifier'\n",
    "\n",
    "# First, reset the index to move the current index into a column named 'feature'\n",
    "results_df = results_df.reset_index().rename(columns={'index': 'feature'})"
   ]
  },
  {
   "cell_type": "code",
   "execution_count": 220,
   "id": "bb3e9a23",
   "metadata": {},
   "outputs": [],
   "source": [
    "# Concatenate the dataframes\n",
    "all_results_df = pd.concat([all_results_df, results_df], ignore_index=True) "
   ]
  },
  {
   "cell_type": "markdown",
   "id": "b220daca",
   "metadata": {},
   "source": [
    "# Bagged Tree Classifier"
   ]
  },
  {
   "cell_type": "code",
   "execution_count": 221,
   "id": "86157da9",
   "metadata": {},
   "outputs": [],
   "source": [
    "# Assuming df5c is your DataFrame\n",
    "# Drop the target column and the first column (assuming it's the index or another non-feature column)\n",
    "X = df5c.drop(columns=['target']).iloc[:, 1:]\n",
    "y = df5c['target']"
   ]
  },
  {
   "cell_type": "code",
   "execution_count": 222,
   "id": "708c2216",
   "metadata": {},
   "outputs": [],
   "source": [
    "# Split the data into training and testing sets\n",
    "X_train, X_test, y_train, y_test = train_test_split(X, y, test_size=0.2, random_state=42)"
   ]
  },
  {
   "cell_type": "code",
   "execution_count": 223,
   "id": "22f3efeb",
   "metadata": {},
   "outputs": [
    {
     "data": {
      "text/html": [
       "<style>#sk-container-id-13 {color: black;background-color: white;}#sk-container-id-13 pre{padding: 0;}#sk-container-id-13 div.sk-toggleable {background-color: white;}#sk-container-id-13 label.sk-toggleable__label {cursor: pointer;display: block;width: 100%;margin-bottom: 0;padding: 0.3em;box-sizing: border-box;text-align: center;}#sk-container-id-13 label.sk-toggleable__label-arrow:before {content: \"▸\";float: left;margin-right: 0.25em;color: #696969;}#sk-container-id-13 label.sk-toggleable__label-arrow:hover:before {color: black;}#sk-container-id-13 div.sk-estimator:hover label.sk-toggleable__label-arrow:before {color: black;}#sk-container-id-13 div.sk-toggleable__content {max-height: 0;max-width: 0;overflow: hidden;text-align: left;background-color: #f0f8ff;}#sk-container-id-13 div.sk-toggleable__content pre {margin: 0.2em;color: black;border-radius: 0.25em;background-color: #f0f8ff;}#sk-container-id-13 input.sk-toggleable__control:checked~div.sk-toggleable__content {max-height: 200px;max-width: 100%;overflow: auto;}#sk-container-id-13 input.sk-toggleable__control:checked~label.sk-toggleable__label-arrow:before {content: \"▾\";}#sk-container-id-13 div.sk-estimator input.sk-toggleable__control:checked~label.sk-toggleable__label {background-color: #d4ebff;}#sk-container-id-13 div.sk-label input.sk-toggleable__control:checked~label.sk-toggleable__label {background-color: #d4ebff;}#sk-container-id-13 input.sk-hidden--visually {border: 0;clip: rect(1px 1px 1px 1px);clip: rect(1px, 1px, 1px, 1px);height: 1px;margin: -1px;overflow: hidden;padding: 0;position: absolute;width: 1px;}#sk-container-id-13 div.sk-estimator {font-family: monospace;background-color: #f0f8ff;border: 1px dotted black;border-radius: 0.25em;box-sizing: border-box;margin-bottom: 0.5em;}#sk-container-id-13 div.sk-estimator:hover {background-color: #d4ebff;}#sk-container-id-13 div.sk-parallel-item::after {content: \"\";width: 100%;border-bottom: 1px solid gray;flex-grow: 1;}#sk-container-id-13 div.sk-label:hover label.sk-toggleable__label {background-color: #d4ebff;}#sk-container-id-13 div.sk-serial::before {content: \"\";position: absolute;border-left: 1px solid gray;box-sizing: border-box;top: 0;bottom: 0;left: 50%;z-index: 0;}#sk-container-id-13 div.sk-serial {display: flex;flex-direction: column;align-items: center;background-color: white;padding-right: 0.2em;padding-left: 0.2em;position: relative;}#sk-container-id-13 div.sk-item {position: relative;z-index: 1;}#sk-container-id-13 div.sk-parallel {display: flex;align-items: stretch;justify-content: center;background-color: white;position: relative;}#sk-container-id-13 div.sk-item::before, #sk-container-id-13 div.sk-parallel-item::before {content: \"\";position: absolute;border-left: 1px solid gray;box-sizing: border-box;top: 0;bottom: 0;left: 50%;z-index: -1;}#sk-container-id-13 div.sk-parallel-item {display: flex;flex-direction: column;z-index: 1;position: relative;background-color: white;}#sk-container-id-13 div.sk-parallel-item:first-child::after {align-self: flex-end;width: 50%;}#sk-container-id-13 div.sk-parallel-item:last-child::after {align-self: flex-start;width: 50%;}#sk-container-id-13 div.sk-parallel-item:only-child::after {width: 0;}#sk-container-id-13 div.sk-dashed-wrapped {border: 1px dashed gray;margin: 0 0.4em 0.5em 0.4em;box-sizing: border-box;padding-bottom: 0.4em;background-color: white;}#sk-container-id-13 div.sk-label label {font-family: monospace;font-weight: bold;display: inline-block;line-height: 1.2em;}#sk-container-id-13 div.sk-label-container {text-align: center;}#sk-container-id-13 div.sk-container {/* jupyter's `normalize.less` sets `[hidden] { display: none; }` but bootstrap.min.css set `[hidden] { display: none !important; }` so we also need the `!important` here to be able to override the default hidden behavior on the sphinx rendered scikit-learn.org. See: https://github.com/scikit-learn/scikit-learn/issues/21755 */display: inline-block !important;position: relative;}#sk-container-id-13 div.sk-text-repr-fallback {display: none;}</style><div id=\"sk-container-id-13\" class=\"sk-top-container\"><div class=\"sk-text-repr-fallback\"><pre>BaggingClassifier(estimator=DecisionTreeClassifier(), random_state=42)</pre><b>In a Jupyter environment, please rerun this cell to show the HTML representation or trust the notebook. <br />On GitHub, the HTML representation is unable to render, please try loading this page with nbviewer.org.</b></div><div class=\"sk-container\" hidden><div class=\"sk-item sk-dashed-wrapped\"><div class=\"sk-label-container\"><div class=\"sk-label sk-toggleable\"><input class=\"sk-toggleable__control sk-hidden--visually\" id=\"sk-estimator-id-15\" type=\"checkbox\" ><label for=\"sk-estimator-id-15\" class=\"sk-toggleable__label sk-toggleable__label-arrow\">BaggingClassifier</label><div class=\"sk-toggleable__content\"><pre>BaggingClassifier(estimator=DecisionTreeClassifier(), random_state=42)</pre></div></div></div><div class=\"sk-parallel\"><div class=\"sk-parallel-item\"><div class=\"sk-item\"><div class=\"sk-label-container\"><div class=\"sk-label sk-toggleable\"><input class=\"sk-toggleable__control sk-hidden--visually\" id=\"sk-estimator-id-16\" type=\"checkbox\" ><label for=\"sk-estimator-id-16\" class=\"sk-toggleable__label sk-toggleable__label-arrow\">estimator: DecisionTreeClassifier</label><div class=\"sk-toggleable__content\"><pre>DecisionTreeClassifier()</pre></div></div></div><div class=\"sk-serial\"><div class=\"sk-item\"><div class=\"sk-estimator sk-toggleable\"><input class=\"sk-toggleable__control sk-hidden--visually\" id=\"sk-estimator-id-17\" type=\"checkbox\" ><label for=\"sk-estimator-id-17\" class=\"sk-toggleable__label sk-toggleable__label-arrow\">DecisionTreeClassifier</label><div class=\"sk-toggleable__content\"><pre>DecisionTreeClassifier()</pre></div></div></div></div></div></div></div></div></div></div>"
      ],
      "text/plain": [
       "BaggingClassifier(estimator=DecisionTreeClassifier(), random_state=42)"
      ]
     },
     "execution_count": 223,
     "metadata": {},
     "output_type": "execute_result"
    }
   ],
   "source": [
    "# Initialize a Decision Tree classifier\n",
    "base_estimator = DecisionTreeClassifier()\n",
    "\n",
    "# Initialize BaggingClassifier with Decision Tree as base estimator\n",
    "btc = BaggingClassifier(base_estimator, n_estimators=10, random_state=42)\n",
    "btc.fit(X_train, y_train)"
   ]
  },
  {
   "cell_type": "code",
   "execution_count": 224,
   "id": "e1d36b49",
   "metadata": {},
   "outputs": [
    {
     "name": "stdout",
     "output_type": "stream",
     "text": [
      "Accuracy: 0.76\n"
     ]
    }
   ],
   "source": [
    "# Predict and evaluate the model\n",
    "y_pred = btc.predict(X_test)\n",
    "accuracy = accuracy_score(y_test, y_pred)\n",
    "print(f'Accuracy: {accuracy:.2f}')"
   ]
  },
  {
   "cell_type": "code",
   "execution_count": 225,
   "id": "a830687f",
   "metadata": {},
   "outputs": [],
   "source": [
    "# Step 2: Split the Dataset Based on Prediction Accuracy\n",
    "correct_indices = np.where(y_test == y_pred)[0]\n",
    "incorrect_indices = np.where(y_test != y_pred)[0]\n",
    "\n",
    "X_correct = X_test.iloc[correct_indices]\n",
    "X_incorrect = X_test.iloc[incorrect_indices]"
   ]
  },
  {
   "cell_type": "code",
   "execution_count": 226,
   "id": "b145f15f",
   "metadata": {},
   "outputs": [],
   "source": [
    "results = {}\n",
    "for feature in X.columns:\n",
    "    correct_values = X_correct[feature]\n",
    "    incorrect_values = X_incorrect[feature]\n",
    "    \n",
    "    # Perform Mann-Whitney U test\n",
    "    u_stat, p_value = mannwhitneyu(correct_values, incorrect_values, alternative='two-sided')\n",
    "    \n",
    "    # Calculate Rank-Biserial Correlation (effect size)\n",
    "    n1 = len(correct_values)\n",
    "    n2 = len(incorrect_values)\n",
    "    rank_biserial = (2 * u_stat / (n1 * n2)) - 1\n",
    "    \n",
    "    results[feature] = (u_stat, p_value, rank_biserial)"
   ]
  },
  {
   "cell_type": "code",
   "execution_count": 227,
   "id": "11a7a2af",
   "metadata": {},
   "outputs": [],
   "source": [
    "# Convert results to a DataFrame for easier interpretation\n",
    "results_df = pd.DataFrame(results, index=['u_stat', 'p_value', 'effect_size']).T\n",
    "\n",
    "# Calculate the proportion of each attribute's contribution\n",
    "# Convert absolute rank-biserial values to importance scores\n",
    "#results_df['importance'] = results_df['effect_size'].abs()\n",
    "results_df['proportion'] = results_df['effect_size'].abs() / results_df['effect_size'].abs().sum()\n",
    "\n",
    "# Normalize the importance scores to get proportions\n",
    "#results_df['proportion'] = results_df['importance'].abs() / results_df['importance'].abs().sum()\n",
    "\n",
    "# Sort by proportion\n",
    "results_df = results_df.sort_values(by='proportion', ascending=False)"
   ]
  },
  {
   "cell_type": "code",
   "execution_count": 228,
   "id": "b0c1f2d7",
   "metadata": {
    "scrolled": true
   },
   "outputs": [
    {
     "name": "stdout",
     "output_type": "stream",
     "text": [
      "\n",
      "Feature Importance (sorted by proportion):\n",
      "                         u_stat   p_value  effect_size  proportion\n",
      "account_balance          5124.5  0.000009     0.404742    0.201007\n",
      "savings_bond_value       4510.5  0.003792     0.236431    0.117419\n",
      "credit_history           4273.0  0.046796     0.171327    0.085086\n",
      "residence_since          4204.5  0.093445     0.152549    0.075761\n",
      "nr_of_existing_credits   4197.5  0.059431     0.150630    0.074808\n",
      "telephone                4180.0  0.063882     0.145833    0.072425\n",
      "job                      3973.0  0.280309     0.089090    0.044245\n",
      "type_of_housing          3968.0  0.256387     0.087719    0.043564\n",
      "duration                 3346.5  0.385126    -0.082648    0.041046\n",
      "credit_amount            3938.0  0.407596     0.079496    0.039480\n",
      "property                 3912.0  0.433107     0.072368    0.035940\n",
      "employed_since           3401.5  0.465704    -0.067571    0.033558\n",
      "intallment_rate          3420.5  0.486805    -0.062363    0.030971\n",
      "purpose                  3432.5  0.529594    -0.059073    0.029338\n",
      "number_of_dependents     3808.0  0.510189     0.043860    0.021782\n",
      "sex_marital              3772.0  0.696280     0.033991    0.016881\n",
      "foreign                  3764.0  0.357495     0.031798    0.015792\n",
      "guarantor                3572.0  0.613205    -0.020833    0.010346\n",
      "other_installment_plans  3722.0  0.766971     0.020285    0.010074\n",
      "age                      3644.5  0.993148    -0.000959    0.000476\n"
     ]
    }
   ],
   "source": [
    "print(\"\\nFeature Importance (sorted by proportion):\")\n",
    "print(results_df)"
   ]
  },
  {
   "cell_type": "code",
   "execution_count": 229,
   "id": "278e21da",
   "metadata": {},
   "outputs": [
    {
     "data": {
      "image/png": "[encoded data removed]",
      "text/plain": [
       "<Figure size 1000x600 with 1 Axes>"
      ]
     },
     "metadata": {},
     "output_type": "display_data"
    }
   ],
   "source": [
    "# Plot Feature Importance\n",
    "plt.figure(figsize=(10, 6))\n",
    "plt.barh(results_df.index, results_df['proportion'])\n",
    "plt.xlabel('Importance')\n",
    "plt.ylabel('Feature')\n",
    "plt.title('Feature Importance from Bagged Tree')\n",
    "plt.gca().invert_yaxis()\n",
    "plt.show()"
   ]
  },
  {
   "cell_type": "code",
   "execution_count": 230,
   "id": "7d6095ab",
   "metadata": {},
   "outputs": [],
   "source": [
    "# Add Rank column\n",
    "results_df['rank'] = range(1, len(results_df) + 1)\n",
    "\n",
    "# Add Model column with fixed value 'x'\n",
    "results_df['model'] = 'Bagged Tree Classifier'\n",
    "\n",
    "# First, reset the index to move the current index into a column named 'feature'\n",
    "results_df = results_df.reset_index().rename(columns={'index': 'feature'})"
   ]
  },
  {
   "cell_type": "code",
   "execution_count": 231,
   "id": "be880157",
   "metadata": {},
   "outputs": [],
   "source": [
    "# Concatenate the dataframes\n",
    "all_results_df = pd.concat([all_results_df, results_df], ignore_index=True) "
   ]
  },
  {
   "cell_type": "markdown",
   "id": "b139bad5",
   "metadata": {},
   "source": [
    "# SVC"
   ]
  },
  {
   "cell_type": "code",
   "execution_count": 232,
   "id": "db14a30c",
   "metadata": {},
   "outputs": [],
   "source": [
    "# Assuming df5c is your DataFrame\n",
    "# Drop the target column and the first column (assuming it's the index or another non-feature column)\n",
    "X = df5c.drop(columns=['target']).iloc[:, 1:]\n",
    "y = df5c['target']"
   ]
  },
  {
   "cell_type": "code",
   "execution_count": 233,
   "id": "0bcc04e2",
   "metadata": {},
   "outputs": [],
   "source": [
    "# Split the data into training and testing sets\n",
    "X_train, X_test, y_train, y_test = train_test_split(X, y, test_size=0.2, random_state=42)"
   ]
  },
  {
   "cell_type": "code",
   "execution_count": 234,
   "id": "311768bf",
   "metadata": {},
   "outputs": [
    {
     "data": {
      "text/html": [
       "<style>#sk-container-id-14 {color: black;background-color: white;}#sk-container-id-14 pre{padding: 0;}#sk-container-id-14 div.sk-toggleable {background-color: white;}#sk-container-id-14 label.sk-toggleable__label {cursor: pointer;display: block;width: 100%;margin-bottom: 0;padding: 0.3em;box-sizing: border-box;text-align: center;}#sk-container-id-14 label.sk-toggleable__label-arrow:before {content: \"▸\";float: left;margin-right: 0.25em;color: #696969;}#sk-container-id-14 label.sk-toggleable__label-arrow:hover:before {color: black;}#sk-container-id-14 div.sk-estimator:hover label.sk-toggleable__label-arrow:before {color: black;}#sk-container-id-14 div.sk-toggleable__content {max-height: 0;max-width: 0;overflow: hidden;text-align: left;background-color: #f0f8ff;}#sk-container-id-14 div.sk-toggleable__content pre {margin: 0.2em;color: black;border-radius: 0.25em;background-color: #f0f8ff;}#sk-container-id-14 input.sk-toggleable__control:checked~div.sk-toggleable__content {max-height: 200px;max-width: 100%;overflow: auto;}#sk-container-id-14 input.sk-toggleable__control:checked~label.sk-toggleable__label-arrow:before {content: \"▾\";}#sk-container-id-14 div.sk-estimator input.sk-toggleable__control:checked~label.sk-toggleable__label {background-color: #d4ebff;}#sk-container-id-14 div.sk-label input.sk-toggleable__control:checked~label.sk-toggleable__label {background-color: #d4ebff;}#sk-container-id-14 input.sk-hidden--visually {border: 0;clip: rect(1px 1px 1px 1px);clip: rect(1px, 1px, 1px, 1px);height: 1px;margin: -1px;overflow: hidden;padding: 0;position: absolute;width: 1px;}#sk-container-id-14 div.sk-estimator {font-family: monospace;background-color: #f0f8ff;border: 1px dotted black;border-radius: 0.25em;box-sizing: border-box;margin-bottom: 0.5em;}#sk-container-id-14 div.sk-estimator:hover {background-color: #d4ebff;}#sk-container-id-14 div.sk-parallel-item::after {content: \"\";width: 100%;border-bottom: 1px solid gray;flex-grow: 1;}#sk-container-id-14 div.sk-label:hover label.sk-toggleable__label {background-color: #d4ebff;}#sk-container-id-14 div.sk-serial::before {content: \"\";position: absolute;border-left: 1px solid gray;box-sizing: border-box;top: 0;bottom: 0;left: 50%;z-index: 0;}#sk-container-id-14 div.sk-serial {display: flex;flex-direction: column;align-items: center;background-color: white;padding-right: 0.2em;padding-left: 0.2em;position: relative;}#sk-container-id-14 div.sk-item {position: relative;z-index: 1;}#sk-container-id-14 div.sk-parallel {display: flex;align-items: stretch;justify-content: center;background-color: white;position: relative;}#sk-container-id-14 div.sk-item::before, #sk-container-id-14 div.sk-parallel-item::before {content: \"\";position: absolute;border-left: 1px solid gray;box-sizing: border-box;top: 0;bottom: 0;left: 50%;z-index: -1;}#sk-container-id-14 div.sk-parallel-item {display: flex;flex-direction: column;z-index: 1;position: relative;background-color: white;}#sk-container-id-14 div.sk-parallel-item:first-child::after {align-self: flex-end;width: 50%;}#sk-container-id-14 div.sk-parallel-item:last-child::after {align-self: flex-start;width: 50%;}#sk-container-id-14 div.sk-parallel-item:only-child::after {width: 0;}#sk-container-id-14 div.sk-dashed-wrapped {border: 1px dashed gray;margin: 0 0.4em 0.5em 0.4em;box-sizing: border-box;padding-bottom: 0.4em;background-color: white;}#sk-container-id-14 div.sk-label label {font-family: monospace;font-weight: bold;display: inline-block;line-height: 1.2em;}#sk-container-id-14 div.sk-label-container {text-align: center;}#sk-container-id-14 div.sk-container {/* jupyter's `normalize.less` sets `[hidden] { display: none; }` but bootstrap.min.css set `[hidden] { display: none !important; }` so we also need the `!important` here to be able to override the default hidden behavior on the sphinx rendered scikit-learn.org. See: https://github.com/scikit-learn/scikit-learn/issues/21755 */display: inline-block !important;position: relative;}#sk-container-id-14 div.sk-text-repr-fallback {display: none;}</style><div id=\"sk-container-id-14\" class=\"sk-top-container\"><div class=\"sk-text-repr-fallback\"><pre>SVC()</pre><b>In a Jupyter environment, please rerun this cell to show the HTML representation or trust the notebook. <br />On GitHub, the HTML representation is unable to render, please try loading this page with nbviewer.org.</b></div><div class=\"sk-container\" hidden><div class=\"sk-item\"><div class=\"sk-estimator sk-toggleable\"><input class=\"sk-toggleable__control sk-hidden--visually\" id=\"sk-estimator-id-18\" type=\"checkbox\" checked><label for=\"sk-estimator-id-18\" class=\"sk-toggleable__label sk-toggleable__label-arrow\">SVC</label><div class=\"sk-toggleable__content\"><pre>SVC()</pre></div></div></div></div></div>"
      ],
      "text/plain": [
       "SVC()"
      ]
     },
     "execution_count": 234,
     "metadata": {},
     "output_type": "execute_result"
    }
   ],
   "source": [
    "# Train a Model\n",
    "svc = SVC()\n",
    "svc.fit(X_train, y_train)"
   ]
  },
  {
   "cell_type": "code",
   "execution_count": 235,
   "id": "dd47ae47",
   "metadata": {},
   "outputs": [
    {
     "name": "stdout",
     "output_type": "stream",
     "text": [
      "Accuracy: 0.71\n"
     ]
    }
   ],
   "source": [
    "# Predict and evaluate the model\n",
    "y_pred = svc.predict(X_test)\n",
    "accuracy = accuracy_score(y_test, y_pred)\n",
    "print(f'Accuracy: {accuracy:.2f}')"
   ]
  },
  {
   "cell_type": "code",
   "execution_count": 236,
   "id": "eac05c59",
   "metadata": {},
   "outputs": [],
   "source": [
    "# Step 2: Split the Dataset Based on Prediction Accuracy\n",
    "correct_indices = np.where(y_test == y_pred)[0]\n",
    "incorrect_indices = np.where(y_test != y_pred)[0]\n",
    "\n",
    "X_correct = X_test.iloc[correct_indices]\n",
    "X_incorrect = X_test.iloc[incorrect_indices]"
   ]
  },
  {
   "cell_type": "code",
   "execution_count": 237,
   "id": "82e797a2",
   "metadata": {},
   "outputs": [],
   "source": [
    "results = {}\n",
    "for feature in X.columns:\n",
    "    correct_values = X_correct[feature]\n",
    "    incorrect_values = X_incorrect[feature]\n",
    "    \n",
    "    # Perform Mann-Whitney U test\n",
    "    u_stat, p_value = mannwhitneyu(correct_values, incorrect_values, alternative='two-sided')\n",
    "    \n",
    "    # Calculate Rank-Biserial Correlation (effect size)\n",
    "    n1 = len(correct_values)\n",
    "    n2 = len(incorrect_values)\n",
    "    rank_biserial = (2 * u_stat / (n1 * n2)) - 1\n",
    "    \n",
    "    results[feature] = (u_stat, p_value, rank_biserial)"
   ]
  },
  {
   "cell_type": "code",
   "execution_count": 238,
   "id": "8b317efb",
   "metadata": {},
   "outputs": [],
   "source": [
    "# Convert results to a DataFrame for easier interpretation\n",
    "results_df = pd.DataFrame(results, index=['u_stat', 'p_value', 'effect_size']).T\n",
    "\n",
    "# Calculate the proportion of each attribute's contribution\n",
    "# Convert absolute rank-biserial values to importance scores\n",
    "#results_df['importance'] = results_df['effect_size'].abs()\n",
    "results_df['proportion'] = results_df['effect_size'].abs() / results_df['effect_size'].abs().sum()\n",
    "\n",
    "# Normalize the importance scores to get proportions\n",
    "#results_df['proportion'] = results_df['importance'].abs() / results_df['importance'].abs().sum()\n",
    "\n",
    "# Sort by proportion\n",
    "results_df = results_df.sort_values(by='proportion', ascending=False)"
   ]
  },
  {
   "cell_type": "code",
   "execution_count": 239,
   "id": "5437c1b4",
   "metadata": {
    "scrolled": true
   },
   "outputs": [
    {
     "name": "stdout",
     "output_type": "stream",
     "text": [
      "\n",
      "Feature Importance (sorted by proportion):\n",
      "                         u_stat       p_value  effect_size  proportion\n",
      "account_balance          6009.5  3.928018e-08     0.474543    0.196136\n",
      "savings_bond_value       5301.0  9.928004e-05     0.300699    0.124284\n",
      "duration                 2861.0  9.196797e-04    -0.298000    0.123168\n",
      "intallment_rate          3097.5  4.609902e-03    -0.239971    0.099184\n",
      "telephone                4613.5  7.624264e-02     0.132008    0.054561\n",
      "job                      4593.0  1.036590e-01     0.126978    0.052482\n",
      "credit_history           4591.0  1.208618e-01     0.126488    0.052279\n",
      "employed_since           4559.5  1.749443e-01     0.118758    0.049085\n",
      "sex_marital              4557.5  1.499101e-01     0.118268    0.048882\n",
      "age                      3666.5  2.685602e-01    -0.100356    0.041479\n",
      "other_installment_plans  4448.5  1.553451e-01     0.091523    0.037828\n",
      "nr_of_existing_credits   4361.0  3.545489e-01     0.070053    0.028954\n",
      "property                 3827.0  4.851717e-01    -0.060974    0.025202\n",
      "guarantor                3864.0  1.813574e-01    -0.051895    0.021449\n",
      "foreign                  4232.0  2.396702e-01     0.038400    0.015871\n",
      "purpose                  3970.5  7.725258e-01    -0.025764    0.010649\n",
      "type_of_housing          4162.5  7.712695e-01     0.021347    0.008823\n",
      "number_of_dependents     4015.5  8.162099e-01    -0.014722    0.006085\n",
      "residence_since          4099.5  9.465180e-01     0.005889    0.002434\n",
      "credit_amount            4087.0  9.762504e-01     0.002822    0.001166\n"
     ]
    }
   ],
   "source": [
    "print(\"\\nFeature Importance (sorted by proportion):\")\n",
    "print(results_df)"
   ]
  },
  {
   "cell_type": "code",
   "execution_count": 240,
   "id": "7a13beb1",
   "metadata": {
    "scrolled": true
   },
   "outputs": [
    {
     "data": {
      "image/png": "[encoded data removed]",
      "text/plain": [
       "<Figure size 1000x600 with 1 Axes>"
      ]
     },
     "metadata": {},
     "output_type": "display_data"
    }
   ],
   "source": [
    "# Plot Feature Importance\n",
    "plt.figure(figsize=(10, 6))\n",
    "plt.barh(results_df.index, results_df['proportion'])\n",
    "plt.xlabel('Importance')\n",
    "plt.ylabel('Feature')\n",
    "plt.title('Feature Importance from SVC')\n",
    "plt.gca().invert_yaxis()\n",
    "plt.show()"
   ]
  },
  {
   "cell_type": "code",
   "execution_count": 241,
   "id": "27650b7a",
   "metadata": {},
   "outputs": [],
   "source": [
    "# Add Rank column\n",
    "results_df['rank'] = range(1, len(results_df) + 1)\n",
    "\n",
    "# Add Model column with fixed value 'x'\n",
    "results_df['model'] = 'SVC'\n",
    "\n",
    "# First, reset the index to move the current index into a column named 'feature'\n",
    "results_df = results_df.reset_index().rename(columns={'index': 'feature'})"
   ]
  },
  {
   "cell_type": "code",
   "execution_count": 242,
   "id": "8437617d",
   "metadata": {},
   "outputs": [],
   "source": [
    "# Concatenate the dataframes\n",
    "all_results_df = pd.concat([all_results_df, results_df], ignore_index=True) "
   ]
  },
  {
   "cell_type": "markdown",
   "id": "f794841c",
   "metadata": {},
   "source": [
    "# LightGBM"
   ]
  },
  {
   "cell_type": "code",
   "execution_count": 243,
   "id": "7650f475",
   "metadata": {},
   "outputs": [],
   "source": [
    "# Assuming df5c is your DataFrame\n",
    "# Drop the target column and the first column (assuming it's the index or another non-feature column)\n",
    "X = df5c.drop(columns=['target']).iloc[:, 1:]\n",
    "y = df5c['target']"
   ]
  },
  {
   "cell_type": "code",
   "execution_count": 244,
   "id": "482f87b6",
   "metadata": {},
   "outputs": [],
   "source": [
    "# Split the data into training and testing sets\n",
    "X_train, X_test, y_train, y_test = train_test_split(X, y, test_size=0.2, random_state=42)"
   ]
  },
  {
   "cell_type": "code",
   "execution_count": 245,
   "id": "d18e558e",
   "metadata": {},
   "outputs": [
    {
     "name": "stdout",
     "output_type": "stream",
     "text": [
      "[LightGBM] [Info] Number of positive: 241, number of negative: 559\n",
      "[LightGBM] [Info] Auto-choosing row-wise multi-threading, the overhead of testing was 0.000811 seconds.\n",
      "You can set `force_row_wise=true` to remove the overhead.\n",
      "And if memory is not enough, you can set `force_col_wise=true`.\n",
      "[LightGBM] [Info] Total Bins 402\n",
      "[LightGBM] [Info] Number of data points in the train set: 800, number of used features: 20\n",
      "[LightGBM] [Info] [binary:BoostFromScore]: pavg=0.301250 -> initscore=-0.841353\n",
      "[LightGBM] [Info] Start training from score -0.841353\n",
      "[LightGBM] [Warning] No further splits with positive gain, best gain: -inf\n",
      "[LightGBM] [Warning] No further splits with positive gain, best gain: -inf\n",
      "[LightGBM] [Warning] No further splits with positive gain, best gain: -inf\n",
      "[LightGBM] [Warning] No further splits with positive gain, best gain: -inf\n",
      "[LightGBM] [Warning] No further splits with positive gain, best gain: -inf\n",
      "[LightGBM] [Warning] No further splits with positive gain, best gain: -inf\n",
      "[LightGBM] [Warning] No further splits with positive gain, best gain: -inf\n",
      "[LightGBM] [Warning] No further splits with positive gain, best gain: -inf\n",
      "[LightGBM] [Warning] No further splits with positive gain, best gain: -inf\n",
      "[LightGBM] [Warning] No further splits with positive gain, best gain: -inf\n",
      "[LightGBM] [Warning] No further splits with positive gain, best gain: -inf\n",
      "[LightGBM] [Warning] No further splits with positive gain, best gain: -inf\n",
      "[LightGBM] [Warning] No further splits with positive gain, best gain: -inf\n",
      "[LightGBM] [Warning] No further splits with positive gain, best gain: -inf\n",
      "[LightGBM] [Warning] No further splits with positive gain, best gain: -inf\n",
      "[LightGBM] [Warning] No further splits with positive gain, best gain: -inf\n",
      "[LightGBM] [Warning] No further splits with positive gain, best gain: -inf\n",
      "[LightGBM] [Warning] No further splits with positive gain, best gain: -inf\n",
      "[LightGBM] [Warning] No further splits with positive gain, best gain: -inf\n",
      "[LightGBM] [Warning] No further splits with positive gain, best gain: -inf\n",
      "[LightGBM] [Warning] No further splits with positive gain, best gain: -inf\n",
      "[LightGBM] [Warning] No further splits with positive gain, best gain: -inf\n",
      "[LightGBM] [Warning] No further splits with positive gain, best gain: -inf\n",
      "[LightGBM] [Warning] No further splits with positive gain, best gain: -inf\n",
      "[LightGBM] [Warning] No further splits with positive gain, best gain: -inf\n",
      "[LightGBM] [Warning] No further splits with positive gain, best gain: -inf\n",
      "[LightGBM] [Warning] No further splits with positive gain, best gain: -inf\n"
     ]
    },
    {
     "data": {
      "text/html": [
       "<style>#sk-container-id-15 {color: black;background-color: white;}#sk-container-id-15 pre{padding: 0;}#sk-container-id-15 div.sk-toggleable {background-color: white;}#sk-container-id-15 label.sk-toggleable__label {cursor: pointer;display: block;width: 100%;margin-bottom: 0;padding: 0.3em;box-sizing: border-box;text-align: center;}#sk-container-id-15 label.sk-toggleable__label-arrow:before {content: \"▸\";float: left;margin-right: 0.25em;color: #696969;}#sk-container-id-15 label.sk-toggleable__label-arrow:hover:before {color: black;}#sk-container-id-15 div.sk-estimator:hover label.sk-toggleable__label-arrow:before {color: black;}#sk-container-id-15 div.sk-toggleable__content {max-height: 0;max-width: 0;overflow: hidden;text-align: left;background-color: #f0f8ff;}#sk-container-id-15 div.sk-toggleable__content pre {margin: 0.2em;color: black;border-radius: 0.25em;background-color: #f0f8ff;}#sk-container-id-15 input.sk-toggleable__control:checked~div.sk-toggleable__content {max-height: 200px;max-width: 100%;overflow: auto;}#sk-container-id-15 input.sk-toggleable__control:checked~label.sk-toggleable__label-arrow:before {content: \"▾\";}#sk-container-id-15 div.sk-estimator input.sk-toggleable__control:checked~label.sk-toggleable__label {background-color: #d4ebff;}#sk-container-id-15 div.sk-label input.sk-toggleable__control:checked~label.sk-toggleable__label {background-color: #d4ebff;}#sk-container-id-15 input.sk-hidden--visually {border: 0;clip: rect(1px 1px 1px 1px);clip: rect(1px, 1px, 1px, 1px);height: 1px;margin: -1px;overflow: hidden;padding: 0;position: absolute;width: 1px;}#sk-container-id-15 div.sk-estimator {font-family: monospace;background-color: #f0f8ff;border: 1px dotted black;border-radius: 0.25em;box-sizing: border-box;margin-bottom: 0.5em;}#sk-container-id-15 div.sk-estimator:hover {background-color: #d4ebff;}#sk-container-id-15 div.sk-parallel-item::after {content: \"\";width: 100%;border-bottom: 1px solid gray;flex-grow: 1;}#sk-container-id-15 div.sk-label:hover label.sk-toggleable__label {background-color: #d4ebff;}#sk-container-id-15 div.sk-serial::before {content: \"\";position: absolute;border-left: 1px solid gray;box-sizing: border-box;top: 0;bottom: 0;left: 50%;z-index: 0;}#sk-container-id-15 div.sk-serial {display: flex;flex-direction: column;align-items: center;background-color: white;padding-right: 0.2em;padding-left: 0.2em;position: relative;}#sk-container-id-15 div.sk-item {position: relative;z-index: 1;}#sk-container-id-15 div.sk-parallel {display: flex;align-items: stretch;justify-content: center;background-color: white;position: relative;}#sk-container-id-15 div.sk-item::before, #sk-container-id-15 div.sk-parallel-item::before {content: \"\";position: absolute;border-left: 1px solid gray;box-sizing: border-box;top: 0;bottom: 0;left: 50%;z-index: -1;}#sk-container-id-15 div.sk-parallel-item {display: flex;flex-direction: column;z-index: 1;position: relative;background-color: white;}#sk-container-id-15 div.sk-parallel-item:first-child::after {align-self: flex-end;width: 50%;}#sk-container-id-15 div.sk-parallel-item:last-child::after {align-self: flex-start;width: 50%;}#sk-container-id-15 div.sk-parallel-item:only-child::after {width: 0;}#sk-container-id-15 div.sk-dashed-wrapped {border: 1px dashed gray;margin: 0 0.4em 0.5em 0.4em;box-sizing: border-box;padding-bottom: 0.4em;background-color: white;}#sk-container-id-15 div.sk-label label {font-family: monospace;font-weight: bold;display: inline-block;line-height: 1.2em;}#sk-container-id-15 div.sk-label-container {text-align: center;}#sk-container-id-15 div.sk-container {/* jupyter's `normalize.less` sets `[hidden] { display: none; }` but bootstrap.min.css set `[hidden] { display: none !important; }` so we also need the `!important` here to be able to override the default hidden behavior on the sphinx rendered scikit-learn.org. See: https://github.com/scikit-learn/scikit-learn/issues/21755 */display: inline-block !important;position: relative;}#sk-container-id-15 div.sk-text-repr-fallback {display: none;}</style><div id=\"sk-container-id-15\" class=\"sk-top-container\"><div class=\"sk-text-repr-fallback\"><pre>LGBMClassifier()</pre><b>In a Jupyter environment, please rerun this cell to show the HTML representation or trust the notebook. <br />On GitHub, the HTML representation is unable to render, please try loading this page with nbviewer.org.</b></div><div class=\"sk-container\" hidden><div class=\"sk-item\"><div class=\"sk-estimator sk-toggleable\"><input class=\"sk-toggleable__control sk-hidden--visually\" id=\"sk-estimator-id-19\" type=\"checkbox\" checked><label for=\"sk-estimator-id-19\" class=\"sk-toggleable__label sk-toggleable__label-arrow\">LGBMClassifier</label><div class=\"sk-toggleable__content\"><pre>LGBMClassifier()</pre></div></div></div></div></div>"
      ],
      "text/plain": [
       "LGBMClassifier()"
      ]
     },
     "execution_count": 245,
     "metadata": {},
     "output_type": "execute_result"
    }
   ],
   "source": [
    "# Train a Model\n",
    "lgbmc = lgb.LGBMClassifier()\n",
    "lgbmc.fit(X_train, y_train)"
   ]
  },
  {
   "cell_type": "code",
   "execution_count": 246,
   "id": "a1233bf1",
   "metadata": {},
   "outputs": [
    {
     "name": "stdout",
     "output_type": "stream",
     "text": [
      "Accuracy: 0.82\n"
     ]
    }
   ],
   "source": [
    "# Predict and evaluate the model\n",
    "y_pred = lgbmc.predict(X_test)\n",
    "accuracy = accuracy_score(y_test, y_pred)\n",
    "print(f'Accuracy: {accuracy:.2f}')"
   ]
  },
  {
   "cell_type": "code",
   "execution_count": 247,
   "id": "3729ef62",
   "metadata": {},
   "outputs": [],
   "source": [
    "# Step 2: Split the Dataset Based on Prediction Accuracy\n",
    "correct_indices = np.where(y_test == y_pred)[0]\n",
    "incorrect_indices = np.where(y_test != y_pred)[0]\n",
    "\n",
    "X_correct = X_test.iloc[correct_indices]\n",
    "X_incorrect = X_test.iloc[incorrect_indices]"
   ]
  },
  {
   "cell_type": "code",
   "execution_count": 248,
   "id": "7ab06e8b",
   "metadata": {},
   "outputs": [],
   "source": [
    "results = {}\n",
    "for feature in X.columns:\n",
    "    correct_values = X_correct[feature]\n",
    "    incorrect_values = X_incorrect[feature]\n",
    "    \n",
    "    # Perform Mann-Whitney U test\n",
    "    u_stat, p_value = mannwhitneyu(correct_values, incorrect_values, alternative='two-sided')\n",
    "    \n",
    "    # Calculate Rank-Biserial Correlation (effect size)\n",
    "    n1 = len(correct_values)\n",
    "    n2 = len(incorrect_values)\n",
    "    rank_biserial = (2 * u_stat / (n1 * n2)) - 1\n",
    "    \n",
    "    results[feature] = (u_stat, p_value, rank_biserial)"
   ]
  },
  {
   "cell_type": "code",
   "execution_count": 249,
   "id": "1adc77e1",
   "metadata": {},
   "outputs": [],
   "source": [
    "# Convert results to a DataFrame for easier interpretation\n",
    "results_df = pd.DataFrame(results, index=['u_stat', 'p_value', 'effect_size']).T\n",
    "\n",
    "# Calculate the proportion of each attribute's contribution\n",
    "# Convert absolute rank-biserial values to importance scores\n",
    "#results_df['importance'] = results_df['effect_size'].abs()\n",
    "results_df['proportion'] = results_df['effect_size'].abs() / results_df['effect_size'].abs().sum()\n",
    "\n",
    "# Normalize the importance scores to get proportions\n",
    "#results_df['proportion'] = results_df['importance'].abs() / results_df['importance'].abs().sum()\n",
    "\n",
    "# Sort by proportion\n",
    "results_df = results_df.sort_values(by='proportion', ascending=False)"
   ]
  },
  {
   "cell_type": "code",
   "execution_count": 250,
   "id": "631c3c29",
   "metadata": {
    "scrolled": true
   },
   "outputs": [
    {
     "name": "stdout",
     "output_type": "stream",
     "text": [
      "\n",
      "Feature Importance (sorted by proportion):\n",
      "                         u_stat   p_value  effect_size  proportion\n",
      "account_balance          3861.0  0.002419     0.307927    0.153392\n",
      "credit_history           3687.5  0.009290     0.249153    0.124114\n",
      "residence_since          3477.0  0.078552     0.177846    0.088593\n",
      "job                      3472.0  0.054684     0.176152    0.087749\n",
      "sex_marital              3426.0  0.096174     0.160569    0.079987\n",
      "nr_of_existing_credits   3405.5  0.083803     0.153625    0.076527\n",
      "telephone                3376.0  0.100729     0.143631    0.071549\n",
      "savings_bond_value       3357.0  0.131000     0.137195    0.068343\n",
      "purpose                  2611.0  0.268412    -0.115515    0.057543\n",
      "other_installment_plans  3193.0  0.281071     0.081640    0.040668\n",
      "credit_amount            3124.0  0.585505     0.058266    0.029025\n",
      "property                 3120.5  0.578494     0.057080    0.028434\n",
      "duration                 2794.5  0.614558    -0.053354    0.026578\n",
      "type_of_housing          2834.0  0.642645    -0.039973    0.019912\n",
      "intallment_rate          2869.5  0.780054    -0.027947    0.013922\n",
      "foreign                  3014.0  0.585992     0.021003    0.010462\n",
      "employed_since           3001.5  0.871678     0.016768    0.008353\n",
      "guarantor                2992.0  0.768759     0.013550    0.006750\n",
      "age                      2980.0  0.930263     0.009485    0.004725\n",
      "number_of_dependents     2972.0  0.928684     0.006775    0.003375\n"
     ]
    }
   ],
   "source": [
    "print(\"\\nFeature Importance (sorted by proportion):\")\n",
    "print(results_df)"
   ]
  },
  {
   "cell_type": "code",
   "execution_count": 251,
   "id": "66c00750",
   "metadata": {},
   "outputs": [
    {
     "data": {
      "image/png": "[encoded data removed]",
      "text/plain": [
       "<Figure size 1000x600 with 1 Axes>"
      ]
     },
     "metadata": {},
     "output_type": "display_data"
    }
   ],
   "source": [
    "# Plot Feature Importance\n",
    "plt.figure(figsize=(10, 6))\n",
    "plt.barh(results_df.index, results_df['proportion'])\n",
    "plt.xlabel('Importance')\n",
    "plt.ylabel('Feature')\n",
    "plt.title('Feature Importance from LightGBM')\n",
    "plt.gca().invert_yaxis()\n",
    "plt.show()"
   ]
  },
  {
   "cell_type": "code",
   "execution_count": 252,
   "id": "30105a53",
   "metadata": {},
   "outputs": [],
   "source": [
    "# Add Rank column\n",
    "results_df['rank'] = range(1, len(results_df) + 1)\n",
    "\n",
    "# Add Model column with fixed value 'x'\n",
    "results_df['model'] = 'LightGBM'\n",
    "\n",
    "# First, reset the index to move the current index into a column named 'feature'\n",
    "results_df = results_df.reset_index().rename(columns={'index': 'feature'})"
   ]
  },
  {
   "cell_type": "code",
   "execution_count": 253,
   "id": "d0ca48f5",
   "metadata": {},
   "outputs": [],
   "source": [
    "# Concatenate the dataframes\n",
    "all_results_df = pd.concat([all_results_df, results_df], ignore_index=True) "
   ]
  },
  {
   "cell_type": "markdown",
   "id": "5909a57a",
   "metadata": {},
   "source": [
    "# XGBoost"
   ]
  },
  {
   "cell_type": "code",
   "execution_count": 254,
   "id": "78d0aea1",
   "metadata": {},
   "outputs": [],
   "source": [
    "# Assuming df5c is your DataFrame\n",
    "# Drop the target column and the first column (assuming it's the index or another non-feature column)\n",
    "X = df5c.drop(columns=['target']).iloc[:, 1:]\n",
    "y = df5c['target']"
   ]
  },
  {
   "cell_type": "code",
   "execution_count": 255,
   "id": "1e98026f",
   "metadata": {},
   "outputs": [],
   "source": [
    "# Split the data into training and testing sets\n",
    "X_train, X_test, y_train, y_test = train_test_split(X, y, test_size=0.2, random_state=42)"
   ]
  },
  {
   "cell_type": "code",
   "execution_count": 256,
   "id": "06f0191f",
   "metadata": {},
   "outputs": [
    {
     "data": {
      "text/html": [
       "<style>#sk-container-id-16 {color: black;background-color: white;}#sk-container-id-16 pre{padding: 0;}#sk-container-id-16 div.sk-toggleable {background-color: white;}#sk-container-id-16 label.sk-toggleable__label {cursor: pointer;display: block;width: 100%;margin-bottom: 0;padding: 0.3em;box-sizing: border-box;text-align: center;}#sk-container-id-16 label.sk-toggleable__label-arrow:before {content: \"▸\";float: left;margin-right: 0.25em;color: #696969;}#sk-container-id-16 label.sk-toggleable__label-arrow:hover:before {color: black;}#sk-container-id-16 div.sk-estimator:hover label.sk-toggleable__label-arrow:before {color: black;}#sk-container-id-16 div.sk-toggleable__content {max-height: 0;max-width: 0;overflow: hidden;text-align: left;background-color: #f0f8ff;}#sk-container-id-16 div.sk-toggleable__content pre {margin: 0.2em;color: black;border-radius: 0.25em;background-color: #f0f8ff;}#sk-container-id-16 input.sk-toggleable__control:checked~div.sk-toggleable__content {max-height: 200px;max-width: 100%;overflow: auto;}#sk-container-id-16 input.sk-toggleable__control:checked~label.sk-toggleable__label-arrow:before {content: \"▾\";}#sk-container-id-16 div.sk-estimator input.sk-toggleable__control:checked~label.sk-toggleable__label {background-color: #d4ebff;}#sk-container-id-16 div.sk-label input.sk-toggleable__control:checked~label.sk-toggleable__label {background-color: #d4ebff;}#sk-container-id-16 input.sk-hidden--visually {border: 0;clip: rect(1px 1px 1px 1px);clip: rect(1px, 1px, 1px, 1px);height: 1px;margin: -1px;overflow: hidden;padding: 0;position: absolute;width: 1px;}#sk-container-id-16 div.sk-estimator {font-family: monospace;background-color: #f0f8ff;border: 1px dotted black;border-radius: 0.25em;box-sizing: border-box;margin-bottom: 0.5em;}#sk-container-id-16 div.sk-estimator:hover {background-color: #d4ebff;}#sk-container-id-16 div.sk-parallel-item::after {content: \"\";width: 100%;border-bottom: 1px solid gray;flex-grow: 1;}#sk-container-id-16 div.sk-label:hover label.sk-toggleable__label {background-color: #d4ebff;}#sk-container-id-16 div.sk-serial::before {content: \"\";position: absolute;border-left: 1px solid gray;box-sizing: border-box;top: 0;bottom: 0;left: 50%;z-index: 0;}#sk-container-id-16 div.sk-serial {display: flex;flex-direction: column;align-items: center;background-color: white;padding-right: 0.2em;padding-left: 0.2em;position: relative;}#sk-container-id-16 div.sk-item {position: relative;z-index: 1;}#sk-container-id-16 div.sk-parallel {display: flex;align-items: stretch;justify-content: center;background-color: white;position: relative;}#sk-container-id-16 div.sk-item::before, #sk-container-id-16 div.sk-parallel-item::before {content: \"\";position: absolute;border-left: 1px solid gray;box-sizing: border-box;top: 0;bottom: 0;left: 50%;z-index: -1;}#sk-container-id-16 div.sk-parallel-item {display: flex;flex-direction: column;z-index: 1;position: relative;background-color: white;}#sk-container-id-16 div.sk-parallel-item:first-child::after {align-self: flex-end;width: 50%;}#sk-container-id-16 div.sk-parallel-item:last-child::after {align-self: flex-start;width: 50%;}#sk-container-id-16 div.sk-parallel-item:only-child::after {width: 0;}#sk-container-id-16 div.sk-dashed-wrapped {border: 1px dashed gray;margin: 0 0.4em 0.5em 0.4em;box-sizing: border-box;padding-bottom: 0.4em;background-color: white;}#sk-container-id-16 div.sk-label label {font-family: monospace;font-weight: bold;display: inline-block;line-height: 1.2em;}#sk-container-id-16 div.sk-label-container {text-align: center;}#sk-container-id-16 div.sk-container {/* jupyter's `normalize.less` sets `[hidden] { display: none; }` but bootstrap.min.css set `[hidden] { display: none !important; }` so we also need the `!important` here to be able to override the default hidden behavior on the sphinx rendered scikit-learn.org. See: https://github.com/scikit-learn/scikit-learn/issues/21755 */display: inline-block !important;position: relative;}#sk-container-id-16 div.sk-text-repr-fallback {display: none;}</style><div id=\"sk-container-id-16\" class=\"sk-top-container\"><div class=\"sk-text-repr-fallback\"><pre>XGBClassifier(base_score=None, booster=None, callbacks=None,\n",
       "              colsample_bylevel=None, colsample_bynode=None,\n",
       "              colsample_bytree=None, device=None, early_stopping_rounds=None,\n",
       "              enable_categorical=False, eval_metric=None, feature_types=None,\n",
       "              gamma=None, grow_policy=None, importance_type=None,\n",
       "              interaction_constraints=None, learning_rate=None, max_bin=None,\n",
       "              max_cat_threshold=None, max_cat_to_onehot=None,\n",
       "              max_delta_step=None, max_depth=None, max_leaves=None,\n",
       "              min_child_weight=None, missing=nan, monotone_constraints=None,\n",
       "              multi_strategy=None, n_estimators=None, n_jobs=None,\n",
       "              num_parallel_tree=None, random_state=None, ...)</pre><b>In a Jupyter environment, please rerun this cell to show the HTML representation or trust the notebook. <br />On GitHub, the HTML representation is unable to render, please try loading this page with nbviewer.org.</b></div><div class=\"sk-container\" hidden><div class=\"sk-item\"><div class=\"sk-estimator sk-toggleable\"><input class=\"sk-toggleable__control sk-hidden--visually\" id=\"sk-estimator-id-20\" type=\"checkbox\" checked><label for=\"sk-estimator-id-20\" class=\"sk-toggleable__label sk-toggleable__label-arrow\">XGBClassifier</label><div class=\"sk-toggleable__content\"><pre>XGBClassifier(base_score=None, booster=None, callbacks=None,\n",
       "              colsample_bylevel=None, colsample_bynode=None,\n",
       "              colsample_bytree=None, device=None, early_stopping_rounds=None,\n",
       "              enable_categorical=False, eval_metric=None, feature_types=None,\n",
       "              gamma=None, grow_policy=None, importance_type=None,\n",
       "              interaction_constraints=None, learning_rate=None, max_bin=None,\n",
       "              max_cat_threshold=None, max_cat_to_onehot=None,\n",
       "              max_delta_step=None, max_depth=None, max_leaves=None,\n",
       "              min_child_weight=None, missing=nan, monotone_constraints=None,\n",
       "              multi_strategy=None, n_estimators=None, n_jobs=None,\n",
       "              num_parallel_tree=None, random_state=None, ...)</pre></div></div></div></div></div>"
      ],
      "text/plain": [
       "XGBClassifier(base_score=None, booster=None, callbacks=None,\n",
       "              colsample_bylevel=None, colsample_bynode=None,\n",
       "              colsample_bytree=None, device=None, early_stopping_rounds=None,\n",
       "              enable_categorical=False, eval_metric=None, feature_types=None,\n",
       "              gamma=None, grow_policy=None, importance_type=None,\n",
       "              interaction_constraints=None, learning_rate=None, max_bin=None,\n",
       "              max_cat_threshold=None, max_cat_to_onehot=None,\n",
       "              max_delta_step=None, max_depth=None, max_leaves=None,\n",
       "              min_child_weight=None, missing=nan, monotone_constraints=None,\n",
       "              multi_strategy=None, n_estimators=None, n_jobs=None,\n",
       "              num_parallel_tree=None, random_state=None, ...)"
      ]
     },
     "execution_count": 256,
     "metadata": {},
     "output_type": "execute_result"
    }
   ],
   "source": [
    "# Train a Model\n",
    "xgbc = XGBClassifier()\n",
    "\n",
    "## adjust to the y_train and test to be 0,1 istead of 1 and 2\n",
    "y_train = y_train - 1\n",
    "y_test = y_test - 1\n",
    "\n",
    "xgbc.fit(X_train, y_train)"
   ]
  },
  {
   "cell_type": "code",
   "execution_count": 257,
   "id": "65f3e89b",
   "metadata": {},
   "outputs": [
    {
     "name": "stdout",
     "output_type": "stream",
     "text": [
      "Accuracy: 0.77\n"
     ]
    }
   ],
   "source": [
    "# Predict and evaluate the model\n",
    "y_pred = xgbc.predict(X_test)\n",
    "accuracy = accuracy_score(y_test, y_pred)\n",
    "print(f'Accuracy: {accuracy:.2f}')"
   ]
  },
  {
   "cell_type": "code",
   "execution_count": 258,
   "id": "74dacf82",
   "metadata": {},
   "outputs": [],
   "source": [
    "# Step 2: Split the Dataset Based on Prediction Accuracy\n",
    "correct_indices = np.where(y_test == y_pred)[0]\n",
    "incorrect_indices = np.where(y_test != y_pred)[0]\n",
    "\n",
    "X_correct = X_test.iloc[correct_indices]\n",
    "X_incorrect = X_test.iloc[incorrect_indices]"
   ]
  },
  {
   "cell_type": "code",
   "execution_count": 259,
   "id": "638b3720",
   "metadata": {},
   "outputs": [],
   "source": [
    "results = {}\n",
    "for feature in X.columns:\n",
    "    correct_values = X_correct[feature]\n",
    "    incorrect_values = X_incorrect[feature]\n",
    "    \n",
    "    # Perform Mann-Whitney U test\n",
    "    u_stat, p_value = mannwhitneyu(correct_values, incorrect_values, alternative='two-sided')\n",
    "    \n",
    "    # Calculate Rank-Biserial Correlation (effect size)\n",
    "    n1 = len(correct_values)\n",
    "    n2 = len(incorrect_values)\n",
    "    rank_biserial = (2 * u_stat / (n1 * n2)) - 1\n",
    "    \n",
    "    results[feature] = (u_stat, p_value, rank_biserial)"
   ]
  },
  {
   "cell_type": "code",
   "execution_count": 260,
   "id": "97738de2",
   "metadata": {},
   "outputs": [],
   "source": [
    "# Convert results to a DataFrame for easier interpretation\n",
    "results_df = pd.DataFrame(results, index=['u_stat', 'p_value', 'effect_size']).T\n",
    "\n",
    "# Calculate the proportion of each attribute's contribution\n",
    "# Convert absolute rank-biserial values to importance scores\n",
    "#results_df['importance'] = results_df['effect_size'].abs()\n",
    "results_df['proportion'] = results_df['effect_size'].abs() / results_df['effect_size'].abs().sum()\n",
    "\n",
    "# Normalize the importance scores to get proportions\n",
    "#results_df['proportion'] = results_df['importance'].abs() / results_df['importance'].abs().sum()\n",
    "\n",
    "# Sort by proportion\n",
    "results_df = results_df.sort_values(by='proportion', ascending=False)"
   ]
  },
  {
   "cell_type": "code",
   "execution_count": 261,
   "id": "431586ac",
   "metadata": {
    "scrolled": true
   },
   "outputs": [
    {
     "name": "stdout",
     "output_type": "stream",
     "text": [
      "\n",
      "Feature Importance (sorted by proportion):\n",
      "                         u_stat   p_value  effect_size  proportion\n",
      "account_balance          4652.0  0.000720     0.313382    0.170966\n",
      "savings_bond_value       4258.5  0.014673     0.202287    0.110358\n",
      "telephone                4006.0  0.101020     0.130999    0.071467\n",
      "intallment_rate          3109.5  0.179253    -0.122106    0.066615\n",
      "duration                 3120.0  0.217114    -0.119142    0.064998\n",
      "residence_since          3958.0  0.203295     0.117448    0.064074\n",
      "nr_of_existing_credits   3925.0  0.182592     0.108131    0.058991\n",
      "credit_history           3923.5  0.218340     0.107708    0.058760\n",
      "job                      3887.0  0.244752     0.097403    0.053138\n",
      "type_of_housing          3799.5  0.354181     0.072699    0.039661\n",
      "other_installment_plans  3785.0  0.321081     0.068605    0.037428\n",
      "property                 3781.0  0.471493     0.067476    0.036812\n",
      "employed_since           3316.5  0.498328    -0.063665    0.034732\n",
      "number_of_dependents     3762.0  0.357712     0.062112    0.033885\n",
      "age                      3757.5  0.532218     0.060841    0.033192\n",
      "foreign                  3649.0  0.389210     0.030209    0.016481\n",
      "credit_amount            3639.5  0.778254     0.027527    0.015017\n",
      "guarantor                3453.0  0.547610    -0.025127    0.013708\n",
      "purpose                  3456.0  0.799726    -0.024280    0.013246\n",
      "sex_marital              3500.0  0.894101    -0.011858    0.006469\n"
     ]
    }
   ],
   "source": [
    "print(\"\\nFeature Importance (sorted by proportion):\")\n",
    "print(results_df)"
   ]
  },
  {
   "cell_type": "code",
   "execution_count": 262,
   "id": "287be7e6",
   "metadata": {
    "scrolled": true
   },
   "outputs": [
    {
     "data": {
      "image/png": "[encoded data removed]",
      "text/plain": [
       "<Figure size 1000x600 with 1 Axes>"
      ]
     },
     "metadata": {},
     "output_type": "display_data"
    }
   ],
   "source": [
    "# Plot Feature Importance\n",
    "plt.figure(figsize=(10, 6))\n",
    "plt.barh(results_df.index, results_df['proportion'])\n",
    "plt.xlabel('Importance')\n",
    "plt.ylabel('Feature')\n",
    "plt.title('Feature Importance from XGBoost')\n",
    "plt.gca().invert_yaxis()\n",
    "plt.show()"
   ]
  },
  {
   "cell_type": "code",
   "execution_count": 263,
   "id": "c21d6a2b",
   "metadata": {},
   "outputs": [],
   "source": [
    "# Add Rank column\n",
    "results_df['rank'] = range(1, len(results_df) + 1)\n",
    "\n",
    "# Add Model column with fixed value 'x'\n",
    "results_df['model'] = 'XGBoost'\n",
    "\n",
    "# First, reset the index to move the current index into a column named 'feature'\n",
    "results_df = results_df.reset_index().rename(columns={'index': 'feature'})"
   ]
  },
  {
   "cell_type": "code",
   "execution_count": 264,
   "id": "b49a27df",
   "metadata": {},
   "outputs": [],
   "source": [
    "# Concatenate the dataframes\n",
    "all_results_df = pd.concat([all_results_df, results_df], ignore_index=True) "
   ]
  },
  {
   "cell_type": "markdown",
   "id": "af7890ed",
   "metadata": {},
   "source": [
    "# FastText - train_supervised"
   ]
  },
  {
   "cell_type": "code",
   "execution_count": 265,
   "id": "462a80da",
   "metadata": {},
   "outputs": [],
   "source": [
    "import fasttext"
   ]
  },
  {
   "cell_type": "code",
   "execution_count": 266,
   "id": "94c106c6",
   "metadata": {},
   "outputs": [],
   "source": [
    "#df7 = pd.read_csv('df7.csv')\n",
    "#df7 = pd.read_csv('df7.csv', index_col=0)\n",
    "\n",
    "# Assuming 'df7' is your DataFrame with features and the target column\n",
    "X = df7.drop(columns=['target','content'])  # Drop the target column to get the feature columns\n",
    "y = df7['target'].astype(str)  # Target column to predict\n",
    "\n",
    "# Split the data into training and testing sets\n",
    "X_train, X_test, y_train, y_test = train_test_split(X, y, test_size=0.2, random_state=42)\n",
    "\n",
    "# Create a new column \"content\" by concatenating values from selected columns\n",
    "X_train['content'] = y_train + ' ' + X_train.apply(lambda row: ' '.join(str(val) for val in row), axis=1)\n",
    "X_test['content'] = X_test.apply(lambda row: ' '.join(str(val) for val in row), axis=1)\n",
    "\n",
    "X_train = X_train['content']\n",
    "X_test = X_test['content']\n",
    "\n",
    "# Define hyperparameters\n",
    "dim = 300  # Dimension of word vectors\n",
    "min_count = 1  # Minimum frequency of words\n",
    "loss = 'ns'  # Hierarchical softmax loss #'hs', 'ns', 'softmax'\n",
    "epoch = 100  # Number of training epochs\n",
    "bucket = 2000000  # Number of buckets used for hashing n-grams\n",
    "word_ngrams = 1  # Maximum length of word n-grams\n",
    "\n",
    "lr = 0.5 #0.1, 0.01, 0.001 #learning rate\n",
    "\n",
    "X_train_list = [value for value in X_train]\n",
    "\n",
    "# Save training data to a file\n",
    "with open(\"train_german_fast_text.txt\", \"w\") as f:\n",
    "    for line in X_train_list:\n",
    "        f.write(line + \"\\n\")\n",
    "\n",
    "# Training data file path\n",
    "train_data_path = \"train_german_fast_text.txt\"\n",
    "\n",
    "# Train the supervised model\n",
    "model = fasttext.train_supervised(input=train_data_path, dim=dim, minCount=min_count,bucket=bucket, #lr=lr,\n",
    "                                   loss=loss, epoch=epoch, wordNgrams=word_ngrams) #lr=lr,bucket=bucket,\n",
    "\n",
    "\n",
    "# Predict on the testing set\n",
    "# Initialize an empty list to store the predicted labels\n",
    "y_pred_list = []\n",
    "\n",
    "# Iterate over each data point in X_test and predict the label\n",
    "for text in X_test:\n",
    "    # Predict the label for the current text\n",
    "    predicted_label, _ = model.predict(text)\n",
    "    # Append the predicted label to the list\n",
    "    y_pred_list.append(predicted_label[0])\n",
    "\n",
    "# Convert the list of predicted labels to a pandas Series\n",
    "y_pred = pd.Series(y_pred_list)\n",
    "\n",
    "# Extract the numeric label using a lambda function\n",
    "y_test = y_test.apply(lambda x: int(x.split(\"__label__\")[1]))  ## uncomment for next run\n",
    "y_pred = y_pred.apply(lambda x: int(x.split(\"__label__\")[1]))\n",
    "\n",
    "# Convert y_pred to an array\n",
    "y_pred = np.array(y_pred)"
   ]
  },
  {
   "cell_type": "code",
   "execution_count": 267,
   "id": "4a533eb7",
   "metadata": {},
   "outputs": [],
   "source": [
    "## Now that we have the predictions from the Word Embedding method we retrieve the other dataset\n",
    "## this is the dataset that will be used for the feature importance\n",
    "## based on the target value and the predicted value\n",
    "\n",
    "# Drop the target column and the first column (assuming it's the index or another non-feature column)\n",
    "X = df5c.drop(columns=['target']).iloc[:, 1:]\n",
    "y = df5c['target']\n",
    "\n",
    "# Split the data into training and testing sets\n",
    "X_train, X_test, y_train, y_test = train_test_split(X, y, test_size=0.2, random_state=42)"
   ]
  },
  {
   "cell_type": "code",
   "execution_count": 268,
   "id": "76e361c1",
   "metadata": {},
   "outputs": [
    {
     "name": "stdout",
     "output_type": "stream",
     "text": [
      "Accuracy: 0.77\n"
     ]
    }
   ],
   "source": [
    "accuracy = accuracy_score(y_test, y_pred)\n",
    "print(f'Accuracy: {accuracy:.2f}')\n",
    "\n",
    "# Step 2: Split the Dataset Based on Prediction Accuracy\n",
    "correct_indices = np.where(y_test == y_pred)[0]\n",
    "incorrect_indices = np.where(y_test != y_pred)[0]\n",
    "\n",
    "X_correct = X_test.iloc[correct_indices]\n",
    "X_incorrect = X_test.iloc[incorrect_indices]"
   ]
  },
  {
   "cell_type": "code",
   "execution_count": 269,
   "id": "b32ce831",
   "metadata": {},
   "outputs": [],
   "source": [
    "results = {}\n",
    "for feature in X.columns:\n",
    "    correct_values = X_correct[feature]\n",
    "    incorrect_values = X_incorrect[feature]\n",
    "    \n",
    "    # Perform Mann-Whitney U test\n",
    "    u_stat, p_value = mannwhitneyu(correct_values, incorrect_values, alternative='two-sided')\n",
    "    \n",
    "    # Calculate Rank-Biserial Correlation (effect size)\n",
    "    n1 = len(correct_values)\n",
    "    n2 = len(incorrect_values)\n",
    "    rank_biserial = (2 * u_stat / (n1 * n2)) - 1\n",
    "    \n",
    "    results[feature] = (u_stat, p_value, rank_biserial)\n",
    "    \n",
    "\n",
    "# Convert results to a DataFrame for easier interpretation\n",
    "results_df = pd.DataFrame(results, index=['u_stat', 'p_value', 'effect_size']).T\n",
    "\n",
    "# Calculate the proportion of each attribute's contribution\n",
    "# Convert absolute rank-biserial values to importance scores\n",
    "#results_df['importance'] = results_df['effect_size'].abs()\n",
    "results_df['proportion'] = results_df['effect_size'].abs() / results_df['effect_size'].abs().sum()\n",
    "\n",
    "# Normalize the importance scores to get proportions\n",
    "#results_df['proportion'] = results_df['importance'].abs() / results_df['importance'].abs().sum()\n",
    "\n",
    "# Sort by proportion\n",
    "results_df = results_df.sort_values(by='proportion', ascending=False)"
   ]
  },
  {
   "cell_type": "code",
   "execution_count": 270,
   "id": "384cb532",
   "metadata": {
    "scrolled": true
   },
   "outputs": [
    {
     "name": "stdout",
     "output_type": "stream",
     "text": [
      "\n",
      "Feature Importance (sorted by proportion):\n",
      "                         u_stat   p_value  effect_size  proportion\n",
      "account_balance          4502.5  0.003433     0.271174    0.138411\n",
      "intallment_rate          2769.5  0.016391    -0.218097    0.111319\n",
      "credit_amount            4277.0  0.032983     0.207510    0.105915\n",
      "savings_bond_value       4162.0  0.034733     0.175042    0.089344\n",
      "telephone                4006.0  0.101020     0.130999    0.066864\n",
      "credit_history           3990.0  0.148231     0.126482    0.064558\n",
      "purpose                  3098.5  0.188678    -0.125212    0.063910\n",
      "other_installment_plans  3934.0  0.109177     0.110672    0.056488\n",
      "nr_of_existing_credits   3925.0  0.182592     0.108131    0.055191\n",
      "number_of_dependents     3262.0  0.241542    -0.079051    0.040349\n",
      "residence_since          3775.0  0.476532     0.065782    0.033576\n",
      "job                      3757.0  0.468912     0.060700    0.030982\n",
      "type_of_housing          3343.0  0.474231    -0.056183    0.028676\n",
      "employed_since           3372.0  0.609982    -0.047995    0.024497\n",
      "age                      3379.5  0.637893    -0.045878    0.023417\n",
      "property                 3668.0  0.704766     0.035573    0.018157\n",
      "sex_marital              3654.0  0.720603     0.031621    0.016139\n",
      "foreign                  3649.0  0.389210     0.030209    0.015419\n",
      "guarantor                3453.0  0.547610    -0.025127    0.012825\n",
      "duration                 3514.5  0.936984    -0.007764    0.003963\n"
     ]
    }
   ],
   "source": [
    "print(\"\\nFeature Importance (sorted by proportion):\")\n",
    "print(results_df)"
   ]
  },
  {
   "cell_type": "code",
   "execution_count": 271,
   "id": "10d6778c",
   "metadata": {
    "scrolled": true
   },
   "outputs": [
    {
     "data": {
      "image/png": "[encoded data removed]",
      "text/plain": [
       "<Figure size 1000x600 with 1 Axes>"
      ]
     },
     "metadata": {},
     "output_type": "display_data"
    }
   ],
   "source": [
    "# Plot Feature Importance\n",
    "plt.figure(figsize=(10, 6))\n",
    "plt.barh(results_df.index, results_df['proportion'])\n",
    "plt.xlabel('Importance')\n",
    "plt.ylabel('Feature')\n",
    "plt.title('Feature Importance from FastText - train_supervised')\n",
    "plt.gca().invert_yaxis()\n",
    "plt.show()"
   ]
  },
  {
   "cell_type": "code",
   "execution_count": 272,
   "id": "297717a3",
   "metadata": {},
   "outputs": [],
   "source": [
    "# Add Rank column\n",
    "results_df['rank'] = range(1, len(results_df) + 1)\n",
    "\n",
    "# Add Model column with fixed value 'x'\n",
    "results_df['model'] = 'FastText - train_supervised'\n",
    "\n",
    "# First, reset the index to move the current index into a column named 'feature'\n",
    "results_df = results_df.reset_index().rename(columns={'index': 'feature'})"
   ]
  },
  {
   "cell_type": "code",
   "execution_count": 273,
   "id": "88b974ef",
   "metadata": {},
   "outputs": [],
   "source": [
    "# Concatenate the dataframes\n",
    "all_results_df = pd.concat([all_results_df, results_df], ignore_index=True) "
   ]
  },
  {
   "cell_type": "markdown",
   "id": "6083772d",
   "metadata": {},
   "source": [
    "# FastText - Linear Regression"
   ]
  },
  {
   "cell_type": "code",
   "execution_count": 274,
   "id": "f19bb329",
   "metadata": {},
   "outputs": [],
   "source": [
    "#df7 = pd.read_csv('df7.csv')\n",
    "#df7 = pd.read_csv('df7.csv', index_col=0)\n",
    "\n",
    "# Assuming 'df7' is your DataFrame with features and the target column\n",
    "X = df7['content'].apply(lambda x: x.split(' ', 1)[1])  # Drop the target column to get the feature columns\n",
    "y = df7['target'].apply(lambda x: int(x.split(\"__label__\")[1]))  # Target column to predict\n",
    "\n",
    "stop_words = set(stopwords.words('english'))\n",
    "\n",
    "def preprocess(text):\n",
    "    text = text.lower()\n",
    "    text = ''.join([word for word in text if word not in string.punctuation])\n",
    "    tokens = word_tokenize(text)\n",
    "    tokens = [word for word in tokens if word not in stop_words]\n",
    "    return ' '.join(tokens)\n",
    "\n",
    "X = X.apply(preprocess)"
   ]
  },
  {
   "cell_type": "code",
   "execution_count": 275,
   "id": "c96ae14a",
   "metadata": {},
   "outputs": [],
   "source": [
    "# Split the data into training and testing sets\n",
    "X_train, X_test, y_train, y_test = train_test_split(X, y, test_size=0.2, random_state=42)"
   ]
  },
  {
   "cell_type": "code",
   "execution_count": 276,
   "id": "d3a7b7fb",
   "metadata": {},
   "outputs": [],
   "source": [
    "sentences = [sentence.split() for sentence in X_train]"
   ]
  },
  {
   "cell_type": "code",
   "execution_count": 277,
   "id": "49a7a3f0",
   "metadata": {},
   "outputs": [],
   "source": [
    "# Train the FastText model\n",
    "fasttext_model = FastText(sentences, vector_size=100, window=20, min_count=2, workers=4, seed=42)"
   ]
  },
  {
   "cell_type": "code",
   "execution_count": 278,
   "id": "b5566657",
   "metadata": {},
   "outputs": [],
   "source": [
    "def vectorize(sentence):\n",
    "        words = sentence.split()\n",
    "        words_vecs = [fasttext_model.wv[word] for word in words if word in fasttext_model.wv]\n",
    "        if len(words_vecs) == 0:\n",
    "            return np.zeros(100)\n",
    "        words_vecs = np.array(words_vecs)\n",
    "        return words_vecs.mean(axis=0)"
   ]
  },
  {
   "cell_type": "code",
   "execution_count": 279,
   "id": "9f109b11",
   "metadata": {},
   "outputs": [],
   "source": [
    "X_train = np.array([vectorize(sentence) for sentence in X_train])\n",
    "X_test = np.array([vectorize(sentence) for sentence in X_test])"
   ]
  },
  {
   "cell_type": "code",
   "execution_count": 280,
   "id": "30249d57",
   "metadata": {},
   "outputs": [],
   "source": [
    "#clf = LogisticRegression()\n",
    "clf = LinearRegression()\n",
    "clf.fit(X_train, y_train)\n",
    "    \n",
    "y_pred = clf.predict(X_test)\n",
    "    \n",
    "y_pred = np.round(y_pred)\n",
    "    \n",
    "y_pred[y_pred <= 0] = 1\n",
    "y_pred[y_pred >= 2] = 2"
   ]
  },
  {
   "cell_type": "code",
   "execution_count": 281,
   "id": "3a3481dc",
   "metadata": {},
   "outputs": [],
   "source": [
    "## Now that we have the predictions from the Word Embedding method we retrieve the other dataset\n",
    "## this is the dataset that will be used for the feature importance\n",
    "## based on the target value and the predicted value\n",
    "\n",
    "# Drop the target column and the first column (assuming it's the index or another non-feature column)\n",
    "X = df5c.drop(columns=['target']).iloc[:, 1:]\n",
    "y = df5c['target']\n",
    "\n",
    "# Split the data into training and testing sets\n",
    "X_train, X_test, y_train, y_test = train_test_split(X, y, test_size=0.2, random_state=42)"
   ]
  },
  {
   "cell_type": "code",
   "execution_count": 282,
   "id": "9cf5cd22",
   "metadata": {},
   "outputs": [
    {
     "name": "stdout",
     "output_type": "stream",
     "text": [
      "Accuracy: 0.70\n"
     ]
    }
   ],
   "source": [
    "accuracy = accuracy_score(y_test, y_pred)\n",
    "print(f'Accuracy: {accuracy:.2f}')\n",
    "\n",
    "# Step 2: Split the Dataset Based on Prediction Accuracy\n",
    "correct_indices = np.where(y_test == y_pred)[0]\n",
    "incorrect_indices = np.where(y_test != y_pred)[0]\n",
    "\n",
    "X_correct = X_test.iloc[correct_indices]\n",
    "X_incorrect = X_test.iloc[incorrect_indices]"
   ]
  },
  {
   "cell_type": "code",
   "execution_count": 283,
   "id": "0e8ff246",
   "metadata": {},
   "outputs": [],
   "source": [
    "results = {}\n",
    "for feature in X.columns:\n",
    "    correct_values = X_correct[feature]\n",
    "    incorrect_values = X_incorrect[feature]\n",
    "    \n",
    "    # Perform Mann-Whitney U test\n",
    "    u_stat, p_value = mannwhitneyu(correct_values, incorrect_values, alternative='two-sided')\n",
    "    \n",
    "    # Calculate Rank-Biserial Correlation (effect size)\n",
    "    n1 = len(correct_values)\n",
    "    n2 = len(incorrect_values)\n",
    "    rank_biserial = (2 * u_stat / (n1 * n2)) - 1\n",
    "    \n",
    "    results[feature] = (u_stat, p_value, rank_biserial)\n",
    "    \n",
    "\n",
    "# Convert results to a DataFrame for easier interpretation\n",
    "results_df = pd.DataFrame(results, index=['u_stat', 'p_value', 'effect_size']).T\n",
    "\n",
    "# Calculate the proportion of each attribute's contribution\n",
    "# Convert absolute rank-biserial values to importance scores\n",
    "#results_df['importance'] = results_df['effect_size'].abs()\n",
    "results_df['proportion'] = results_df['effect_size'].abs() / results_df['effect_size'].abs().sum()\n",
    "\n",
    "# Normalize the importance scores to get proportions\n",
    "#results_df['proportion'] = results_df['importance'].abs() / results_df['importance'].abs().sum()\n",
    "\n",
    "# Sort by proportion\n",
    "results_df = results_df.sort_values(by='proportion', ascending=False)"
   ]
  },
  {
   "cell_type": "code",
   "execution_count": 284,
   "id": "bd9a3a88",
   "metadata": {},
   "outputs": [
    {
     "name": "stdout",
     "output_type": "stream",
     "text": [
      "\n",
      "Feature Importance (sorted by proportion):\n",
      "                         u_stat   p_value  effect_size  proportion\n",
      "account_balance          5753.0  0.000014     0.369762    0.228651\n",
      "other_installment_plans  4934.0  0.005848     0.174762    0.108068\n",
      "intallment_rate          3553.0  0.064924    -0.154048    0.095259\n",
      "duration                 3634.0  0.128344    -0.134762    0.083333\n",
      "savings_bond_value       4692.5  0.123573     0.117262    0.072512\n",
      "credit_history           4591.5  0.246010     0.093214    0.057641\n",
      "purpose                  3823.0  0.304920    -0.089762    0.055506\n",
      "credit_amount            4535.5  0.371805     0.079881    0.049396\n",
      "type_of_housing          3920.0  0.354792    -0.066667    0.041225\n",
      "sex_marital              3938.0  0.441124    -0.062381    0.038575\n",
      "nr_of_existing_credits   4459.5  0.407229     0.061786    0.038207\n",
      "number_of_dependents     4000.0  0.442688    -0.047619    0.029446\n",
      "guarantor                4001.5  0.216641    -0.047262    0.029226\n",
      "age                      4042.5  0.675311    -0.037500    0.023189\n",
      "employed_since           4093.0  0.768506    -0.025476    0.015754\n",
      "foreign                  4270.0  0.605843     0.016667    0.010306\n",
      "telephone                4140.0  0.846703    -0.014286    0.008834\n",
      "job                      4155.0  0.890255    -0.010714    0.006625\n",
      "residence_since          4155.5  0.901536    -0.010595    0.006552\n",
      "property                 4211.5  0.975670     0.002738    0.001693\n"
     ]
    }
   ],
   "source": [
    "print(\"\\nFeature Importance (sorted by proportion):\")\n",
    "print(results_df)"
   ]
  },
  {
   "cell_type": "code",
   "execution_count": 285,
   "id": "278bde8d",
   "metadata": {
    "scrolled": true
   },
   "outputs": [
    {
     "data": {
      "image/png": "[encoded data removed]",
      "text/plain": [
       "<Figure size 1000x600 with 1 Axes>"
      ]
     },
     "metadata": {},
     "output_type": "display_data"
    }
   ],
   "source": [
    "# Plot Feature Importance\n",
    "plt.figure(figsize=(10, 6))\n",
    "plt.barh(results_df.index, results_df['proportion'])\n",
    "plt.xlabel('Importance')\n",
    "plt.ylabel('Feature')\n",
    "plt.title('Feature Importance from FastText - Linear Regression')\n",
    "plt.gca().invert_yaxis()\n",
    "plt.show()"
   ]
  },
  {
   "cell_type": "code",
   "execution_count": 286,
   "id": "f3259cb1",
   "metadata": {},
   "outputs": [],
   "source": [
    "# Add Rank column\n",
    "results_df['rank'] = range(1, len(results_df) + 1)\n",
    "\n",
    "# Add Model column with fixed value 'x'\n",
    "results_df['model'] = 'FastText - Linear Regression'\n",
    "\n",
    "# First, reset the index to move the current index into a column named 'feature'\n",
    "results_df = results_df.reset_index().rename(columns={'index': 'feature'})"
   ]
  },
  {
   "cell_type": "code",
   "execution_count": 287,
   "id": "18dfe741",
   "metadata": {},
   "outputs": [],
   "source": [
    "# Concatenate the dataframes\n",
    "all_results_df = pd.concat([all_results_df, results_df], ignore_index=True) "
   ]
  },
  {
   "cell_type": "markdown",
   "id": "b59e6012",
   "metadata": {},
   "source": [
    "# Word2Vec - Linear Regression"
   ]
  },
  {
   "cell_type": "code",
   "execution_count": 288,
   "id": "799243a4",
   "metadata": {},
   "outputs": [],
   "source": [
    "#df7 = pd.read_csv('df7.csv')\n",
    "#df7 = pd.read_csv('df7.csv', index_col=0)\n",
    "\n",
    "# Assuming 'df7' is your DataFrame with features and the target column\n",
    "X = df7['content'].apply(lambda x: x.split(' ', 1)[1])  # Drop the target column to get the feature columns\n",
    "y = df7['target'].apply(lambda x: int(x.split(\"__label__\")[1]))  # Target column to predict\n",
    "\n",
    "stop_words = set(stopwords.words('english'))\n",
    "\n",
    "def preprocess(text):\n",
    "    text = text.lower()\n",
    "    text = ''.join([word for word in text if word not in string.punctuation])\n",
    "    tokens = word_tokenize(text)\n",
    "    tokens = [word for word in tokens if word not in stop_words]\n",
    "    return ' '.join(tokens)\n",
    "\n",
    "X = X.apply(preprocess)"
   ]
  },
  {
   "cell_type": "code",
   "execution_count": 289,
   "id": "5cceb849",
   "metadata": {},
   "outputs": [],
   "source": [
    "# Split the data into training and testing sets\n",
    "X_train, X_test, y_train, y_test = train_test_split(X, y, test_size=0.2, random_state=42)"
   ]
  },
  {
   "cell_type": "code",
   "execution_count": 290,
   "id": "d3e693eb",
   "metadata": {},
   "outputs": [],
   "source": [
    "sentences = [sentence.split() for sentence in X_train]"
   ]
  },
  {
   "cell_type": "code",
   "execution_count": 291,
   "id": "a9b92a23",
   "metadata": {},
   "outputs": [],
   "source": [
    "# Train the Word2Vec model\n",
    "Word2Vec_model = Word2Vec(sentences, vector_size=100, window=10, min_count=2, workers=4, seed=42)"
   ]
  },
  {
   "cell_type": "code",
   "execution_count": 292,
   "id": "042be573",
   "metadata": {},
   "outputs": [],
   "source": [
    "def vectorize(sentence):\n",
    "        words = sentence.split()\n",
    "        words_vecs = [Word2Vec_model.wv[word] for word in words if word in Word2Vec_model.wv]\n",
    "        if len(words_vecs) == 0:\n",
    "            return np.zeros(100)\n",
    "        words_vecs = np.array(words_vecs)\n",
    "        return words_vecs.mean(axis=0)"
   ]
  },
  {
   "cell_type": "code",
   "execution_count": 293,
   "id": "2198c6da",
   "metadata": {},
   "outputs": [],
   "source": [
    "X_train = np.array([vectorize(sentence) for sentence in X_train])\n",
    "X_test = np.array([vectorize(sentence) for sentence in X_test])"
   ]
  },
  {
   "cell_type": "code",
   "execution_count": 294,
   "id": "10cacf99",
   "metadata": {},
   "outputs": [],
   "source": [
    "#clf = LogisticRegression()\n",
    "clf = LinearRegression()\n",
    "clf.fit(X_train, y_train)\n",
    "    \n",
    "y_pred = clf.predict(X_test)\n",
    "    \n",
    "y_pred = np.round(y_pred)\n",
    "    \n",
    "y_pred[y_pred <= 0] = 1\n",
    "y_pred[y_pred >= 2] = 2"
   ]
  },
  {
   "cell_type": "code",
   "execution_count": 295,
   "id": "a18271a0",
   "metadata": {},
   "outputs": [],
   "source": [
    "## Now that we have the predictions from the Word Embedding method we retrieve the other dataset\n",
    "## this is the dataset that will be used for the feature importance\n",
    "## based on the target value and the predicted value\n",
    "\n",
    "# Drop the target column and the first column (assuming it's the index or another non-feature column)\n",
    "X = df5c.drop(columns=['target']).iloc[:, 1:]\n",
    "y = df5c['target']\n",
    "\n",
    "# Split the data into training and testing sets\n",
    "X_train, X_test, y_train, y_test = train_test_split(X, y, test_size=0.2, random_state=42)"
   ]
  },
  {
   "cell_type": "code",
   "execution_count": 296,
   "id": "3a728052",
   "metadata": {},
   "outputs": [
    {
     "name": "stdout",
     "output_type": "stream",
     "text": [
      "Accuracy: 0.73\n"
     ]
    }
   ],
   "source": [
    "accuracy = accuracy_score(y_test, y_pred)\n",
    "print(f'Accuracy: {accuracy:.2f}')\n",
    "\n",
    "# Step 2: Split the Dataset Based on Prediction Accuracy\n",
    "correct_indices = np.where(y_test == y_pred)[0]\n",
    "incorrect_indices = np.where(y_test != y_pred)[0]\n",
    "\n",
    "X_correct = X_test.iloc[correct_indices]\n",
    "X_incorrect = X_test.iloc[incorrect_indices]"
   ]
  },
  {
   "cell_type": "code",
   "execution_count": 297,
   "id": "0aec0066",
   "metadata": {},
   "outputs": [],
   "source": [
    "results = {}\n",
    "for feature in X.columns:\n",
    "    correct_values = X_correct[feature]\n",
    "    incorrect_values = X_incorrect[feature]\n",
    "    \n",
    "    # Perform Mann-Whitney U test\n",
    "    u_stat, p_value = mannwhitneyu(correct_values, incorrect_values, alternative='two-sided')\n",
    "    \n",
    "    # Calculate Rank-Biserial Correlation (effect size)\n",
    "    n1 = len(correct_values)\n",
    "    n2 = len(incorrect_values)\n",
    "    rank_biserial = (2 * u_stat / (n1 * n2)) - 1\n",
    "    \n",
    "    results[feature] = (u_stat, p_value, rank_biserial)\n",
    "    \n",
    "\n",
    "# Convert results to a DataFrame for easier interpretation\n",
    "results_df = pd.DataFrame(results, index=['u_stat', 'p_value', 'effect_size']).T\n",
    "\n",
    "# Calculate the proportion of each attribute's contribution\n",
    "# Convert absolute rank-biserial values to importance scores\n",
    "#results_df['importance'] = results_df['effect_size'].abs()\n",
    "results_df['proportion'] = results_df['effect_size'].abs() / results_df['effect_size'].abs().sum()\n",
    "\n",
    "# Normalize the importance scores to get proportions\n",
    "#results_df['proportion'] = results_df['importance'].abs() / results_df['importance'].abs().sum()\n",
    "\n",
    "# Sort by proportion\n",
    "results_df = results_df.sort_values(by='proportion', ascending=False)"
   ]
  },
  {
   "cell_type": "code",
   "execution_count": 298,
   "id": "179051f5",
   "metadata": {},
   "outputs": [
    {
     "name": "stdout",
     "output_type": "stream",
     "text": [
      "\n",
      "Feature Importance (sorted by proportion):\n",
      "                         u_stat       p_value  effect_size  proportion\n",
      "account_balance          5722.0  1.113727e-07     0.468874    0.200022\n",
      "savings_bond_value       5107.5  8.237567e-05     0.311128    0.132727\n",
      "duration                 2915.5  6.239080e-03    -0.251572    0.107321\n",
      "intallment_rate          3060.0  1.330976e-02    -0.214478    0.091496\n",
      "other_installment_plans  4564.5  9.100791e-03     0.171737    0.073263\n",
      "age                      3239.5  6.938344e-02    -0.168399    0.071839\n",
      "nr_of_existing_credits   4234.0  2.614166e-01     0.086895    0.037069\n",
      "credit_history           4205.0  3.411175e-01     0.079451    0.033894\n",
      "residence_since          4204.0  3.685150e-01     0.079194    0.033784\n",
      "telephone                4197.5  3.090589e-01     0.077525    0.033072\n",
      "purpose                  3595.0  3.959758e-01    -0.077140    0.032908\n",
      "property                 3624.0  4.352929e-01    -0.069696    0.029732\n",
      "job                      4090.5  5.311737e-01     0.050058    0.021355\n",
      "sex_marital              4089.5  5.539521e-01     0.049801    0.021245\n",
      "type_of_housing          4081.0  5.248008e-01     0.047619    0.020314\n",
      "guarantor                3755.0  3.643577e-01    -0.036067    0.015386\n",
      "foreign                  4034.0  2.873737e-01     0.035554    0.015167\n",
      "credit_amount            3779.0  7.481266e-01    -0.029906    0.012758\n",
      "employed_since           3783.5  7.489947e-01    -0.028751    0.012265\n",
      "number_of_dependents     3855.5  8.745972e-01    -0.010268    0.004380\n"
     ]
    }
   ],
   "source": [
    "print(\"\\nFeature Importance (sorted by proportion):\")\n",
    "print(results_df)"
   ]
  },
  {
   "cell_type": "code",
   "execution_count": 299,
   "id": "08b5af91",
   "metadata": {},
   "outputs": [
    {
     "data": {
      "image/png": "[encoded data removed]",
      "text/plain": [
       "<Figure size 1000x600 with 1 Axes>"
      ]
     },
     "metadata": {},
     "output_type": "display_data"
    }
   ],
   "source": [
    "# Plot Feature Importance\n",
    "plt.figure(figsize=(10, 6))\n",
    "plt.barh(results_df.index, results_df['proportion'])\n",
    "plt.xlabel('Importance')\n",
    "plt.ylabel('Feature')\n",
    "plt.title('Feature Importance from Linear Regression')\n",
    "plt.gca().invert_yaxis()\n",
    "plt.show()"
   ]
  },
  {
   "cell_type": "code",
   "execution_count": 300,
   "id": "db0772e8",
   "metadata": {},
   "outputs": [],
   "source": [
    "# Add Rank column\n",
    "results_df['rank'] = range(1, len(results_df) + 1)\n",
    "\n",
    "# Add Model column with fixed value 'x'\n",
    "results_df['model'] = 'Word2Vec - Linear Regression'\n",
    "\n",
    "# First, reset the index to move the current index into a column named 'feature'\n",
    "results_df = results_df.reset_index().rename(columns={'index': 'feature'})"
   ]
  },
  {
   "cell_type": "code",
   "execution_count": 301,
   "id": "016c1612",
   "metadata": {},
   "outputs": [],
   "source": [
    "# Concatenate the dataframes\n",
    "all_results_df = pd.concat([all_results_df, results_df], ignore_index=True) "
   ]
  },
  {
   "cell_type": "code",
   "execution_count": 302,
   "id": "a2875910",
   "metadata": {
    "scrolled": true
   },
   "outputs": [
    {
     "data": {
      "text/html": [
       "<div>\n",
       "<style scoped>\n",
       "    .dataframe tbody tr th:only-of-type {\n",
       "        vertical-align: middle;\n",
       "    }\n",
       "\n",
       "    .dataframe tbody tr th {\n",
       "        vertical-align: top;\n",
       "    }\n",
       "\n",
       "    .dataframe thead th {\n",
       "        text-align: right;\n",
       "    }\n",
       "</style>\n",
       "<table border=\"1\" class=\"dataframe\">\n",
       "  <thead>\n",
       "    <tr style=\"text-align: right;\">\n",
       "      <th></th>\n",
       "      <th>feature</th>\n",
       "      <th>u_stat</th>\n",
       "      <th>p_value</th>\n",
       "      <th>effect_size</th>\n",
       "      <th>proportion</th>\n",
       "      <th>rank</th>\n",
       "      <th>model</th>\n",
       "    </tr>\n",
       "  </thead>\n",
       "  <tbody>\n",
       "    <tr>\n",
       "      <th>0</th>\n",
       "      <td>account_balance</td>\n",
       "      <td>4786.0</td>\n",
       "      <td>0.000028</td>\n",
       "      <td>0.394522</td>\n",
       "      <td>0.204594</td>\n",
       "      <td>1</td>\n",
       "      <td>Linear Regression</td>\n",
       "    </tr>\n",
       "    <tr>\n",
       "      <th>1</th>\n",
       "      <td>savings_bond_value</td>\n",
       "      <td>4249.5</td>\n",
       "      <td>0.004671</td>\n",
       "      <td>0.238199</td>\n",
       "      <td>0.123527</td>\n",
       "      <td>2</td>\n",
       "      <td>Linear Regression</td>\n",
       "    </tr>\n",
       "    <tr>\n",
       "      <th>2</th>\n",
       "      <td>other_installment_plans</td>\n",
       "      <td>3972.0</td>\n",
       "      <td>0.024924</td>\n",
       "      <td>0.157343</td>\n",
       "      <td>0.081596</td>\n",
       "      <td>3</td>\n",
       "      <td>Linear Regression</td>\n",
       "    </tr>\n",
       "    <tr>\n",
       "      <th>3</th>\n",
       "      <td>job</td>\n",
       "      <td>3854.5</td>\n",
       "      <td>0.147751</td>\n",
       "      <td>0.123106</td>\n",
       "      <td>0.063841</td>\n",
       "      <td>4</td>\n",
       "      <td>Linear Regression</td>\n",
       "    </tr>\n",
       "    <tr>\n",
       "      <th>4</th>\n",
       "      <td>credit_history</td>\n",
       "      <td>3847.5</td>\n",
       "      <td>0.173159</td>\n",
       "      <td>0.121066</td>\n",
       "      <td>0.062783</td>\n",
       "      <td>5</td>\n",
       "      <td>Linear Regression</td>\n",
       "    </tr>\n",
       "    <tr>\n",
       "      <th>...</th>\n",
       "      <td>...</td>\n",
       "      <td>...</td>\n",
       "      <td>...</td>\n",
       "      <td>...</td>\n",
       "      <td>...</td>\n",
       "      <td>...</td>\n",
       "      <td>...</td>\n",
       "    </tr>\n",
       "    <tr>\n",
       "      <th>215</th>\n",
       "      <td>guarantor</td>\n",
       "      <td>3755.0</td>\n",
       "      <td>0.364358</td>\n",
       "      <td>-0.036067</td>\n",
       "      <td>0.015386</td>\n",
       "      <td>16</td>\n",
       "      <td>Word2Vec - Linear Regression</td>\n",
       "    </tr>\n",
       "    <tr>\n",
       "      <th>216</th>\n",
       "      <td>foreign</td>\n",
       "      <td>4034.0</td>\n",
       "      <td>0.287374</td>\n",
       "      <td>0.035554</td>\n",
       "      <td>0.015167</td>\n",
       "      <td>17</td>\n",
       "      <td>Word2Vec - Linear Regression</td>\n",
       "    </tr>\n",
       "    <tr>\n",
       "      <th>217</th>\n",
       "      <td>credit_amount</td>\n",
       "      <td>3779.0</td>\n",
       "      <td>0.748127</td>\n",
       "      <td>-0.029906</td>\n",
       "      <td>0.012758</td>\n",
       "      <td>18</td>\n",
       "      <td>Word2Vec - Linear Regression</td>\n",
       "    </tr>\n",
       "    <tr>\n",
       "      <th>218</th>\n",
       "      <td>employed_since</td>\n",
       "      <td>3783.5</td>\n",
       "      <td>0.748995</td>\n",
       "      <td>-0.028751</td>\n",
       "      <td>0.012265</td>\n",
       "      <td>19</td>\n",
       "      <td>Word2Vec - Linear Regression</td>\n",
       "    </tr>\n",
       "    <tr>\n",
       "      <th>219</th>\n",
       "      <td>number_of_dependents</td>\n",
       "      <td>3855.5</td>\n",
       "      <td>0.874597</td>\n",
       "      <td>-0.010268</td>\n",
       "      <td>0.004380</td>\n",
       "      <td>20</td>\n",
       "      <td>Word2Vec - Linear Regression</td>\n",
       "    </tr>\n",
       "  </tbody>\n",
       "</table>\n",
       "<p>220 rows × 7 columns</p>\n",
       "</div>"
      ],
      "text/plain": [
       "                     feature  u_stat   p_value  effect_size  proportion  rank  \\\n",
       "0            account_balance  4786.0  0.000028     0.394522    0.204594     1   \n",
       "1         savings_bond_value  4249.5  0.004671     0.238199    0.123527     2   \n",
       "2    other_installment_plans  3972.0  0.024924     0.157343    0.081596     3   \n",
       "3                        job  3854.5  0.147751     0.123106    0.063841     4   \n",
       "4             credit_history  3847.5  0.173159     0.121066    0.062783     5   \n",
       "..                       ...     ...       ...          ...         ...   ...   \n",
       "215                guarantor  3755.0  0.364358    -0.036067    0.015386    16   \n",
       "216                  foreign  4034.0  0.287374     0.035554    0.015167    17   \n",
       "217            credit_amount  3779.0  0.748127    -0.029906    0.012758    18   \n",
       "218           employed_since  3783.5  0.748995    -0.028751    0.012265    19   \n",
       "219     number_of_dependents  3855.5  0.874597    -0.010268    0.004380    20   \n",
       "\n",
       "                            model  \n",
       "0               Linear Regression  \n",
       "1               Linear Regression  \n",
       "2               Linear Regression  \n",
       "3               Linear Regression  \n",
       "4               Linear Regression  \n",
       "..                            ...  \n",
       "215  Word2Vec - Linear Regression  \n",
       "216  Word2Vec - Linear Regression  \n",
       "217  Word2Vec - Linear Regression  \n",
       "218  Word2Vec - Linear Regression  \n",
       "219  Word2Vec - Linear Regression  \n",
       "\n",
       "[220 rows x 7 columns]"
      ]
     },
     "execution_count": 302,
     "metadata": {},
     "output_type": "execute_result"
    }
   ],
   "source": [
    "all_results_df"
   ]
  },
  {
   "cell_type": "code",
   "execution_count": null,
   "id": "e0d60daa",
   "metadata": {},
   "outputs": [],
   "source": []
  },
  {
   "cell_type": "code",
   "execution_count": 303,
   "id": "945ded24",
   "metadata": {},
   "outputs": [],
   "source": [
    "results_df1 = all_results_df.copy()"
   ]
  },
  {
   "cell_type": "code",
   "execution_count": 304,
   "id": "63710306",
   "metadata": {},
   "outputs": [
    {
     "name": "stdout",
     "output_type": "stream",
     "text": [
      "model   Bagged Tree Classifier Decision Tree Classifier  \\\n",
      "rank                                                      \n",
      "1              account_balance          account_balance   \n",
      "2           savings_bond_value           credit_history   \n",
      "3               credit_history       savings_bond_value   \n",
      "4              residence_since   nr_of_existing_credits   \n",
      "5       nr_of_existing_credits            credit_amount   \n",
      "6                    telephone          intallment_rate   \n",
      "7                          job                      job   \n",
      "8              type_of_housing                      age   \n",
      "9                     duration  other_installment_plans   \n",
      "10               credit_amount          type_of_housing   \n",
      "11                    property                 duration   \n",
      "12              employed_since                guarantor   \n",
      "13             intallment_rate                telephone   \n",
      "14                     purpose              sex_marital   \n",
      "15        number_of_dependents                  purpose   \n",
      "16                 sex_marital     number_of_dependents   \n",
      "17                     foreign                 property   \n",
      "18                   guarantor           employed_since   \n",
      "19     other_installment_plans                  foreign   \n",
      "20                         age          residence_since   \n",
      "\n",
      "model FastText - Linear Regression FastText - train_supervised  \\\n",
      "rank                                                             \n",
      "1                  account_balance             account_balance   \n",
      "2          other_installment_plans             intallment_rate   \n",
      "3                  intallment_rate               credit_amount   \n",
      "4                         duration          savings_bond_value   \n",
      "5               savings_bond_value                   telephone   \n",
      "6                   credit_history              credit_history   \n",
      "7                          purpose                     purpose   \n",
      "8                    credit_amount     other_installment_plans   \n",
      "9                  type_of_housing      nr_of_existing_credits   \n",
      "10                     sex_marital        number_of_dependents   \n",
      "11          nr_of_existing_credits             residence_since   \n",
      "12            number_of_dependents                         job   \n",
      "13                       guarantor             type_of_housing   \n",
      "14                             age              employed_since   \n",
      "15                  employed_since                         age   \n",
      "16                         foreign                    property   \n",
      "17                       telephone                 sex_marital   \n",
      "18                             job                     foreign   \n",
      "19                 residence_since                   guarantor   \n",
      "20                        property                    duration   \n",
      "\n",
      "model                 LightGBM        Linear Regression  \\\n",
      "rank                                                      \n",
      "1              account_balance          account_balance   \n",
      "2               credit_history       savings_bond_value   \n",
      "3              residence_since  other_installment_plans   \n",
      "4                          job                      job   \n",
      "5                  sex_marital           credit_history   \n",
      "6       nr_of_existing_credits   nr_of_existing_credits   \n",
      "7                    telephone                 duration   \n",
      "8           savings_bond_value          residence_since   \n",
      "9                      purpose            credit_amount   \n",
      "10     other_installment_plans                telephone   \n",
      "11               credit_amount                  purpose   \n",
      "12                    property          intallment_rate   \n",
      "13                    duration                guarantor   \n",
      "14             type_of_housing                      age   \n",
      "15             intallment_rate              sex_marital   \n",
      "16                     foreign           employed_since   \n",
      "17              employed_since     number_of_dependents   \n",
      "18                   guarantor                 property   \n",
      "19                         age          type_of_housing   \n",
      "20        number_of_dependents                  foreign   \n",
      "\n",
      "model      Logistic Regression Random Forest Classifier  \\\n",
      "rank                                                      \n",
      "1              account_balance          account_balance   \n",
      "2           savings_bond_value       savings_bond_value   \n",
      "3      other_installment_plans                telephone   \n",
      "4                          age           credit_history   \n",
      "5               credit_history          type_of_housing   \n",
      "6                     duration   nr_of_existing_credits   \n",
      "7              type_of_housing                      job   \n",
      "8              residence_since              sex_marital   \n",
      "9                      purpose           employed_since   \n",
      "10      nr_of_existing_credits                guarantor   \n",
      "11                    property                 property   \n",
      "12        number_of_dependents                 duration   \n",
      "13             intallment_rate          intallment_rate   \n",
      "14                         job          residence_since   \n",
      "15                   guarantor                      age   \n",
      "16                   telephone            credit_amount   \n",
      "17                 sex_marital  other_installment_plans   \n",
      "18               credit_amount     number_of_dependents   \n",
      "19                     foreign                  foreign   \n",
      "20              employed_since                  purpose   \n",
      "\n",
      "model                      SVC Word2Vec - Linear Regression  \\\n",
      "rank                                                          \n",
      "1              account_balance              account_balance   \n",
      "2           savings_bond_value           savings_bond_value   \n",
      "3                     duration                     duration   \n",
      "4              intallment_rate              intallment_rate   \n",
      "5                    telephone      other_installment_plans   \n",
      "6                          job                          age   \n",
      "7               credit_history       nr_of_existing_credits   \n",
      "8               employed_since               credit_history   \n",
      "9                  sex_marital              residence_since   \n",
      "10                         age                    telephone   \n",
      "11     other_installment_plans                      purpose   \n",
      "12      nr_of_existing_credits                     property   \n",
      "13                    property                          job   \n",
      "14                   guarantor                  sex_marital   \n",
      "15                     foreign              type_of_housing   \n",
      "16                     purpose                    guarantor   \n",
      "17             type_of_housing                      foreign   \n",
      "18        number_of_dependents                credit_amount   \n",
      "19             residence_since               employed_since   \n",
      "20               credit_amount         number_of_dependents   \n",
      "\n",
      "model                  XGBoost  \n",
      "rank                            \n",
      "1              account_balance  \n",
      "2           savings_bond_value  \n",
      "3                    telephone  \n",
      "4              intallment_rate  \n",
      "5                     duration  \n",
      "6              residence_since  \n",
      "7       nr_of_existing_credits  \n",
      "8               credit_history  \n",
      "9                          job  \n",
      "10             type_of_housing  \n",
      "11     other_installment_plans  \n",
      "12                    property  \n",
      "13              employed_since  \n",
      "14        number_of_dependents  \n",
      "15                         age  \n",
      "16                     foreign  \n",
      "17               credit_amount  \n",
      "18                   guarantor  \n",
      "19                     purpose  \n",
      "20                 sex_marital  \n"
     ]
    }
   ],
   "source": [
    "# Set the index to 'rank'\n",
    "results_df1.set_index('rank', inplace=True)\n",
    "\n",
    "# Pivot the DataFrame so that 'model' values become columns and the 'feature' values are listed under each column\n",
    "transformed_df = results_df1.pivot(columns='model', values='feature')\n",
    "\n",
    "# Reset the index to have a simple enumeration and bring 'rank' as a column\n",
    "#transformed_df = transformed_df.reset_index()\n",
    "\n",
    "# Display the transformed DataFrame\n",
    "print(transformed_df)"
   ]
  },
  {
   "cell_type": "code",
   "execution_count": 305,
   "id": "d9b12a44",
   "metadata": {},
   "outputs": [
    {
     "data": {
      "text/html": [
       "<div>\n",
       "<style scoped>\n",
       "    .dataframe tbody tr th:only-of-type {\n",
       "        vertical-align: middle;\n",
       "    }\n",
       "\n",
       "    .dataframe tbody tr th {\n",
       "        vertical-align: top;\n",
       "    }\n",
       "\n",
       "    .dataframe thead th {\n",
       "        text-align: right;\n",
       "    }\n",
       "</style>\n",
       "<table border=\"1\" class=\"dataframe\">\n",
       "  <thead>\n",
       "    <tr style=\"text-align: right;\">\n",
       "      <th>model</th>\n",
       "      <th>Word2Vec - Linear Regression</th>\n",
       "      <th>FastText - train_supervised</th>\n",
       "      <th>FastText - Linear Regression</th>\n",
       "    </tr>\n",
       "    <tr>\n",
       "      <th>rank</th>\n",
       "      <th></th>\n",
       "      <th></th>\n",
       "      <th></th>\n",
       "    </tr>\n",
       "  </thead>\n",
       "  <tbody>\n",
       "    <tr>\n",
       "      <th>1</th>\n",
       "      <td>account_balance</td>\n",
       "      <td>account_balance</td>\n",
       "      <td>account_balance</td>\n",
       "    </tr>\n",
       "    <tr>\n",
       "      <th>2</th>\n",
       "      <td>savings_bond_value</td>\n",
       "      <td>intallment_rate</td>\n",
       "      <td>other_installment_plans</td>\n",
       "    </tr>\n",
       "    <tr>\n",
       "      <th>3</th>\n",
       "      <td>duration</td>\n",
       "      <td>credit_amount</td>\n",
       "      <td>intallment_rate</td>\n",
       "    </tr>\n",
       "    <tr>\n",
       "      <th>4</th>\n",
       "      <td>intallment_rate</td>\n",
       "      <td>savings_bond_value</td>\n",
       "      <td>duration</td>\n",
       "    </tr>\n",
       "    <tr>\n",
       "      <th>5</th>\n",
       "      <td>other_installment_plans</td>\n",
       "      <td>telephone</td>\n",
       "      <td>savings_bond_value</td>\n",
       "    </tr>\n",
       "  </tbody>\n",
       "</table>\n",
       "</div>"
      ],
      "text/plain": [
       "model Word2Vec - Linear Regression FastText - train_supervised  \\\n",
       "rank                                                             \n",
       "1                  account_balance             account_balance   \n",
       "2               savings_bond_value             intallment_rate   \n",
       "3                         duration               credit_amount   \n",
       "4                  intallment_rate          savings_bond_value   \n",
       "5          other_installment_plans                   telephone   \n",
       "\n",
       "model FastText - Linear Regression  \n",
       "rank                                \n",
       "1                  account_balance  \n",
       "2          other_installment_plans  \n",
       "3                  intallment_rate  \n",
       "4                         duration  \n",
       "5               savings_bond_value  "
      ]
     },
     "execution_count": 305,
     "metadata": {},
     "output_type": "execute_result"
    }
   ],
   "source": [
    "transformed_df[['Word2Vec - Linear Regression','FastText - train_supervised','FastText - Linear Regression']].head(5)"
   ]
  },
  {
   "cell_type": "code",
   "execution_count": 306,
   "id": "b1c4d75c",
   "metadata": {
    "scrolled": true
   },
   "outputs": [
    {
     "data": {
      "text/html": [
       "<div>\n",
       "<style scoped>\n",
       "    .dataframe tbody tr th:only-of-type {\n",
       "        vertical-align: middle;\n",
       "    }\n",
       "\n",
       "    .dataframe tbody tr th {\n",
       "        vertical-align: top;\n",
       "    }\n",
       "\n",
       "    .dataframe thead th {\n",
       "        text-align: right;\n",
       "    }\n",
       "</style>\n",
       "<table border=\"1\" class=\"dataframe\">\n",
       "  <thead>\n",
       "    <tr style=\"text-align: right;\">\n",
       "      <th>model</th>\n",
       "      <th>Bagged Tree Classifier</th>\n",
       "      <th>Decision Tree Classifier</th>\n",
       "      <th>LightGBM</th>\n",
       "      <th>Linear Regression</th>\n",
       "      <th>Logistic Regression</th>\n",
       "      <th>Random Forest Classifier</th>\n",
       "      <th>SVC</th>\n",
       "      <th>XGBoost</th>\n",
       "    </tr>\n",
       "    <tr>\n",
       "      <th>rank</th>\n",
       "      <th></th>\n",
       "      <th></th>\n",
       "      <th></th>\n",
       "      <th></th>\n",
       "      <th></th>\n",
       "      <th></th>\n",
       "      <th></th>\n",
       "      <th></th>\n",
       "    </tr>\n",
       "  </thead>\n",
       "  <tbody>\n",
       "    <tr>\n",
       "      <th>1</th>\n",
       "      <td>account_balance</td>\n",
       "      <td>account_balance</td>\n",
       "      <td>account_balance</td>\n",
       "      <td>account_balance</td>\n",
       "      <td>account_balance</td>\n",
       "      <td>account_balance</td>\n",
       "      <td>account_balance</td>\n",
       "      <td>account_balance</td>\n",
       "    </tr>\n",
       "    <tr>\n",
       "      <th>2</th>\n",
       "      <td>savings_bond_value</td>\n",
       "      <td>credit_history</td>\n",
       "      <td>credit_history</td>\n",
       "      <td>savings_bond_value</td>\n",
       "      <td>savings_bond_value</td>\n",
       "      <td>savings_bond_value</td>\n",
       "      <td>savings_bond_value</td>\n",
       "      <td>savings_bond_value</td>\n",
       "    </tr>\n",
       "    <tr>\n",
       "      <th>3</th>\n",
       "      <td>credit_history</td>\n",
       "      <td>savings_bond_value</td>\n",
       "      <td>residence_since</td>\n",
       "      <td>other_installment_plans</td>\n",
       "      <td>other_installment_plans</td>\n",
       "      <td>telephone</td>\n",
       "      <td>duration</td>\n",
       "      <td>telephone</td>\n",
       "    </tr>\n",
       "    <tr>\n",
       "      <th>4</th>\n",
       "      <td>residence_since</td>\n",
       "      <td>nr_of_existing_credits</td>\n",
       "      <td>job</td>\n",
       "      <td>job</td>\n",
       "      <td>age</td>\n",
       "      <td>credit_history</td>\n",
       "      <td>intallment_rate</td>\n",
       "      <td>intallment_rate</td>\n",
       "    </tr>\n",
       "    <tr>\n",
       "      <th>5</th>\n",
       "      <td>nr_of_existing_credits</td>\n",
       "      <td>credit_amount</td>\n",
       "      <td>sex_marital</td>\n",
       "      <td>credit_history</td>\n",
       "      <td>credit_history</td>\n",
       "      <td>type_of_housing</td>\n",
       "      <td>telephone</td>\n",
       "      <td>duration</td>\n",
       "    </tr>\n",
       "  </tbody>\n",
       "</table>\n",
       "</div>"
      ],
      "text/plain": [
       "model  Bagged Tree Classifier Decision Tree Classifier         LightGBM  \\\n",
       "rank                                                                      \n",
       "1             account_balance          account_balance  account_balance   \n",
       "2          savings_bond_value           credit_history   credit_history   \n",
       "3              credit_history       savings_bond_value  residence_since   \n",
       "4             residence_since   nr_of_existing_credits              job   \n",
       "5      nr_of_existing_credits            credit_amount      sex_marital   \n",
       "\n",
       "model        Linear Regression      Logistic Regression  \\\n",
       "rank                                                      \n",
       "1              account_balance          account_balance   \n",
       "2           savings_bond_value       savings_bond_value   \n",
       "3      other_installment_plans  other_installment_plans   \n",
       "4                          job                      age   \n",
       "5               credit_history           credit_history   \n",
       "\n",
       "model Random Forest Classifier                 SVC             XGBoost  \n",
       "rank                                                                    \n",
       "1              account_balance     account_balance     account_balance  \n",
       "2           savings_bond_value  savings_bond_value  savings_bond_value  \n",
       "3                    telephone            duration           telephone  \n",
       "4               credit_history     intallment_rate     intallment_rate  \n",
       "5              type_of_housing           telephone            duration  "
      ]
     },
     "execution_count": 306,
     "metadata": {},
     "output_type": "execute_result"
    }
   ],
   "source": [
    "transformed_df.loc[:, ~transformed_df.columns.isin(['Word2Vec - Linear Regression','FastText - train_supervised','FastText - Linear Regression'])].head(5)"
   ]
  },
  {
   "cell_type": "code",
   "execution_count": null,
   "id": "3ad32578",
   "metadata": {
    "scrolled": true
   },
   "outputs": [],
   "source": []
  },
  {
   "cell_type": "code",
   "execution_count": 307,
   "id": "2aa5cb8a",
   "metadata": {},
   "outputs": [],
   "source": [
    "# Group by 'feature' and calculate the mean of all other columns\n",
    "average_df = all_results_df.drop(columns=['model']).groupby('feature').mean()\n",
    "\n",
    "# Sort the resulting DataFrame by the 'rank' column in ascending order\n",
    "average_df = average_df.sort_values(by='rank', ascending=True)\n",
    "\n",
    "# Reset index to have 'feature' as a column\n",
    "average_df = average_df.reset_index()"
   ]
  },
  {
   "cell_type": "code",
   "execution_count": 308,
   "id": "67dad585",
   "metadata": {},
   "outputs": [
    {
     "data": {
      "text/html": [
       "<div>\n",
       "<style scoped>\n",
       "    .dataframe tbody tr th:only-of-type {\n",
       "        vertical-align: middle;\n",
       "    }\n",
       "\n",
       "    .dataframe tbody tr th {\n",
       "        vertical-align: top;\n",
       "    }\n",
       "\n",
       "    .dataframe thead th {\n",
       "        text-align: right;\n",
       "    }\n",
       "</style>\n",
       "<table border=\"1\" class=\"dataframe\">\n",
       "  <thead>\n",
       "    <tr style=\"text-align: right;\">\n",
       "      <th></th>\n",
       "      <th>feature</th>\n",
       "      <th>u_stat</th>\n",
       "      <th>p_value</th>\n",
       "      <th>effect_size</th>\n",
       "      <th>proportion</th>\n",
       "      <th>rank</th>\n",
       "    </tr>\n",
       "  </thead>\n",
       "  <tbody>\n",
       "    <tr>\n",
       "      <th>0</th>\n",
       "      <td>account_balance</td>\n",
       "      <td>4992.500000</td>\n",
       "      <td>0.000758</td>\n",
       "      <td>0.368131</td>\n",
       "      <td>0.186099</td>\n",
       "      <td>1.000000</td>\n",
       "    </tr>\n",
       "    <tr>\n",
       "      <th>1</th>\n",
       "      <td>savings_bond_value</td>\n",
       "      <td>4426.090909</td>\n",
       "      <td>0.031834</td>\n",
       "      <td>0.213706</td>\n",
       "      <td>0.106683</td>\n",
       "      <td>3.090909</td>\n",
       "    </tr>\n",
       "    <tr>\n",
       "      <th>2</th>\n",
       "      <td>credit_history</td>\n",
       "      <td>4139.772727</td>\n",
       "      <td>0.146913</td>\n",
       "      <td>0.138907</td>\n",
       "      <td>0.070719</td>\n",
       "      <td>5.090909</td>\n",
       "    </tr>\n",
       "    <tr>\n",
       "      <th>3</th>\n",
       "      <td>nr_of_existing_credits</td>\n",
       "      <td>4029.318182</td>\n",
       "      <td>0.211201</td>\n",
       "      <td>0.107898</td>\n",
       "      <td>0.054955</td>\n",
       "      <td>7.545455</td>\n",
       "    </tr>\n",
       "    <tr>\n",
       "      <th>4</th>\n",
       "      <td>intallment_rate</td>\n",
       "      <td>3173.227273</td>\n",
       "      <td>0.285469</td>\n",
       "      <td>-0.124146</td>\n",
       "      <td>0.061799</td>\n",
       "      <td>8.090909</td>\n",
       "    </tr>\n",
       "  </tbody>\n",
       "</table>\n",
       "</div>"
      ],
      "text/plain": [
       "                  feature       u_stat   p_value  effect_size  proportion  \\\n",
       "0         account_balance  4992.500000  0.000758     0.368131    0.186099   \n",
       "1      savings_bond_value  4426.090909  0.031834     0.213706    0.106683   \n",
       "2          credit_history  4139.772727  0.146913     0.138907    0.070719   \n",
       "3  nr_of_existing_credits  4029.318182  0.211201     0.107898    0.054955   \n",
       "4         intallment_rate  3173.227273  0.285469    -0.124146    0.061799   \n",
       "\n",
       "       rank  \n",
       "0  1.000000  \n",
       "1  3.090909  \n",
       "2  5.090909  \n",
       "3  7.545455  \n",
       "4  8.090909  "
      ]
     },
     "execution_count": 308,
     "metadata": {},
     "output_type": "execute_result"
    }
   ],
   "source": [
    "# Display the result\n",
    "average_df.head(5)"
   ]
  },
  {
   "cell_type": "code",
   "execution_count": null,
   "id": "bd149f34",
   "metadata": {},
   "outputs": [],
   "source": []
  }
 ],
 "metadata": {
  "kernelspec": {
   "display_name": "Python 3 (ipykernel)",
   "language": "python",
   "name": "python3"
  },
  "language_info": {
   "codemirror_mode": {
    "name": "ipython",
    "version": 3
   },
   "file_extension": ".py",
   "mimetype": "text/x-python",
   "name": "python",
   "nbconvert_exporter": "python",
   "pygments_lexer": "ipython3",
   "version": "3.11.5"
  }
 },
 "nbformat": 4,
 "nbformat_minor": 5
}
